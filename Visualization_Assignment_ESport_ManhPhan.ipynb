{
 "cells": [
  {
   "cell_type": "markdown",
   "id": "e4083bbf",
   "metadata": {},
   "source": [
    "# Introduction\n",
    "\n",
    "In this notebook, I selected the dataset from Kaggle about the **Esport industry**, mainly about its earning. The reasons to select it are:\n",
    "1. It is a small size of data, that could be easy to handle for a new analyst\n",
    "2. It can be done in a reasonable time\n",
    "3. I feel interested and curious about the data set although it is not my domain\n",
    "\n",
    "After reading the notebook, the reader should have an overview and some interesting facts about the ESport industry. Further analysis could be done with more time and discussion.\n",
    "\n",
    "The link below is where the dataset can be found:\n",
    "\n",
    "[Kaggle: Esport dataset](https://www.kaggle.com/rushikeshhiray/esport-earnings?select=ESport_Earnings.csv)"
   ]
  },
  {
   "cell_type": "markdown",
   "id": "4a451d16",
   "metadata": {
    "ExecuteTime": {
     "end_time": "2021-05-30T09:40:39.569572Z",
     "start_time": "2021-05-30T09:40:39.566811Z"
    }
   },
   "source": [
    "# Importing libraries"
   ]
  },
  {
   "cell_type": "code",
   "execution_count": 1,
   "id": "64bd64f7",
   "metadata": {
    "ExecuteTime": {
     "end_time": "2021-07-08T17:24:41.836245Z",
     "start_time": "2021-07-08T17:24:40.296356Z"
    }
   },
   "outputs": [
    {
     "data": {
      "text/html": [
       "        <script type=\"text/javascript\">\n",
       "        window.PlotlyConfig = {MathJaxConfig: 'local'};\n",
       "        if (window.MathJax) {MathJax.Hub.Config({SVG: {font: \"STIX-Web\"}});}\n",
       "        if (typeof require !== 'undefined') {\n",
       "        require.undef(\"plotly\");\n",
       "        requirejs.config({\n",
       "            paths: {\n",
       "                'plotly': ['https://cdn.plot.ly/plotly-latest.min']\n",
       "            }\n",
       "        });\n",
       "        require(['plotly'], function(Plotly) {\n",
       "            window._Plotly = Plotly;\n",
       "        });\n",
       "        }\n",
       "        </script>\n",
       "        "
      ]
     },
     "metadata": {},
     "output_type": "display_data"
    },
    {
     "data": {
      "text/html": [
       "        <script type=\"text/javascript\">\n",
       "        window.PlotlyConfig = {MathJaxConfig: 'local'};\n",
       "        if (window.MathJax) {MathJax.Hub.Config({SVG: {font: \"STIX-Web\"}});}\n",
       "        if (typeof require !== 'undefined') {\n",
       "        require.undef(\"plotly\");\n",
       "        requirejs.config({\n",
       "            paths: {\n",
       "                'plotly': ['https://cdn.plot.ly/plotly-latest.min']\n",
       "            }\n",
       "        });\n",
       "        require(['plotly'], function(Plotly) {\n",
       "            window._Plotly = Plotly;\n",
       "        });\n",
       "        }\n",
       "        </script>\n",
       "        "
      ]
     },
     "metadata": {},
     "output_type": "display_data"
    }
   ],
   "source": [
    "# import seaborn\n",
    "import seaborn as sns\n",
    "import matplotlib.pyplot as plt\n",
    "\n",
    "# plotly standard imports\n",
    "import plotly.express as px\n",
    "import plotly.graph_objects as go\n",
    "import chart_studio.plotly as py\n",
    "\n",
    "# cufflinks\n",
    "import cufflinks as cf\n",
    "\n",
    "# for data loading\n",
    "import numpy as np\n",
    "import pandas as pd\n",
    "pd.options.display.max_columns=30\n",
    "\n",
    "# Display all the cell ouput\n",
    "from IPython.core.interactiveshell import InteractiveShell\n",
    "InteractiveShell.ast_node_interactivity=\"all\"\n",
    "\n",
    "# since we are working with the cufflinks \n",
    "# set plotly+cufflinks in offline mode\n",
    "from plotly.offline import iplot, init_notebook_mode\n",
    "init_notebook_mode(connected=True)\n",
    "cf.go_offline(connected=True)\n",
    "# SETTING THE THEME IN CUFFLINKS\n",
    "cf.set_config_file(theme='pearl')"
   ]
  },
  {
   "cell_type": "markdown",
   "id": "6d7f112b",
   "metadata": {},
   "source": [
    "# Import the data"
   ]
  },
  {
   "cell_type": "code",
   "execution_count": 2,
   "id": "8c861c3d",
   "metadata": {
    "ExecuteTime": {
     "end_time": "2021-07-08T17:24:43.291442Z",
     "start_time": "2021-07-08T17:24:43.239753Z"
    }
   },
   "outputs": [
    {
     "data": {
      "text/html": [
       "<div>\n",
       "<style scoped>\n",
       "    .dataframe tbody tr th:only-of-type {\n",
       "        vertical-align: middle;\n",
       "    }\n",
       "\n",
       "    .dataframe tbody tr th {\n",
       "        vertical-align: top;\n",
       "    }\n",
       "\n",
       "    .dataframe thead th {\n",
       "        text-align: right;\n",
       "    }\n",
       "</style>\n",
       "<table border=\"1\" class=\"dataframe\">\n",
       "  <thead>\n",
       "    <tr style=\"text-align: right;\">\n",
       "      <th></th>\n",
       "      <th>IdNo</th>\n",
       "      <th>TotalMoney</th>\n",
       "      <th>GameName</th>\n",
       "      <th>Genre</th>\n",
       "      <th>PlayerNo</th>\n",
       "      <th>TournamentNo</th>\n",
       "      <th>Top_Country</th>\n",
       "      <th>Top_Country_Earnings</th>\n",
       "      <th>Releaseyear</th>\n",
       "    </tr>\n",
       "  </thead>\n",
       "  <tbody>\n",
       "    <tr>\n",
       "      <th>0</th>\n",
       "      <td>613</td>\n",
       "      <td>310.00</td>\n",
       "      <td>Acceleration of SUGURI 2</td>\n",
       "      <td>Fighting Game</td>\n",
       "      <td>6</td>\n",
       "      <td>2</td>\n",
       "      <td>United States</td>\n",
       "      <td>310.00</td>\n",
       "      <td>2018</td>\n",
       "    </tr>\n",
       "    <tr>\n",
       "      <th>1</th>\n",
       "      <td>510</td>\n",
       "      <td>190075.61</td>\n",
       "      <td>Age of Empires</td>\n",
       "      <td>Strategy</td>\n",
       "      <td>246</td>\n",
       "      <td>95</td>\n",
       "      <td>Viet Nam</td>\n",
       "      <td>123408.43</td>\n",
       "      <td>1997</td>\n",
       "    </tr>\n",
       "    <tr>\n",
       "      <th>2</th>\n",
       "      <td>179</td>\n",
       "      <td>1492489.51</td>\n",
       "      <td>Age of Empires II</td>\n",
       "      <td>Strategy</td>\n",
       "      <td>956</td>\n",
       "      <td>576</td>\n",
       "      <td>China</td>\n",
       "      <td>174252.44</td>\n",
       "      <td>1999</td>\n",
       "    </tr>\n",
       "    <tr>\n",
       "      <th>3</th>\n",
       "      <td>177</td>\n",
       "      <td>68113.85</td>\n",
       "      <td>Age of Empires III</td>\n",
       "      <td>Strategy</td>\n",
       "      <td>106</td>\n",
       "      <td>76</td>\n",
       "      <td>United States</td>\n",
       "      <td>18523.52</td>\n",
       "      <td>2005</td>\n",
       "    </tr>\n",
       "    <tr>\n",
       "      <th>4</th>\n",
       "      <td>540</td>\n",
       "      <td>2668.00</td>\n",
       "      <td>Age of Empires Online</td>\n",
       "      <td>Strategy</td>\n",
       "      <td>16</td>\n",
       "      <td>7</td>\n",
       "      <td>Germany</td>\n",
       "      <td>1264.00</td>\n",
       "      <td>2011</td>\n",
       "    </tr>\n",
       "    <tr>\n",
       "      <th>...</th>\n",
       "      <td>...</td>\n",
       "      <td>...</td>\n",
       "      <td>...</td>\n",
       "      <td>...</td>\n",
       "      <td>...</td>\n",
       "      <td>...</td>\n",
       "      <td>...</td>\n",
       "      <td>...</td>\n",
       "      <td>...</td>\n",
       "    </tr>\n",
       "    <tr>\n",
       "      <th>499</th>\n",
       "      <td>165</td>\n",
       "      <td>4957837.61</td>\n",
       "      <td>World of WarCraft</td>\n",
       "      <td>Role-Playing Game</td>\n",
       "      <td>413</td>\n",
       "      <td>118</td>\n",
       "      <td>United States</td>\n",
       "      <td>1416887.48</td>\n",
       "      <td>2004</td>\n",
       "    </tr>\n",
       "    <tr>\n",
       "      <th>500</th>\n",
       "      <td>623</td>\n",
       "      <td>50000.00</td>\n",
       "      <td>WWE 2K20</td>\n",
       "      <td>Fighting Game</td>\n",
       "      <td>20</td>\n",
       "      <td>2</td>\n",
       "      <td>United States</td>\n",
       "      <td>43500.00</td>\n",
       "      <td>2019</td>\n",
       "    </tr>\n",
       "    <tr>\n",
       "      <th>501</th>\n",
       "      <td>376</td>\n",
       "      <td>5489.65</td>\n",
       "      <td>Xonotic</td>\n",
       "      <td>First-Person Shooter</td>\n",
       "      <td>133</td>\n",
       "      <td>25</td>\n",
       "      <td>Netherlands</td>\n",
       "      <td>1881.44</td>\n",
       "      <td>2010</td>\n",
       "    </tr>\n",
       "    <tr>\n",
       "      <th>502</th>\n",
       "      <td>520</td>\n",
       "      <td>48746.72</td>\n",
       "      <td>Yu-Gi-Oh! Duel Links</td>\n",
       "      <td>Collectible Card Game</td>\n",
       "      <td>328</td>\n",
       "      <td>219</td>\n",
       "      <td>United States</td>\n",
       "      <td>19983.28</td>\n",
       "      <td>2016</td>\n",
       "    </tr>\n",
       "    <tr>\n",
       "      <th>503</th>\n",
       "      <td>535</td>\n",
       "      <td>100000.00</td>\n",
       "      <td>Zula</td>\n",
       "      <td>First-Person Shooter</td>\n",
       "      <td>20</td>\n",
       "      <td>1</td>\n",
       "      <td>Poland</td>\n",
       "      <td>65000.00</td>\n",
       "      <td>2015</td>\n",
       "    </tr>\n",
       "  </tbody>\n",
       "</table>\n",
       "<p>504 rows × 9 columns</p>\n",
       "</div>"
      ],
      "text/plain": [
       "     IdNo  TotalMoney                  GameName                  Genre  \\\n",
       "0     613      310.00  Acceleration of SUGURI 2          Fighting Game   \n",
       "1     510   190075.61            Age of Empires               Strategy   \n",
       "2     179  1492489.51         Age of Empires II               Strategy   \n",
       "3     177    68113.85        Age of Empires III               Strategy   \n",
       "4     540     2668.00     Age of Empires Online               Strategy   \n",
       "..    ...         ...                       ...                    ...   \n",
       "499   165  4957837.61         World of WarCraft      Role-Playing Game   \n",
       "500   623    50000.00                  WWE 2K20          Fighting Game   \n",
       "501   376     5489.65                   Xonotic   First-Person Shooter   \n",
       "502   520    48746.72      Yu-Gi-Oh! Duel Links  Collectible Card Game   \n",
       "503   535   100000.00                      Zula   First-Person Shooter   \n",
       "\n",
       "     PlayerNo  TournamentNo    Top_Country  Top_Country_Earnings  Releaseyear  \n",
       "0           6             2  United States                310.00         2018  \n",
       "1         246            95       Viet Nam             123408.43         1997  \n",
       "2         956           576          China             174252.44         1999  \n",
       "3         106            76  United States              18523.52         2005  \n",
       "4          16             7        Germany               1264.00         2011  \n",
       "..        ...           ...            ...                   ...          ...  \n",
       "499       413           118  United States            1416887.48         2004  \n",
       "500        20             2  United States              43500.00         2019  \n",
       "501       133            25    Netherlands               1881.44         2010  \n",
       "502       328           219  United States              19983.28         2016  \n",
       "503        20             1         Poland              65000.00         2015  \n",
       "\n",
       "[504 rows x 9 columns]"
      ]
     },
     "execution_count": 2,
     "metadata": {},
     "output_type": "execute_result"
    }
   ],
   "source": [
    "df=pd.read_csv('ESport_Earnings.csv')\n",
    "df"
   ]
  },
  {
   "cell_type": "markdown",
   "id": "5deb85f4",
   "metadata": {},
   "source": [
    "# Tidying\n",
    "\n",
    "- The data seem quite clean, no missing, duplicate value.\n",
    "- No variable is setted as column\n",
    "- However, i try to make its columns into correct types for later analysis, especially the Releaseyear"
   ]
  },
  {
   "cell_type": "code",
   "execution_count": 3,
   "id": "8d627f29",
   "metadata": {
    "ExecuteTime": {
     "end_time": "2021-07-08T17:24:46.827395Z",
     "start_time": "2021-07-08T17:24:46.808157Z"
    }
   },
   "outputs": [
    {
     "name": "stdout",
     "output_type": "stream",
     "text": [
      "<class 'pandas.core.frame.DataFrame'>\n",
      "RangeIndex: 504 entries, 0 to 503\n",
      "Data columns (total 9 columns):\n",
      " #   Column                Non-Null Count  Dtype  \n",
      "---  ------                --------------  -----  \n",
      " 0   IdNo                  504 non-null    int64  \n",
      " 1   TotalMoney            504 non-null    float64\n",
      " 2   GameName              504 non-null    object \n",
      " 3   Genre                 504 non-null    object \n",
      " 4   PlayerNo              504 non-null    int64  \n",
      " 5   TournamentNo          504 non-null    int64  \n",
      " 6   Top_Country           504 non-null    object \n",
      " 7   Top_Country_Earnings  504 non-null    float64\n",
      " 8   Releaseyear           504 non-null    int64  \n",
      "dtypes: float64(2), int64(4), object(3)\n",
      "memory usage: 35.6+ KB\n"
     ]
    }
   ],
   "source": [
    "df.info()"
   ]
  },
  {
   "cell_type": "code",
   "execution_count": 4,
   "id": "5df44298",
   "metadata": {
    "ExecuteTime": {
     "end_time": "2021-07-08T17:24:47.899819Z",
     "start_time": "2021-07-08T17:24:47.887686Z"
    }
   },
   "outputs": [
    {
     "data": {
      "text/plain": [
       "0"
      ]
     },
     "execution_count": 4,
     "metadata": {},
     "output_type": "execute_result"
    }
   ],
   "source": [
    "df.duplicated().sum()"
   ]
  },
  {
   "cell_type": "markdown",
   "id": "9d889cbc",
   "metadata": {
    "ExecuteTime": {
     "end_time": "2021-05-27T18:52:32.454014Z",
     "start_time": "2021-05-27T18:52:32.451273Z"
    }
   },
   "source": [
    "## Fixing the Releaseyear format"
   ]
  },
  {
   "cell_type": "code",
   "execution_count": 6,
   "id": "a2e62763",
   "metadata": {
    "ExecuteTime": {
     "end_time": "2021-07-08T17:24:51.692676Z",
     "start_time": "2021-07-08T17:24:51.664429Z"
    },
    "scrolled": true
   },
   "outputs": [
    {
     "ename": "ValueError",
     "evalue": "time data '11' does not match format '%Y' (match)",
     "output_type": "error",
     "traceback": [
      "\u001b[0;31m---------------------------------------------------------------------------\u001b[0m",
      "\u001b[0;31mTypeError\u001b[0m                                 Traceback (most recent call last)",
      "\u001b[0;32m~/.local/lib/python3.8/site-packages/pandas/core/tools/datetimes.py\u001b[0m in \u001b[0;36m_convert_listlike_datetimes\u001b[0;34m(arg, format, name, tz, unit, errors, infer_datetime_format, dayfirst, yearfirst, exact)\u001b[0m\n\u001b[1;32m    455\u001b[0m             \u001b[0;32mtry\u001b[0m\u001b[0;34m:\u001b[0m\u001b[0;34m\u001b[0m\u001b[0;34m\u001b[0m\u001b[0m\n\u001b[0;32m--> 456\u001b[0;31m                 \u001b[0mvalues\u001b[0m\u001b[0;34m,\u001b[0m \u001b[0mtz\u001b[0m \u001b[0;34m=\u001b[0m \u001b[0mconversion\u001b[0m\u001b[0;34m.\u001b[0m\u001b[0mdatetime_to_datetime64\u001b[0m\u001b[0;34m(\u001b[0m\u001b[0marg\u001b[0m\u001b[0;34m)\u001b[0m\u001b[0;34m\u001b[0m\u001b[0;34m\u001b[0m\u001b[0m\n\u001b[0m\u001b[1;32m    457\u001b[0m                 \u001b[0mdta\u001b[0m \u001b[0;34m=\u001b[0m \u001b[0mDatetimeArray\u001b[0m\u001b[0;34m(\u001b[0m\u001b[0mvalues\u001b[0m\u001b[0;34m,\u001b[0m \u001b[0mdtype\u001b[0m\u001b[0;34m=\u001b[0m\u001b[0mtz_to_dtype\u001b[0m\u001b[0;34m(\u001b[0m\u001b[0mtz\u001b[0m\u001b[0;34m)\u001b[0m\u001b[0;34m)\u001b[0m\u001b[0;34m\u001b[0m\u001b[0;34m\u001b[0m\u001b[0m\n",
      "\u001b[0;32mpandas/_libs/tslibs/conversion.pyx\u001b[0m in \u001b[0;36mpandas._libs.tslibs.conversion.datetime_to_datetime64\u001b[0;34m()\u001b[0m\n",
      "\u001b[0;31mTypeError\u001b[0m: Unrecognized value type: <class 'int'>",
      "\nDuring handling of the above exception, another exception occurred:\n",
      "\u001b[0;31mValueError\u001b[0m                                Traceback (most recent call last)",
      "\u001b[0;32m<ipython-input-6-13d97006e308>\u001b[0m in \u001b[0;36m<module>\u001b[0;34m\u001b[0m\n\u001b[0;32m----> 1\u001b[0;31m \u001b[0mdf\u001b[0m\u001b[0;34m[\u001b[0m\u001b[0;34m'Releaseyear'\u001b[0m\u001b[0;34m]\u001b[0m\u001b[0;34m=\u001b[0m\u001b[0mpd\u001b[0m\u001b[0;34m.\u001b[0m\u001b[0mto_datetime\u001b[0m\u001b[0;34m(\u001b[0m\u001b[0mdf\u001b[0m\u001b[0;34m.\u001b[0m\u001b[0mReleaseyear\u001b[0m\u001b[0;34m,\u001b[0m \u001b[0mformat\u001b[0m\u001b[0;34m=\u001b[0m\u001b[0;34m'%Y'\u001b[0m\u001b[0;34m)\u001b[0m\u001b[0;34m\u001b[0m\u001b[0;34m\u001b[0m\u001b[0m\n\u001b[0m",
      "\u001b[0;32m~/.local/lib/python3.8/site-packages/pandas/core/tools/datetimes.py\u001b[0m in \u001b[0;36mto_datetime\u001b[0;34m(arg, errors, dayfirst, yearfirst, utc, format, exact, unit, infer_datetime_format, origin, cache)\u001b[0m\n\u001b[1;32m    799\u001b[0m                 \u001b[0mresult\u001b[0m \u001b[0;34m=\u001b[0m \u001b[0mresult\u001b[0m\u001b[0;34m.\u001b[0m\u001b[0mtz_localize\u001b[0m\u001b[0;34m(\u001b[0m\u001b[0mtz\u001b[0m\u001b[0;34m)\u001b[0m\u001b[0;34m\u001b[0m\u001b[0;34m\u001b[0m\u001b[0m\n\u001b[1;32m    800\u001b[0m     \u001b[0;32melif\u001b[0m \u001b[0misinstance\u001b[0m\u001b[0;34m(\u001b[0m\u001b[0marg\u001b[0m\u001b[0;34m,\u001b[0m \u001b[0mABCSeries\u001b[0m\u001b[0;34m)\u001b[0m\u001b[0;34m:\u001b[0m\u001b[0;34m\u001b[0m\u001b[0;34m\u001b[0m\u001b[0m\n\u001b[0;32m--> 801\u001b[0;31m         \u001b[0mcache_array\u001b[0m \u001b[0;34m=\u001b[0m \u001b[0m_maybe_cache\u001b[0m\u001b[0;34m(\u001b[0m\u001b[0marg\u001b[0m\u001b[0;34m,\u001b[0m \u001b[0mformat\u001b[0m\u001b[0;34m,\u001b[0m \u001b[0mcache\u001b[0m\u001b[0;34m,\u001b[0m \u001b[0mconvert_listlike\u001b[0m\u001b[0;34m)\u001b[0m\u001b[0;34m\u001b[0m\u001b[0;34m\u001b[0m\u001b[0m\n\u001b[0m\u001b[1;32m    802\u001b[0m         \u001b[0;32mif\u001b[0m \u001b[0;32mnot\u001b[0m \u001b[0mcache_array\u001b[0m\u001b[0;34m.\u001b[0m\u001b[0mempty\u001b[0m\u001b[0;34m:\u001b[0m\u001b[0;34m\u001b[0m\u001b[0;34m\u001b[0m\u001b[0m\n\u001b[1;32m    803\u001b[0m             \u001b[0mresult\u001b[0m \u001b[0;34m=\u001b[0m \u001b[0marg\u001b[0m\u001b[0;34m.\u001b[0m\u001b[0mmap\u001b[0m\u001b[0;34m(\u001b[0m\u001b[0mcache_array\u001b[0m\u001b[0;34m)\u001b[0m\u001b[0;34m\u001b[0m\u001b[0;34m\u001b[0m\u001b[0m\n",
      "\u001b[0;32m~/.local/lib/python3.8/site-packages/pandas/core/tools/datetimes.py\u001b[0m in \u001b[0;36m_maybe_cache\u001b[0;34m(arg, format, cache, convert_listlike)\u001b[0m\n\u001b[1;32m    176\u001b[0m         \u001b[0munique_dates\u001b[0m \u001b[0;34m=\u001b[0m \u001b[0munique\u001b[0m\u001b[0;34m(\u001b[0m\u001b[0marg\u001b[0m\u001b[0;34m)\u001b[0m\u001b[0;34m\u001b[0m\u001b[0;34m\u001b[0m\u001b[0m\n\u001b[1;32m    177\u001b[0m         \u001b[0;32mif\u001b[0m \u001b[0mlen\u001b[0m\u001b[0;34m(\u001b[0m\u001b[0munique_dates\u001b[0m\u001b[0;34m)\u001b[0m \u001b[0;34m<\u001b[0m \u001b[0mlen\u001b[0m\u001b[0;34m(\u001b[0m\u001b[0marg\u001b[0m\u001b[0;34m)\u001b[0m\u001b[0;34m:\u001b[0m\u001b[0;34m\u001b[0m\u001b[0;34m\u001b[0m\u001b[0m\n\u001b[0;32m--> 178\u001b[0;31m             \u001b[0mcache_dates\u001b[0m \u001b[0;34m=\u001b[0m \u001b[0mconvert_listlike\u001b[0m\u001b[0;34m(\u001b[0m\u001b[0munique_dates\u001b[0m\u001b[0;34m,\u001b[0m \u001b[0mformat\u001b[0m\u001b[0;34m)\u001b[0m\u001b[0;34m\u001b[0m\u001b[0;34m\u001b[0m\u001b[0m\n\u001b[0m\u001b[1;32m    179\u001b[0m             \u001b[0mcache_array\u001b[0m \u001b[0;34m=\u001b[0m \u001b[0mSeries\u001b[0m\u001b[0;34m(\u001b[0m\u001b[0mcache_dates\u001b[0m\u001b[0;34m,\u001b[0m \u001b[0mindex\u001b[0m\u001b[0;34m=\u001b[0m\u001b[0munique_dates\u001b[0m\u001b[0;34m)\u001b[0m\u001b[0;34m\u001b[0m\u001b[0;34m\u001b[0m\u001b[0m\n\u001b[1;32m    180\u001b[0m     \u001b[0;32mreturn\u001b[0m \u001b[0mcache_array\u001b[0m\u001b[0;34m\u001b[0m\u001b[0;34m\u001b[0m\u001b[0m\n",
      "\u001b[0;32m~/.local/lib/python3.8/site-packages/pandas/core/tools/datetimes.py\u001b[0m in \u001b[0;36m_convert_listlike_datetimes\u001b[0;34m(arg, format, name, tz, unit, errors, infer_datetime_format, dayfirst, yearfirst, exact)\u001b[0m\n\u001b[1;32m    458\u001b[0m                 \u001b[0;32mreturn\u001b[0m \u001b[0mDatetimeIndex\u001b[0m\u001b[0;34m.\u001b[0m\u001b[0m_simple_new\u001b[0m\u001b[0;34m(\u001b[0m\u001b[0mdta\u001b[0m\u001b[0;34m,\u001b[0m \u001b[0mname\u001b[0m\u001b[0;34m=\u001b[0m\u001b[0mname\u001b[0m\u001b[0;34m)\u001b[0m\u001b[0;34m\u001b[0m\u001b[0;34m\u001b[0m\u001b[0m\n\u001b[1;32m    459\u001b[0m             \u001b[0;32mexcept\u001b[0m \u001b[0;34m(\u001b[0m\u001b[0mValueError\u001b[0m\u001b[0;34m,\u001b[0m \u001b[0mTypeError\u001b[0m\u001b[0;34m)\u001b[0m\u001b[0;34m:\u001b[0m\u001b[0;34m\u001b[0m\u001b[0;34m\u001b[0m\u001b[0m\n\u001b[0;32m--> 460\u001b[0;31m                 \u001b[0;32mraise\u001b[0m \u001b[0me\u001b[0m\u001b[0;34m\u001b[0m\u001b[0;34m\u001b[0m\u001b[0m\n\u001b[0m\u001b[1;32m    461\u001b[0m \u001b[0;34m\u001b[0m\u001b[0m\n\u001b[1;32m    462\u001b[0m     \u001b[0;32mif\u001b[0m \u001b[0mresult\u001b[0m \u001b[0;32mis\u001b[0m \u001b[0;32mNone\u001b[0m\u001b[0;34m:\u001b[0m\u001b[0;34m\u001b[0m\u001b[0;34m\u001b[0m\u001b[0m\n",
      "\u001b[0;32m~/.local/lib/python3.8/site-packages/pandas/core/tools/datetimes.py\u001b[0m in \u001b[0;36m_convert_listlike_datetimes\u001b[0;34m(arg, format, name, tz, unit, errors, infer_datetime_format, dayfirst, yearfirst, exact)\u001b[0m\n\u001b[1;32m    421\u001b[0m             \u001b[0;32mif\u001b[0m \u001b[0mresult\u001b[0m \u001b[0;32mis\u001b[0m \u001b[0;32mNone\u001b[0m\u001b[0;34m:\u001b[0m\u001b[0;34m\u001b[0m\u001b[0;34m\u001b[0m\u001b[0m\n\u001b[1;32m    422\u001b[0m                 \u001b[0;32mtry\u001b[0m\u001b[0;34m:\u001b[0m\u001b[0;34m\u001b[0m\u001b[0;34m\u001b[0m\u001b[0m\n\u001b[0;32m--> 423\u001b[0;31m                     result, timezones = array_strptime(\n\u001b[0m\u001b[1;32m    424\u001b[0m                         \u001b[0marg\u001b[0m\u001b[0;34m,\u001b[0m \u001b[0mformat\u001b[0m\u001b[0;34m,\u001b[0m \u001b[0mexact\u001b[0m\u001b[0;34m=\u001b[0m\u001b[0mexact\u001b[0m\u001b[0;34m,\u001b[0m \u001b[0merrors\u001b[0m\u001b[0;34m=\u001b[0m\u001b[0merrors\u001b[0m\u001b[0;34m\u001b[0m\u001b[0;34m\u001b[0m\u001b[0m\n\u001b[1;32m    425\u001b[0m                     )\n",
      "\u001b[0;32mpandas/_libs/tslibs/strptime.pyx\u001b[0m in \u001b[0;36mpandas._libs.tslibs.strptime.array_strptime\u001b[0;34m()\u001b[0m\n",
      "\u001b[0;31mValueError\u001b[0m: time data '11' does not match format '%Y' (match)"
     ]
    }
   ],
   "source": [
    "df['Releaseyear']=pd.to_datetime(df.Releaseyear, format='%Y')"
   ]
  },
  {
   "cell_type": "code",
   "execution_count": 7,
   "id": "1de0c2c9",
   "metadata": {
    "ExecuteTime": {
     "end_time": "2021-07-08T17:24:56.667089Z",
     "start_time": "2021-07-08T17:24:56.658981Z"
    }
   },
   "outputs": [
    {
     "data": {
      "text/plain": [
       "2019    38\n",
       "2017    38\n",
       "2018    37\n",
       "2016    37\n",
       "2015    36\n",
       "2013    27\n",
       "2007    27\n",
       "2014    23\n",
       "2020    21\n",
       "2004    20\n",
       "2012    20\n",
       "2005    20\n",
       "2008    19\n",
       "2011    18\n",
       "2010    18\n",
       "2003    13\n",
       "1999    12\n",
       "2009    12\n",
       "2002    12\n",
       "2006    12\n",
       "2001     9\n",
       "2000     7\n",
       "1998     7\n",
       "1997     4\n",
       "1996     4\n",
       "1995     4\n",
       "1994     4\n",
       "1993     2\n",
       "1981     1\n",
       "1989     1\n",
       "11       1\n",
       "Name: Releaseyear, dtype: int64"
      ]
     },
     "execution_count": 7,
     "metadata": {},
     "output_type": "execute_result"
    }
   ],
   "source": [
    "df.Releaseyear.value_counts()"
   ]
  },
  {
   "cell_type": "code",
   "execution_count": 8,
   "id": "7c7e632c",
   "metadata": {
    "ExecuteTime": {
     "end_time": "2021-07-08T17:24:58.906092Z",
     "start_time": "2021-07-08T17:24:58.887138Z"
    }
   },
   "outputs": [
    {
     "data": {
      "text/html": [
       "<div>\n",
       "<style scoped>\n",
       "    .dataframe tbody tr th:only-of-type {\n",
       "        vertical-align: middle;\n",
       "    }\n",
       "\n",
       "    .dataframe tbody tr th {\n",
       "        vertical-align: top;\n",
       "    }\n",
       "\n",
       "    .dataframe thead th {\n",
       "        text-align: right;\n",
       "    }\n",
       "</style>\n",
       "<table border=\"1\" class=\"dataframe\">\n",
       "  <thead>\n",
       "    <tr style=\"text-align: right;\">\n",
       "      <th></th>\n",
       "      <th>IdNo</th>\n",
       "      <th>TotalMoney</th>\n",
       "      <th>GameName</th>\n",
       "      <th>Genre</th>\n",
       "      <th>PlayerNo</th>\n",
       "      <th>TournamentNo</th>\n",
       "      <th>Top_Country</th>\n",
       "      <th>Top_Country_Earnings</th>\n",
       "      <th>Releaseyear</th>\n",
       "    </tr>\n",
       "  </thead>\n",
       "  <tbody>\n",
       "    <tr>\n",
       "      <th>162</th>\n",
       "      <td>378</td>\n",
       "      <td>132.37</td>\n",
       "      <td>Forza Motorsport 4</td>\n",
       "      <td>Racing</td>\n",
       "      <td>2</td>\n",
       "      <td>1</td>\n",
       "      <td>Finland</td>\n",
       "      <td>132.37</td>\n",
       "      <td>11</td>\n",
       "    </tr>\n",
       "  </tbody>\n",
       "</table>\n",
       "</div>"
      ],
      "text/plain": [
       "     IdNo  TotalMoney            GameName   Genre  PlayerNo  TournamentNo  \\\n",
       "162   378      132.37  Forza Motorsport 4  Racing         2             1   \n",
       "\n",
       "    Top_Country  Top_Country_Earnings  Releaseyear  \n",
       "162     Finland                132.37           11  "
      ]
     },
     "execution_count": 8,
     "metadata": {},
     "output_type": "execute_result"
    }
   ],
   "source": [
    "df.query('Releaseyear==11')"
   ]
  },
  {
   "cell_type": "code",
   "execution_count": 9,
   "id": "5995da7b",
   "metadata": {
    "ExecuteTime": {
     "end_time": "2021-07-08T17:25:00.552956Z",
     "start_time": "2021-07-08T17:25:00.548446Z"
    }
   },
   "outputs": [],
   "source": [
    "df.drop(162,inplace=True)"
   ]
  },
  {
   "cell_type": "code",
   "execution_count": 10,
   "id": "e2f06fba",
   "metadata": {
    "ExecuteTime": {
     "end_time": "2021-07-08T17:25:01.369079Z",
     "start_time": "2021-07-08T17:25:01.362569Z"
    }
   },
   "outputs": [],
   "source": [
    "df['Releaseyear']=pd.to_datetime(df.Releaseyear, format='%Y')"
   ]
  },
  {
   "cell_type": "code",
   "execution_count": 11,
   "id": "cbef373b",
   "metadata": {
    "ExecuteTime": {
     "end_time": "2021-07-08T17:25:02.060600Z",
     "start_time": "2021-07-08T17:25:02.053973Z"
    }
   },
   "outputs": [
    {
     "data": {
      "text/plain": [
       "IdNo                             int64\n",
       "TotalMoney                     float64\n",
       "GameName                        object\n",
       "Genre                           object\n",
       "PlayerNo                         int64\n",
       "TournamentNo                     int64\n",
       "Top_Country                     object\n",
       "Top_Country_Earnings           float64\n",
       "Releaseyear             datetime64[ns]\n",
       "dtype: object"
      ]
     },
     "execution_count": 11,
     "metadata": {},
     "output_type": "execute_result"
    }
   ],
   "source": [
    "df.dtypes"
   ]
  },
  {
   "cell_type": "markdown",
   "id": "7ed5d9b9",
   "metadata": {
    "ExecuteTime": {
     "end_time": "2021-05-27T18:53:29.540025Z",
     "start_time": "2021-05-27T18:53:29.537348Z"
    }
   },
   "source": [
    "## Remove unnecessary column\n",
    "\n",
    "Since the 'IdNo' column didnt give us any inside, it could be remove for a better dataset"
   ]
  },
  {
   "cell_type": "code",
   "execution_count": 12,
   "id": "3a653742",
   "metadata": {
    "ExecuteTime": {
     "end_time": "2021-07-08T17:25:04.056538Z",
     "start_time": "2021-07-08T17:25:04.051777Z"
    }
   },
   "outputs": [],
   "source": [
    "df.drop('IdNo',axis=1,inplace=True)"
   ]
  },
  {
   "cell_type": "markdown",
   "id": "4d057679",
   "metadata": {
    "ExecuteTime": {
     "end_time": "2021-05-27T18:51:55.482280Z",
     "start_time": "2021-05-27T18:51:55.479588Z"
    }
   },
   "source": [
    "## Rearrange the variable and index"
   ]
  },
  {
   "cell_type": "code",
   "execution_count": 13,
   "id": "ffdbe124",
   "metadata": {
    "ExecuteTime": {
     "end_time": "2021-07-08T17:25:05.003300Z",
     "start_time": "2021-07-08T17:25:04.977750Z"
    }
   },
   "outputs": [
    {
     "data": {
      "text/html": [
       "<div>\n",
       "<style scoped>\n",
       "    .dataframe tbody tr th:only-of-type {\n",
       "        vertical-align: middle;\n",
       "    }\n",
       "\n",
       "    .dataframe tbody tr th {\n",
       "        vertical-align: top;\n",
       "    }\n",
       "\n",
       "    .dataframe thead th {\n",
       "        text-align: right;\n",
       "    }\n",
       "</style>\n",
       "<table border=\"1\" class=\"dataframe\">\n",
       "  <thead>\n",
       "    <tr style=\"text-align: right;\">\n",
       "      <th></th>\n",
       "      <th>Releaseyear</th>\n",
       "      <th>Genre</th>\n",
       "      <th>GameName</th>\n",
       "      <th>PlayerNo</th>\n",
       "      <th>TournamentNo</th>\n",
       "      <th>TotalMoney</th>\n",
       "      <th>Top_Country</th>\n",
       "      <th>Top_Country_Earnings</th>\n",
       "    </tr>\n",
       "  </thead>\n",
       "  <tbody>\n",
       "    <tr>\n",
       "      <th>0</th>\n",
       "      <td>2018-01-01</td>\n",
       "      <td>Fighting Game</td>\n",
       "      <td>Acceleration of SUGURI 2</td>\n",
       "      <td>6</td>\n",
       "      <td>2</td>\n",
       "      <td>310.00</td>\n",
       "      <td>United States</td>\n",
       "      <td>310.00</td>\n",
       "    </tr>\n",
       "    <tr>\n",
       "      <th>1</th>\n",
       "      <td>1997-01-01</td>\n",
       "      <td>Strategy</td>\n",
       "      <td>Age of Empires</td>\n",
       "      <td>246</td>\n",
       "      <td>95</td>\n",
       "      <td>190075.61</td>\n",
       "      <td>Viet Nam</td>\n",
       "      <td>123408.43</td>\n",
       "    </tr>\n",
       "    <tr>\n",
       "      <th>2</th>\n",
       "      <td>1999-01-01</td>\n",
       "      <td>Strategy</td>\n",
       "      <td>Age of Empires II</td>\n",
       "      <td>956</td>\n",
       "      <td>576</td>\n",
       "      <td>1492489.51</td>\n",
       "      <td>China</td>\n",
       "      <td>174252.44</td>\n",
       "    </tr>\n",
       "    <tr>\n",
       "      <th>3</th>\n",
       "      <td>2005-01-01</td>\n",
       "      <td>Strategy</td>\n",
       "      <td>Age of Empires III</td>\n",
       "      <td>106</td>\n",
       "      <td>76</td>\n",
       "      <td>68113.85</td>\n",
       "      <td>United States</td>\n",
       "      <td>18523.52</td>\n",
       "    </tr>\n",
       "    <tr>\n",
       "      <th>4</th>\n",
       "      <td>2011-01-01</td>\n",
       "      <td>Strategy</td>\n",
       "      <td>Age of Empires Online</td>\n",
       "      <td>16</td>\n",
       "      <td>7</td>\n",
       "      <td>2668.00</td>\n",
       "      <td>Germany</td>\n",
       "      <td>1264.00</td>\n",
       "    </tr>\n",
       "    <tr>\n",
       "      <th>...</th>\n",
       "      <td>...</td>\n",
       "      <td>...</td>\n",
       "      <td>...</td>\n",
       "      <td>...</td>\n",
       "      <td>...</td>\n",
       "      <td>...</td>\n",
       "      <td>...</td>\n",
       "      <td>...</td>\n",
       "    </tr>\n",
       "    <tr>\n",
       "      <th>499</th>\n",
       "      <td>2004-01-01</td>\n",
       "      <td>Role-Playing Game</td>\n",
       "      <td>World of WarCraft</td>\n",
       "      <td>413</td>\n",
       "      <td>118</td>\n",
       "      <td>4957837.61</td>\n",
       "      <td>United States</td>\n",
       "      <td>1416887.48</td>\n",
       "    </tr>\n",
       "    <tr>\n",
       "      <th>500</th>\n",
       "      <td>2019-01-01</td>\n",
       "      <td>Fighting Game</td>\n",
       "      <td>WWE 2K20</td>\n",
       "      <td>20</td>\n",
       "      <td>2</td>\n",
       "      <td>50000.00</td>\n",
       "      <td>United States</td>\n",
       "      <td>43500.00</td>\n",
       "    </tr>\n",
       "    <tr>\n",
       "      <th>501</th>\n",
       "      <td>2010-01-01</td>\n",
       "      <td>First-Person Shooter</td>\n",
       "      <td>Xonotic</td>\n",
       "      <td>133</td>\n",
       "      <td>25</td>\n",
       "      <td>5489.65</td>\n",
       "      <td>Netherlands</td>\n",
       "      <td>1881.44</td>\n",
       "    </tr>\n",
       "    <tr>\n",
       "      <th>502</th>\n",
       "      <td>2016-01-01</td>\n",
       "      <td>Collectible Card Game</td>\n",
       "      <td>Yu-Gi-Oh! Duel Links</td>\n",
       "      <td>328</td>\n",
       "      <td>219</td>\n",
       "      <td>48746.72</td>\n",
       "      <td>United States</td>\n",
       "      <td>19983.28</td>\n",
       "    </tr>\n",
       "    <tr>\n",
       "      <th>503</th>\n",
       "      <td>2015-01-01</td>\n",
       "      <td>First-Person Shooter</td>\n",
       "      <td>Zula</td>\n",
       "      <td>20</td>\n",
       "      <td>1</td>\n",
       "      <td>100000.00</td>\n",
       "      <td>Poland</td>\n",
       "      <td>65000.00</td>\n",
       "    </tr>\n",
       "  </tbody>\n",
       "</table>\n",
       "<p>503 rows × 8 columns</p>\n",
       "</div>"
      ],
      "text/plain": [
       "    Releaseyear                  Genre                  GameName  PlayerNo  \\\n",
       "0    2018-01-01          Fighting Game  Acceleration of SUGURI 2         6   \n",
       "1    1997-01-01               Strategy            Age of Empires       246   \n",
       "2    1999-01-01               Strategy         Age of Empires II       956   \n",
       "3    2005-01-01               Strategy        Age of Empires III       106   \n",
       "4    2011-01-01               Strategy     Age of Empires Online        16   \n",
       "..          ...                    ...                       ...       ...   \n",
       "499  2004-01-01      Role-Playing Game         World of WarCraft       413   \n",
       "500  2019-01-01          Fighting Game                  WWE 2K20        20   \n",
       "501  2010-01-01   First-Person Shooter                   Xonotic       133   \n",
       "502  2016-01-01  Collectible Card Game      Yu-Gi-Oh! Duel Links       328   \n",
       "503  2015-01-01   First-Person Shooter                      Zula        20   \n",
       "\n",
       "     TournamentNo  TotalMoney    Top_Country  Top_Country_Earnings  \n",
       "0               2      310.00  United States                310.00  \n",
       "1              95   190075.61       Viet Nam             123408.43  \n",
       "2             576  1492489.51          China             174252.44  \n",
       "3              76    68113.85  United States              18523.52  \n",
       "4               7     2668.00        Germany               1264.00  \n",
       "..            ...         ...            ...                   ...  \n",
       "499           118  4957837.61  United States            1416887.48  \n",
       "500             2    50000.00  United States              43500.00  \n",
       "501            25     5489.65    Netherlands               1881.44  \n",
       "502           219    48746.72  United States              19983.28  \n",
       "503             1   100000.00         Poland              65000.00  \n",
       "\n",
       "[503 rows x 8 columns]"
      ]
     },
     "execution_count": 13,
     "metadata": {},
     "output_type": "execute_result"
    }
   ],
   "source": [
    "df = df[['Releaseyear', \n",
    "         'Genre', \n",
    "         'GameName', \n",
    "         'PlayerNo', \n",
    "         'TournamentNo',\n",
    "         'TotalMoney',\n",
    "         'Top_Country',\n",
    "         'Top_Country_Earnings']]\n",
    "df"
   ]
  },
  {
   "cell_type": "code",
   "execution_count": 14,
   "id": "e0edb9f8",
   "metadata": {
    "ExecuteTime": {
     "end_time": "2021-07-08T17:25:06.321522Z",
     "start_time": "2021-07-08T17:25:06.315538Z"
    }
   },
   "outputs": [
    {
     "data": {
      "text/plain": [
       "30"
      ]
     },
     "execution_count": 14,
     "metadata": {},
     "output_type": "execute_result"
    }
   ],
   "source": [
    "df.Releaseyear.nunique()"
   ]
  },
  {
   "cell_type": "code",
   "execution_count": 15,
   "id": "e2461d8c",
   "metadata": {
    "ExecuteTime": {
     "end_time": "2021-07-08T17:25:07.695980Z",
     "start_time": "2021-07-08T17:25:07.688639Z"
    }
   },
   "outputs": [
    {
     "data": {
      "text/plain": [
       "33"
      ]
     },
     "execution_count": 15,
     "metadata": {},
     "output_type": "execute_result"
    }
   ],
   "source": [
    "df.Top_Country.nunique()"
   ]
  },
  {
   "cell_type": "code",
   "execution_count": 16,
   "id": "89a59258",
   "metadata": {
    "ExecuteTime": {
     "end_time": "2021-07-08T17:25:08.576223Z",
     "start_time": "2021-07-08T17:25:08.549440Z"
    }
   },
   "outputs": [
    {
     "data": {
      "text/html": [
       "<div>\n",
       "<style scoped>\n",
       "    .dataframe tbody tr th:only-of-type {\n",
       "        vertical-align: middle;\n",
       "    }\n",
       "\n",
       "    .dataframe tbody tr th {\n",
       "        vertical-align: top;\n",
       "    }\n",
       "\n",
       "    .dataframe thead th {\n",
       "        text-align: right;\n",
       "    }\n",
       "</style>\n",
       "<table border=\"1\" class=\"dataframe\">\n",
       "  <thead>\n",
       "    <tr style=\"text-align: right;\">\n",
       "      <th></th>\n",
       "      <th></th>\n",
       "      <th>Releaseyear</th>\n",
       "      <th>GameName</th>\n",
       "      <th>PlayerNo</th>\n",
       "      <th>TournamentNo</th>\n",
       "      <th>TotalMoney</th>\n",
       "      <th>Top_Country_Earnings</th>\n",
       "    </tr>\n",
       "    <tr>\n",
       "      <th>Top_Country</th>\n",
       "      <th>Genre</th>\n",
       "      <th></th>\n",
       "      <th></th>\n",
       "      <th></th>\n",
       "      <th></th>\n",
       "      <th></th>\n",
       "      <th></th>\n",
       "    </tr>\n",
       "  </thead>\n",
       "  <tbody>\n",
       "    <tr>\n",
       "      <th>Australia</th>\n",
       "      <th>Fighting Game</th>\n",
       "      <td>1</td>\n",
       "      <td>1</td>\n",
       "      <td>1</td>\n",
       "      <td>1</td>\n",
       "      <td>1</td>\n",
       "      <td>1</td>\n",
       "    </tr>\n",
       "    <tr>\n",
       "      <th>Azerbaijan</th>\n",
       "      <th>Strategy</th>\n",
       "      <td>2</td>\n",
       "      <td>2</td>\n",
       "      <td>2</td>\n",
       "      <td>2</td>\n",
       "      <td>2</td>\n",
       "      <td>2</td>\n",
       "    </tr>\n",
       "    <tr>\n",
       "      <th rowspan=\"3\" valign=\"top\">Brazil</th>\n",
       "      <th>Fighting Game</th>\n",
       "      <td>1</td>\n",
       "      <td>1</td>\n",
       "      <td>1</td>\n",
       "      <td>1</td>\n",
       "      <td>1</td>\n",
       "      <td>1</td>\n",
       "    </tr>\n",
       "    <tr>\n",
       "      <th>Puzzle Game</th>\n",
       "      <td>1</td>\n",
       "      <td>1</td>\n",
       "      <td>1</td>\n",
       "      <td>1</td>\n",
       "      <td>1</td>\n",
       "      <td>1</td>\n",
       "    </tr>\n",
       "    <tr>\n",
       "      <th>Racing</th>\n",
       "      <td>2</td>\n",
       "      <td>2</td>\n",
       "      <td>2</td>\n",
       "      <td>2</td>\n",
       "      <td>2</td>\n",
       "      <td>2</td>\n",
       "    </tr>\n",
       "    <tr>\n",
       "      <th>...</th>\n",
       "      <th>...</th>\n",
       "      <td>...</td>\n",
       "      <td>...</td>\n",
       "      <td>...</td>\n",
       "      <td>...</td>\n",
       "      <td>...</td>\n",
       "      <td>...</td>\n",
       "    </tr>\n",
       "    <tr>\n",
       "      <th rowspan=\"4\" valign=\"top\">United States</th>\n",
       "      <th>Role-Playing Game</th>\n",
       "      <td>3</td>\n",
       "      <td>3</td>\n",
       "      <td>3</td>\n",
       "      <td>3</td>\n",
       "      <td>3</td>\n",
       "      <td>3</td>\n",
       "    </tr>\n",
       "    <tr>\n",
       "      <th>Sports</th>\n",
       "      <td>15</td>\n",
       "      <td>15</td>\n",
       "      <td>15</td>\n",
       "      <td>15</td>\n",
       "      <td>15</td>\n",
       "      <td>15</td>\n",
       "    </tr>\n",
       "    <tr>\n",
       "      <th>Strategy</th>\n",
       "      <td>13</td>\n",
       "      <td>13</td>\n",
       "      <td>13</td>\n",
       "      <td>13</td>\n",
       "      <td>13</td>\n",
       "      <td>13</td>\n",
       "    </tr>\n",
       "    <tr>\n",
       "      <th>Third-Person Shooter</th>\n",
       "      <td>6</td>\n",
       "      <td>6</td>\n",
       "      <td>6</td>\n",
       "      <td>6</td>\n",
       "      <td>6</td>\n",
       "      <td>6</td>\n",
       "    </tr>\n",
       "    <tr>\n",
       "      <th>Viet Nam</th>\n",
       "      <th>Strategy</th>\n",
       "      <td>1</td>\n",
       "      <td>1</td>\n",
       "      <td>1</td>\n",
       "      <td>1</td>\n",
       "      <td>1</td>\n",
       "      <td>1</td>\n",
       "    </tr>\n",
       "  </tbody>\n",
       "</table>\n",
       "<p>110 rows × 6 columns</p>\n",
       "</div>"
      ],
      "text/plain": [
       "                                    Releaseyear  GameName  PlayerNo  \\\n",
       "Top_Country   Genre                                                   \n",
       "Australia     Fighting Game                   1         1         1   \n",
       "Azerbaijan    Strategy                        2         2         2   \n",
       "Brazil        Fighting Game                   1         1         1   \n",
       "              Puzzle Game                     1         1         1   \n",
       "              Racing                          2         2         2   \n",
       "...                                         ...       ...       ...   \n",
       "United States Role-Playing Game               3         3         3   \n",
       "              Sports                         15        15        15   \n",
       "              Strategy                       13        13        13   \n",
       "              Third-Person Shooter            6         6         6   \n",
       "Viet Nam      Strategy                        1         1         1   \n",
       "\n",
       "                                    TournamentNo  TotalMoney  \\\n",
       "Top_Country   Genre                                            \n",
       "Australia     Fighting Game                    1           1   \n",
       "Azerbaijan    Strategy                         2           2   \n",
       "Brazil        Fighting Game                    1           1   \n",
       "              Puzzle Game                      1           1   \n",
       "              Racing                           2           2   \n",
       "...                                          ...         ...   \n",
       "United States Role-Playing Game                3           3   \n",
       "              Sports                          15          15   \n",
       "              Strategy                        13          13   \n",
       "              Third-Person Shooter             6           6   \n",
       "Viet Nam      Strategy                         1           1   \n",
       "\n",
       "                                    Top_Country_Earnings  \n",
       "Top_Country   Genre                                       \n",
       "Australia     Fighting Game                            1  \n",
       "Azerbaijan    Strategy                                 2  \n",
       "Brazil        Fighting Game                            1  \n",
       "              Puzzle Game                              1  \n",
       "              Racing                                   2  \n",
       "...                                                  ...  \n",
       "United States Role-Playing Game                        3  \n",
       "              Sports                                  15  \n",
       "              Strategy                                13  \n",
       "              Third-Person Shooter                     6  \n",
       "Viet Nam      Strategy                                 1  \n",
       "\n",
       "[110 rows x 6 columns]"
      ]
     },
     "execution_count": 16,
     "metadata": {},
     "output_type": "execute_result"
    }
   ],
   "source": [
    "df.groupby(['Top_Country','Genre']).count()"
   ]
  },
  {
   "cell_type": "code",
   "execution_count": 17,
   "id": "766e20f4",
   "metadata": {
    "ExecuteTime": {
     "end_time": "2021-07-08T17:25:10.996632Z",
     "start_time": "2021-07-08T17:25:10.992276Z"
    }
   },
   "outputs": [],
   "source": [
    "df.set_index('Releaseyear',inplace=True)"
   ]
  },
  {
   "cell_type": "code",
   "execution_count": 18,
   "id": "7d7d3eec",
   "metadata": {
    "ExecuteTime": {
     "end_time": "2021-07-08T17:25:12.041482Z",
     "start_time": "2021-07-08T17:25:12.026143Z"
    }
   },
   "outputs": [
    {
     "data": {
      "text/html": [
       "<div>\n",
       "<style scoped>\n",
       "    .dataframe tbody tr th:only-of-type {\n",
       "        vertical-align: middle;\n",
       "    }\n",
       "\n",
       "    .dataframe tbody tr th {\n",
       "        vertical-align: top;\n",
       "    }\n",
       "\n",
       "    .dataframe thead th {\n",
       "        text-align: right;\n",
       "    }\n",
       "</style>\n",
       "<table border=\"1\" class=\"dataframe\">\n",
       "  <thead>\n",
       "    <tr style=\"text-align: right;\">\n",
       "      <th></th>\n",
       "      <th>Genre</th>\n",
       "      <th>GameName</th>\n",
       "      <th>PlayerNo</th>\n",
       "      <th>TournamentNo</th>\n",
       "      <th>TotalMoney</th>\n",
       "      <th>Top_Country</th>\n",
       "      <th>Top_Country_Earnings</th>\n",
       "    </tr>\n",
       "    <tr>\n",
       "      <th>Releaseyear</th>\n",
       "      <th></th>\n",
       "      <th></th>\n",
       "      <th></th>\n",
       "      <th></th>\n",
       "      <th></th>\n",
       "      <th></th>\n",
       "      <th></th>\n",
       "    </tr>\n",
       "  </thead>\n",
       "  <tbody>\n",
       "    <tr>\n",
       "      <th>1981-01-01</th>\n",
       "      <td>Puzzle Game</td>\n",
       "      <td>Pac-man</td>\n",
       "      <td>0</td>\n",
       "      <td>0</td>\n",
       "      <td>0.00</td>\n",
       "      <td>None</td>\n",
       "      <td>0.00</td>\n",
       "    </tr>\n",
       "    <tr>\n",
       "      <th>1989-01-01</th>\n",
       "      <td>Puzzle Game</td>\n",
       "      <td>Tetris</td>\n",
       "      <td>27</td>\n",
       "      <td>7</td>\n",
       "      <td>16026.38</td>\n",
       "      <td>United States</td>\n",
       "      <td>13065.13</td>\n",
       "    </tr>\n",
       "    <tr>\n",
       "      <th>1993-01-01</th>\n",
       "      <td>Sports</td>\n",
       "      <td>NHL '94</td>\n",
       "      <td>25</td>\n",
       "      <td>8</td>\n",
       "      <td>3818.56</td>\n",
       "      <td>Canada</td>\n",
       "      <td>2633.34</td>\n",
       "    </tr>\n",
       "    <tr>\n",
       "      <th>1993-01-01</th>\n",
       "      <td>Fighting Game</td>\n",
       "      <td>Teenage Mutant Ninja Turtles: Tournament Fighters</td>\n",
       "      <td>7</td>\n",
       "      <td>2</td>\n",
       "      <td>820.00</td>\n",
       "      <td>United States</td>\n",
       "      <td>820.00</td>\n",
       "    </tr>\n",
       "    <tr>\n",
       "      <th>1994-01-01</th>\n",
       "      <td>Fighting Game</td>\n",
       "      <td>Fighter's History Dynamite</td>\n",
       "      <td>3</td>\n",
       "      <td>1</td>\n",
       "      <td>195.00</td>\n",
       "      <td>Japan</td>\n",
       "      <td>195.00</td>\n",
       "    </tr>\n",
       "  </tbody>\n",
       "</table>\n",
       "</div>"
      ],
      "text/plain": [
       "                     Genre                                           GameName  \\\n",
       "Releaseyear                                                                     \n",
       "1981-01-01     Puzzle Game                                            Pac-man   \n",
       "1989-01-01     Puzzle Game                                             Tetris   \n",
       "1993-01-01          Sports                                            NHL '94   \n",
       "1993-01-01   Fighting Game  Teenage Mutant Ninja Turtles: Tournament Fighters   \n",
       "1994-01-01   Fighting Game                         Fighter's History Dynamite   \n",
       "\n",
       "             PlayerNo  TournamentNo  TotalMoney    Top_Country  \\\n",
       "Releaseyear                                                      \n",
       "1981-01-01          0             0        0.00           None   \n",
       "1989-01-01         27             7    16026.38  United States   \n",
       "1993-01-01         25             8     3818.56         Canada   \n",
       "1993-01-01          7             2      820.00  United States   \n",
       "1994-01-01          3             1      195.00          Japan   \n",
       "\n",
       "             Top_Country_Earnings  \n",
       "Releaseyear                        \n",
       "1981-01-01                   0.00  \n",
       "1989-01-01               13065.13  \n",
       "1993-01-01                2633.34  \n",
       "1993-01-01                 820.00  \n",
       "1994-01-01                 195.00  "
      ]
     },
     "execution_count": 18,
     "metadata": {},
     "output_type": "execute_result"
    }
   ],
   "source": [
    "df.sort_index(inplace=True)\n",
    "df.head()"
   ]
  },
  {
   "cell_type": "markdown",
   "id": "597c4097",
   "metadata": {},
   "source": [
    "# EDA"
   ]
  },
  {
   "cell_type": "markdown",
   "id": "f9f64e53",
   "metadata": {},
   "source": [
    "## Overview of ESport "
   ]
  },
  {
   "cell_type": "markdown",
   "id": "5045b07c",
   "metadata": {
    "ExecuteTime": {
     "end_time": "2021-05-30T09:50:20.389552Z",
     "start_time": "2021-05-30T09:50:20.386810Z"
    }
   },
   "source": [
    "### ESport industry through decades\n",
    "- Overall, the line chart show that **Esport industry grow significant** through the decades.\n",
    "\n",
    "- The correlation chart show how the relationship between Number of Player, Tournament and total value. It seem that they both have a **positive relation**.\n",
    "\n",
    "- There was a massive increasing in number of Player and Tournament from 1990s to 2000s. However, the Value of its industry actually flying off in 2010s.\n",
    "\n",
    "- The number of Tournament is decreasing since 2000s, it is an opposite trend in compare with Number of Player and the economy of the industry. It is also shown a weak positive correlation between number of Tournament and Value of total industry.\n",
    "\n",
    "---\n",
    "\n",
    "In short, the ESport industry is expanding quickly both in player and it size but the number of tournament is decreasing. It could be a hypothesis that **the prize for tournament is increasing and the industry is focusing more on a quality ones**. "
   ]
  },
  {
   "cell_type": "code",
   "execution_count": 19,
   "id": "f1875969",
   "metadata": {
    "ExecuteTime": {
     "end_time": "2021-07-08T17:25:19.423795Z",
     "start_time": "2021-07-08T17:25:16.053948Z"
    }
   },
   "outputs": [
    {
     "data": {
      "application/vnd.plotly.v1+json": {
       "config": {
        "linkText": "Export to plot.ly",
        "plotlyServerURL": "https://plot.ly",
        "showLink": true
       },
       "data": [
        {
         "line": {
          "color": "rgba(179, 226, 205, 1.0)",
          "dash": "solid",
          "shape": "linear",
          "width": 1.3
         },
         "marker": {
          "size": 12,
          "symbol": "circle"
         },
         "mode": "lines+markers",
         "name": "PlayerNo",
         "text": "",
         "type": "scatter",
         "x": [
          "1981-12-31",
          "1991-12-31",
          "2001-12-31",
          "2011-12-31",
          "2021-12-31"
         ],
         "xaxis": "x",
         "y": [
          0,
          27,
          173.20754716981133,
          143.42690058479533,
          217.98194945848377
         ],
         "yaxis": "y"
        },
        {
         "line": {
          "color": "rgba(253, 205, 172, 1.0)",
          "dash": "solid",
          "shape": "linear",
          "width": 1.3
         },
         "marker": {
          "size": 12,
          "symbol": "circle"
         },
         "mode": "lines+markers",
         "name": "TournamentNo",
         "text": "",
         "type": "scatter",
         "x": [
          "1981-12-31",
          "1991-12-31",
          "2001-12-31",
          "2011-12-31",
          "2021-12-31"
         ],
         "xaxis": "x2",
         "y": [
          0,
          7,
          101.52830188679245,
          85.78947368421052,
          74.50180505415162
         ],
         "yaxis": "y2"
        },
        {
         "line": {
          "color": "rgba(203, 213, 232, 1.0)",
          "dash": "solid",
          "shape": "linear",
          "width": 1.3
         },
         "marker": {
          "size": 12,
          "symbol": "circle"
         },
         "mode": "lines+markers",
         "name": "TotalMoney",
         "text": "",
         "type": "scatter",
         "x": [
          "1981-12-31",
          "1991-12-31",
          "2001-12-31",
          "2011-12-31",
          "2021-12-31"
         ],
         "xaxis": "x3",
         "y": [
          0,
          16026.38,
          549873.1286792452,
          959682.5879532165,
          2476843.0591335744
         ],
         "yaxis": "y3"
        }
       ],
       "layout": {
        "annotations": [
         {
          "font": {
           "size": 16
          },
          "showarrow": false,
          "text": "PlayerNo",
          "x": 0.14444444444444446,
          "xanchor": "center",
          "xref": "paper",
          "y": 1,
          "yanchor": "bottom",
          "yref": "paper"
         },
         {
          "font": {
           "size": 16
          },
          "showarrow": false,
          "text": "TournamentNo",
          "x": 0.5,
          "xanchor": "center",
          "xref": "paper",
          "y": 1,
          "yanchor": "bottom",
          "yref": "paper"
         },
         {
          "font": {
           "size": 16
          },
          "showarrow": false,
          "text": "TotalMoney",
          "x": 0.8555555555555556,
          "xanchor": "center",
          "xref": "paper",
          "y": 1,
          "yanchor": "bottom",
          "yref": "paper"
         }
        ],
        "legend": {
         "bgcolor": "#F5F6F9",
         "font": {
          "color": "#4D5663"
         }
        },
        "paper_bgcolor": "#F5F6F9",
        "plot_bgcolor": "#F5F6F9",
        "template": {
         "data": {
          "bar": [
           {
            "error_x": {
             "color": "#2a3f5f"
            },
            "error_y": {
             "color": "#2a3f5f"
            },
            "marker": {
             "line": {
              "color": "#E5ECF6",
              "width": 0.5
             }
            },
            "type": "bar"
           }
          ],
          "barpolar": [
           {
            "marker": {
             "line": {
              "color": "#E5ECF6",
              "width": 0.5
             }
            },
            "type": "barpolar"
           }
          ],
          "carpet": [
           {
            "aaxis": {
             "endlinecolor": "#2a3f5f",
             "gridcolor": "white",
             "linecolor": "white",
             "minorgridcolor": "white",
             "startlinecolor": "#2a3f5f"
            },
            "baxis": {
             "endlinecolor": "#2a3f5f",
             "gridcolor": "white",
             "linecolor": "white",
             "minorgridcolor": "white",
             "startlinecolor": "#2a3f5f"
            },
            "type": "carpet"
           }
          ],
          "choropleth": [
           {
            "colorbar": {
             "outlinewidth": 0,
             "ticks": ""
            },
            "type": "choropleth"
           }
          ],
          "contour": [
           {
            "colorbar": {
             "outlinewidth": 0,
             "ticks": ""
            },
            "colorscale": [
             [
              0,
              "#0d0887"
             ],
             [
              0.1111111111111111,
              "#46039f"
             ],
             [
              0.2222222222222222,
              "#7201a8"
             ],
             [
              0.3333333333333333,
              "#9c179e"
             ],
             [
              0.4444444444444444,
              "#bd3786"
             ],
             [
              0.5555555555555556,
              "#d8576b"
             ],
             [
              0.6666666666666666,
              "#ed7953"
             ],
             [
              0.7777777777777778,
              "#fb9f3a"
             ],
             [
              0.8888888888888888,
              "#fdca26"
             ],
             [
              1,
              "#f0f921"
             ]
            ],
            "type": "contour"
           }
          ],
          "contourcarpet": [
           {
            "colorbar": {
             "outlinewidth": 0,
             "ticks": ""
            },
            "type": "contourcarpet"
           }
          ],
          "heatmap": [
           {
            "colorbar": {
             "outlinewidth": 0,
             "ticks": ""
            },
            "colorscale": [
             [
              0,
              "#0d0887"
             ],
             [
              0.1111111111111111,
              "#46039f"
             ],
             [
              0.2222222222222222,
              "#7201a8"
             ],
             [
              0.3333333333333333,
              "#9c179e"
             ],
             [
              0.4444444444444444,
              "#bd3786"
             ],
             [
              0.5555555555555556,
              "#d8576b"
             ],
             [
              0.6666666666666666,
              "#ed7953"
             ],
             [
              0.7777777777777778,
              "#fb9f3a"
             ],
             [
              0.8888888888888888,
              "#fdca26"
             ],
             [
              1,
              "#f0f921"
             ]
            ],
            "type": "heatmap"
           }
          ],
          "heatmapgl": [
           {
            "colorbar": {
             "outlinewidth": 0,
             "ticks": ""
            },
            "colorscale": [
             [
              0,
              "#0d0887"
             ],
             [
              0.1111111111111111,
              "#46039f"
             ],
             [
              0.2222222222222222,
              "#7201a8"
             ],
             [
              0.3333333333333333,
              "#9c179e"
             ],
             [
              0.4444444444444444,
              "#bd3786"
             ],
             [
              0.5555555555555556,
              "#d8576b"
             ],
             [
              0.6666666666666666,
              "#ed7953"
             ],
             [
              0.7777777777777778,
              "#fb9f3a"
             ],
             [
              0.8888888888888888,
              "#fdca26"
             ],
             [
              1,
              "#f0f921"
             ]
            ],
            "type": "heatmapgl"
           }
          ],
          "histogram": [
           {
            "marker": {
             "colorbar": {
              "outlinewidth": 0,
              "ticks": ""
             }
            },
            "type": "histogram"
           }
          ],
          "histogram2d": [
           {
            "colorbar": {
             "outlinewidth": 0,
             "ticks": ""
            },
            "colorscale": [
             [
              0,
              "#0d0887"
             ],
             [
              0.1111111111111111,
              "#46039f"
             ],
             [
              0.2222222222222222,
              "#7201a8"
             ],
             [
              0.3333333333333333,
              "#9c179e"
             ],
             [
              0.4444444444444444,
              "#bd3786"
             ],
             [
              0.5555555555555556,
              "#d8576b"
             ],
             [
              0.6666666666666666,
              "#ed7953"
             ],
             [
              0.7777777777777778,
              "#fb9f3a"
             ],
             [
              0.8888888888888888,
              "#fdca26"
             ],
             [
              1,
              "#f0f921"
             ]
            ],
            "type": "histogram2d"
           }
          ],
          "histogram2dcontour": [
           {
            "colorbar": {
             "outlinewidth": 0,
             "ticks": ""
            },
            "colorscale": [
             [
              0,
              "#0d0887"
             ],
             [
              0.1111111111111111,
              "#46039f"
             ],
             [
              0.2222222222222222,
              "#7201a8"
             ],
             [
              0.3333333333333333,
              "#9c179e"
             ],
             [
              0.4444444444444444,
              "#bd3786"
             ],
             [
              0.5555555555555556,
              "#d8576b"
             ],
             [
              0.6666666666666666,
              "#ed7953"
             ],
             [
              0.7777777777777778,
              "#fb9f3a"
             ],
             [
              0.8888888888888888,
              "#fdca26"
             ],
             [
              1,
              "#f0f921"
             ]
            ],
            "type": "histogram2dcontour"
           }
          ],
          "mesh3d": [
           {
            "colorbar": {
             "outlinewidth": 0,
             "ticks": ""
            },
            "type": "mesh3d"
           }
          ],
          "parcoords": [
           {
            "line": {
             "colorbar": {
              "outlinewidth": 0,
              "ticks": ""
             }
            },
            "type": "parcoords"
           }
          ],
          "pie": [
           {
            "automargin": true,
            "type": "pie"
           }
          ],
          "scatter": [
           {
            "marker": {
             "colorbar": {
              "outlinewidth": 0,
              "ticks": ""
             }
            },
            "type": "scatter"
           }
          ],
          "scatter3d": [
           {
            "line": {
             "colorbar": {
              "outlinewidth": 0,
              "ticks": ""
             }
            },
            "marker": {
             "colorbar": {
              "outlinewidth": 0,
              "ticks": ""
             }
            },
            "type": "scatter3d"
           }
          ],
          "scattercarpet": [
           {
            "marker": {
             "colorbar": {
              "outlinewidth": 0,
              "ticks": ""
             }
            },
            "type": "scattercarpet"
           }
          ],
          "scattergeo": [
           {
            "marker": {
             "colorbar": {
              "outlinewidth": 0,
              "ticks": ""
             }
            },
            "type": "scattergeo"
           }
          ],
          "scattergl": [
           {
            "marker": {
             "colorbar": {
              "outlinewidth": 0,
              "ticks": ""
             }
            },
            "type": "scattergl"
           }
          ],
          "scattermapbox": [
           {
            "marker": {
             "colorbar": {
              "outlinewidth": 0,
              "ticks": ""
             }
            },
            "type": "scattermapbox"
           }
          ],
          "scatterpolar": [
           {
            "marker": {
             "colorbar": {
              "outlinewidth": 0,
              "ticks": ""
             }
            },
            "type": "scatterpolar"
           }
          ],
          "scatterpolargl": [
           {
            "marker": {
             "colorbar": {
              "outlinewidth": 0,
              "ticks": ""
             }
            },
            "type": "scatterpolargl"
           }
          ],
          "scatterternary": [
           {
            "marker": {
             "colorbar": {
              "outlinewidth": 0,
              "ticks": ""
             }
            },
            "type": "scatterternary"
           }
          ],
          "surface": [
           {
            "colorbar": {
             "outlinewidth": 0,
             "ticks": ""
            },
            "colorscale": [
             [
              0,
              "#0d0887"
             ],
             [
              0.1111111111111111,
              "#46039f"
             ],
             [
              0.2222222222222222,
              "#7201a8"
             ],
             [
              0.3333333333333333,
              "#9c179e"
             ],
             [
              0.4444444444444444,
              "#bd3786"
             ],
             [
              0.5555555555555556,
              "#d8576b"
             ],
             [
              0.6666666666666666,
              "#ed7953"
             ],
             [
              0.7777777777777778,
              "#fb9f3a"
             ],
             [
              0.8888888888888888,
              "#fdca26"
             ],
             [
              1,
              "#f0f921"
             ]
            ],
            "type": "surface"
           }
          ],
          "table": [
           {
            "cells": {
             "fill": {
              "color": "#EBF0F8"
             },
             "line": {
              "color": "white"
             }
            },
            "header": {
             "fill": {
              "color": "#C8D4E3"
             },
             "line": {
              "color": "white"
             }
            },
            "type": "table"
           }
          ]
         },
         "layout": {
          "annotationdefaults": {
           "arrowcolor": "#2a3f5f",
           "arrowhead": 0,
           "arrowwidth": 1
          },
          "autotypenumbers": "strict",
          "coloraxis": {
           "colorbar": {
            "outlinewidth": 0,
            "ticks": ""
           }
          },
          "colorscale": {
           "diverging": [
            [
             0,
             "#8e0152"
            ],
            [
             0.1,
             "#c51b7d"
            ],
            [
             0.2,
             "#de77ae"
            ],
            [
             0.3,
             "#f1b6da"
            ],
            [
             0.4,
             "#fde0ef"
            ],
            [
             0.5,
             "#f7f7f7"
            ],
            [
             0.6,
             "#e6f5d0"
            ],
            [
             0.7,
             "#b8e186"
            ],
            [
             0.8,
             "#7fbc41"
            ],
            [
             0.9,
             "#4d9221"
            ],
            [
             1,
             "#276419"
            ]
           ],
           "sequential": [
            [
             0,
             "#0d0887"
            ],
            [
             0.1111111111111111,
             "#46039f"
            ],
            [
             0.2222222222222222,
             "#7201a8"
            ],
            [
             0.3333333333333333,
             "#9c179e"
            ],
            [
             0.4444444444444444,
             "#bd3786"
            ],
            [
             0.5555555555555556,
             "#d8576b"
            ],
            [
             0.6666666666666666,
             "#ed7953"
            ],
            [
             0.7777777777777778,
             "#fb9f3a"
            ],
            [
             0.8888888888888888,
             "#fdca26"
            ],
            [
             1,
             "#f0f921"
            ]
           ],
           "sequentialminus": [
            [
             0,
             "#0d0887"
            ],
            [
             0.1111111111111111,
             "#46039f"
            ],
            [
             0.2222222222222222,
             "#7201a8"
            ],
            [
             0.3333333333333333,
             "#9c179e"
            ],
            [
             0.4444444444444444,
             "#bd3786"
            ],
            [
             0.5555555555555556,
             "#d8576b"
            ],
            [
             0.6666666666666666,
             "#ed7953"
            ],
            [
             0.7777777777777778,
             "#fb9f3a"
            ],
            [
             0.8888888888888888,
             "#fdca26"
            ],
            [
             1,
             "#f0f921"
            ]
           ]
          },
          "colorway": [
           "#636efa",
           "#EF553B",
           "#00cc96",
           "#ab63fa",
           "#FFA15A",
           "#19d3f3",
           "#FF6692",
           "#B6E880",
           "#FF97FF",
           "#FECB52"
          ],
          "font": {
           "color": "#2a3f5f"
          },
          "geo": {
           "bgcolor": "white",
           "lakecolor": "white",
           "landcolor": "#E5ECF6",
           "showlakes": true,
           "showland": true,
           "subunitcolor": "white"
          },
          "hoverlabel": {
           "align": "left"
          },
          "hovermode": "closest",
          "mapbox": {
           "style": "light"
          },
          "paper_bgcolor": "white",
          "plot_bgcolor": "#E5ECF6",
          "polar": {
           "angularaxis": {
            "gridcolor": "white",
            "linecolor": "white",
            "ticks": ""
           },
           "bgcolor": "#E5ECF6",
           "radialaxis": {
            "gridcolor": "white",
            "linecolor": "white",
            "ticks": ""
           }
          },
          "scene": {
           "xaxis": {
            "backgroundcolor": "#E5ECF6",
            "gridcolor": "white",
            "gridwidth": 2,
            "linecolor": "white",
            "showbackground": true,
            "ticks": "",
            "zerolinecolor": "white"
           },
           "yaxis": {
            "backgroundcolor": "#E5ECF6",
            "gridcolor": "white",
            "gridwidth": 2,
            "linecolor": "white",
            "showbackground": true,
            "ticks": "",
            "zerolinecolor": "white"
           },
           "zaxis": {
            "backgroundcolor": "#E5ECF6",
            "gridcolor": "white",
            "gridwidth": 2,
            "linecolor": "white",
            "showbackground": true,
            "ticks": "",
            "zerolinecolor": "white"
           }
          },
          "shapedefaults": {
           "line": {
            "color": "#2a3f5f"
           }
          },
          "ternary": {
           "aaxis": {
            "gridcolor": "white",
            "linecolor": "white",
            "ticks": ""
           },
           "baxis": {
            "gridcolor": "white",
            "linecolor": "white",
            "ticks": ""
           },
           "bgcolor": "#E5ECF6",
           "caxis": {
            "gridcolor": "white",
            "linecolor": "white",
            "ticks": ""
           }
          },
          "title": {
           "x": 0.05
          },
          "xaxis": {
           "automargin": true,
           "gridcolor": "white",
           "linecolor": "white",
           "ticks": "",
           "title": {
            "standoff": 15
           },
           "zerolinecolor": "white",
           "zerolinewidth": 2
          },
          "yaxis": {
           "automargin": true,
           "gridcolor": "white",
           "linecolor": "white",
           "ticks": "",
           "title": {
            "standoff": 15
           },
           "zerolinecolor": "white",
           "zerolinewidth": 2
          }
         }
        },
        "title": {
         "font": {
          "color": "#4D5663"
         },
         "text": "ESPORT THROUGH DECADES"
        },
        "xaxis": {
         "anchor": "y",
         "domain": [
          0,
          0.2888888888888889
         ],
         "gridcolor": "#E1E5ED",
         "showgrid": false,
         "tickfont": {
          "color": "#4D5663"
         },
         "title": {
          "font": {
           "color": "#4D5663"
          },
          "text": ""
         },
         "zerolinecolor": "#E1E5ED"
        },
        "xaxis2": {
         "anchor": "y2",
         "domain": [
          0.35555555555555557,
          0.6444444444444445
         ],
         "gridcolor": "#E1E5ED",
         "showgrid": false,
         "tickfont": {
          "color": "#4D5663"
         },
         "title": {
          "font": {
           "color": "#4D5663"
          },
          "text": ""
         },
         "zerolinecolor": "#E1E5ED"
        },
        "xaxis3": {
         "anchor": "y3",
         "domain": [
          0.7111111111111111,
          1
         ],
         "gridcolor": "#E1E5ED",
         "showgrid": false,
         "tickfont": {
          "color": "#4D5663"
         },
         "title": {
          "font": {
           "color": "#4D5663"
          },
          "text": ""
         },
         "zerolinecolor": "#E1E5ED"
        },
        "yaxis": {
         "anchor": "x",
         "domain": [
          0,
          1
         ],
         "gridcolor": "#E1E5ED",
         "showgrid": false,
         "tickfont": {
          "color": "#4D5663"
         },
         "title": {
          "font": {
           "color": "#4D5663"
          },
          "text": ""
         },
         "zerolinecolor": "#E1E5ED"
        },
        "yaxis2": {
         "anchor": "x2",
         "domain": [
          0,
          1
         ],
         "gridcolor": "#E1E5ED",
         "showgrid": false,
         "tickfont": {
          "color": "#4D5663"
         },
         "title": {
          "font": {
           "color": "#4D5663"
          },
          "text": ""
         },
         "zerolinecolor": "#E1E5ED"
        },
        "yaxis3": {
         "anchor": "x3",
         "domain": [
          0,
          1
         ],
         "gridcolor": "#E1E5ED",
         "showgrid": false,
         "tickfont": {
          "color": "#4D5663"
         },
         "title": {
          "font": {
           "color": "#4D5663"
          },
          "text": ""
         },
         "zerolinecolor": "#E1E5ED"
        }
       }
      },
      "text/html": [
       "<div>                            <div id=\"1aee7a4b-83c9-4a4a-94ba-447ddceaf499\" class=\"plotly-graph-div\" style=\"height:525px; width:100%;\"></div>            <script type=\"text/javascript\">                require([\"plotly\"], function(Plotly) {                    window.PLOTLYENV=window.PLOTLYENV || {};\n",
       "                    window.PLOTLYENV.BASE_URL='https://plot.ly';                                    if (document.getElementById(\"1aee7a4b-83c9-4a4a-94ba-447ddceaf499\")) {                    Plotly.newPlot(                        \"1aee7a4b-83c9-4a4a-94ba-447ddceaf499\",                        [{\"line\": {\"color\": \"rgba(179, 226, 205, 1.0)\", \"dash\": \"solid\", \"shape\": \"linear\", \"width\": 1.3}, \"marker\": {\"size\": 12, \"symbol\": \"circle\"}, \"mode\": \"lines+markers\", \"name\": \"PlayerNo\", \"text\": \"\", \"type\": \"scatter\", \"x\": [\"1981-12-31\", \"1991-12-31\", \"2001-12-31\", \"2011-12-31\", \"2021-12-31\"], \"xaxis\": \"x\", \"y\": [0.0, 27.0, 173.20754716981133, 143.42690058479533, 217.98194945848377], \"yaxis\": \"y\"}, {\"line\": {\"color\": \"rgba(253, 205, 172, 1.0)\", \"dash\": \"solid\", \"shape\": \"linear\", \"width\": 1.3}, \"marker\": {\"size\": 12, \"symbol\": \"circle\"}, \"mode\": \"lines+markers\", \"name\": \"TournamentNo\", \"text\": \"\", \"type\": \"scatter\", \"x\": [\"1981-12-31\", \"1991-12-31\", \"2001-12-31\", \"2011-12-31\", \"2021-12-31\"], \"xaxis\": \"x2\", \"y\": [0.0, 7.0, 101.52830188679245, 85.78947368421052, 74.50180505415162], \"yaxis\": \"y2\"}, {\"line\": {\"color\": \"rgba(203, 213, 232, 1.0)\", \"dash\": \"solid\", \"shape\": \"linear\", \"width\": 1.3}, \"marker\": {\"size\": 12, \"symbol\": \"circle\"}, \"mode\": \"lines+markers\", \"name\": \"TotalMoney\", \"text\": \"\", \"type\": \"scatter\", \"x\": [\"1981-12-31\", \"1991-12-31\", \"2001-12-31\", \"2011-12-31\", \"2021-12-31\"], \"xaxis\": \"x3\", \"y\": [0.0, 16026.38, 549873.1286792452, 959682.5879532165, 2476843.0591335744], \"yaxis\": \"y3\"}],                        {\"annotations\": [{\"font\": {\"size\": 16}, \"showarrow\": false, \"text\": \"PlayerNo\", \"x\": 0.14444444444444446, \"xanchor\": \"center\", \"xref\": \"paper\", \"y\": 1.0, \"yanchor\": \"bottom\", \"yref\": \"paper\"}, {\"font\": {\"size\": 16}, \"showarrow\": false, \"text\": \"TournamentNo\", \"x\": 0.5, \"xanchor\": \"center\", \"xref\": \"paper\", \"y\": 1.0, \"yanchor\": \"bottom\", \"yref\": \"paper\"}, {\"font\": {\"size\": 16}, \"showarrow\": false, \"text\": \"TotalMoney\", \"x\": 0.8555555555555556, \"xanchor\": \"center\", \"xref\": \"paper\", \"y\": 1.0, \"yanchor\": \"bottom\", \"yref\": \"paper\"}], \"legend\": {\"bgcolor\": \"#F5F6F9\", \"font\": {\"color\": \"#4D5663\"}}, \"paper_bgcolor\": \"#F5F6F9\", \"plot_bgcolor\": \"#F5F6F9\", \"template\": {\"data\": {\"bar\": [{\"error_x\": {\"color\": \"#2a3f5f\"}, \"error_y\": {\"color\": \"#2a3f5f\"}, \"marker\": {\"line\": {\"color\": \"#E5ECF6\", \"width\": 0.5}}, \"type\": \"bar\"}], \"barpolar\": [{\"marker\": {\"line\": {\"color\": \"#E5ECF6\", \"width\": 0.5}}, \"type\": \"barpolar\"}], \"carpet\": [{\"aaxis\": {\"endlinecolor\": \"#2a3f5f\", \"gridcolor\": \"white\", \"linecolor\": \"white\", \"minorgridcolor\": \"white\", \"startlinecolor\": \"#2a3f5f\"}, \"baxis\": {\"endlinecolor\": \"#2a3f5f\", \"gridcolor\": \"white\", \"linecolor\": \"white\", \"minorgridcolor\": \"white\", \"startlinecolor\": \"#2a3f5f\"}, \"type\": \"carpet\"}], \"choropleth\": [{\"colorbar\": {\"outlinewidth\": 0, \"ticks\": \"\"}, \"type\": \"choropleth\"}], \"contour\": [{\"colorbar\": {\"outlinewidth\": 0, \"ticks\": \"\"}, \"colorscale\": [[0.0, \"#0d0887\"], [0.1111111111111111, \"#46039f\"], [0.2222222222222222, \"#7201a8\"], [0.3333333333333333, \"#9c179e\"], [0.4444444444444444, \"#bd3786\"], [0.5555555555555556, \"#d8576b\"], [0.6666666666666666, \"#ed7953\"], [0.7777777777777778, \"#fb9f3a\"], [0.8888888888888888, \"#fdca26\"], [1.0, \"#f0f921\"]], \"type\": \"contour\"}], \"contourcarpet\": [{\"colorbar\": {\"outlinewidth\": 0, \"ticks\": \"\"}, \"type\": \"contourcarpet\"}], \"heatmap\": [{\"colorbar\": {\"outlinewidth\": 0, \"ticks\": \"\"}, \"colorscale\": [[0.0, \"#0d0887\"], [0.1111111111111111, \"#46039f\"], [0.2222222222222222, \"#7201a8\"], [0.3333333333333333, \"#9c179e\"], [0.4444444444444444, \"#bd3786\"], [0.5555555555555556, \"#d8576b\"], [0.6666666666666666, \"#ed7953\"], [0.7777777777777778, \"#fb9f3a\"], [0.8888888888888888, \"#fdca26\"], [1.0, \"#f0f921\"]], \"type\": \"heatmap\"}], \"heatmapgl\": [{\"colorbar\": {\"outlinewidth\": 0, \"ticks\": \"\"}, \"colorscale\": [[0.0, \"#0d0887\"], [0.1111111111111111, \"#46039f\"], [0.2222222222222222, \"#7201a8\"], [0.3333333333333333, \"#9c179e\"], [0.4444444444444444, \"#bd3786\"], [0.5555555555555556, \"#d8576b\"], [0.6666666666666666, \"#ed7953\"], [0.7777777777777778, \"#fb9f3a\"], [0.8888888888888888, \"#fdca26\"], [1.0, \"#f0f921\"]], \"type\": \"heatmapgl\"}], \"histogram\": [{\"marker\": {\"colorbar\": {\"outlinewidth\": 0, \"ticks\": \"\"}}, \"type\": \"histogram\"}], \"histogram2d\": [{\"colorbar\": {\"outlinewidth\": 0, \"ticks\": \"\"}, \"colorscale\": [[0.0, \"#0d0887\"], [0.1111111111111111, \"#46039f\"], [0.2222222222222222, \"#7201a8\"], [0.3333333333333333, \"#9c179e\"], [0.4444444444444444, \"#bd3786\"], [0.5555555555555556, \"#d8576b\"], [0.6666666666666666, \"#ed7953\"], [0.7777777777777778, \"#fb9f3a\"], [0.8888888888888888, \"#fdca26\"], [1.0, \"#f0f921\"]], \"type\": \"histogram2d\"}], \"histogram2dcontour\": [{\"colorbar\": {\"outlinewidth\": 0, \"ticks\": \"\"}, \"colorscale\": [[0.0, \"#0d0887\"], [0.1111111111111111, \"#46039f\"], [0.2222222222222222, \"#7201a8\"], [0.3333333333333333, \"#9c179e\"], [0.4444444444444444, \"#bd3786\"], [0.5555555555555556, \"#d8576b\"], [0.6666666666666666, \"#ed7953\"], [0.7777777777777778, \"#fb9f3a\"], [0.8888888888888888, \"#fdca26\"], [1.0, \"#f0f921\"]], \"type\": \"histogram2dcontour\"}], \"mesh3d\": [{\"colorbar\": {\"outlinewidth\": 0, \"ticks\": \"\"}, \"type\": \"mesh3d\"}], \"parcoords\": [{\"line\": {\"colorbar\": {\"outlinewidth\": 0, \"ticks\": \"\"}}, \"type\": \"parcoords\"}], \"pie\": [{\"automargin\": true, \"type\": \"pie\"}], \"scatter\": [{\"marker\": {\"colorbar\": {\"outlinewidth\": 0, \"ticks\": \"\"}}, \"type\": \"scatter\"}], \"scatter3d\": [{\"line\": {\"colorbar\": {\"outlinewidth\": 0, \"ticks\": \"\"}}, \"marker\": {\"colorbar\": {\"outlinewidth\": 0, \"ticks\": \"\"}}, \"type\": \"scatter3d\"}], \"scattercarpet\": [{\"marker\": {\"colorbar\": {\"outlinewidth\": 0, \"ticks\": \"\"}}, \"type\": \"scattercarpet\"}], \"scattergeo\": [{\"marker\": {\"colorbar\": {\"outlinewidth\": 0, \"ticks\": \"\"}}, \"type\": \"scattergeo\"}], \"scattergl\": [{\"marker\": {\"colorbar\": {\"outlinewidth\": 0, \"ticks\": \"\"}}, \"type\": \"scattergl\"}], \"scattermapbox\": [{\"marker\": {\"colorbar\": {\"outlinewidth\": 0, \"ticks\": \"\"}}, \"type\": \"scattermapbox\"}], \"scatterpolar\": [{\"marker\": {\"colorbar\": {\"outlinewidth\": 0, \"ticks\": \"\"}}, \"type\": \"scatterpolar\"}], \"scatterpolargl\": [{\"marker\": {\"colorbar\": {\"outlinewidth\": 0, \"ticks\": \"\"}}, \"type\": \"scatterpolargl\"}], \"scatterternary\": [{\"marker\": {\"colorbar\": {\"outlinewidth\": 0, \"ticks\": \"\"}}, \"type\": \"scatterternary\"}], \"surface\": [{\"colorbar\": {\"outlinewidth\": 0, \"ticks\": \"\"}, \"colorscale\": [[0.0, \"#0d0887\"], [0.1111111111111111, \"#46039f\"], [0.2222222222222222, \"#7201a8\"], [0.3333333333333333, \"#9c179e\"], [0.4444444444444444, \"#bd3786\"], [0.5555555555555556, \"#d8576b\"], [0.6666666666666666, \"#ed7953\"], [0.7777777777777778, \"#fb9f3a\"], [0.8888888888888888, \"#fdca26\"], [1.0, \"#f0f921\"]], \"type\": \"surface\"}], \"table\": [{\"cells\": {\"fill\": {\"color\": \"#EBF0F8\"}, \"line\": {\"color\": \"white\"}}, \"header\": {\"fill\": {\"color\": \"#C8D4E3\"}, \"line\": {\"color\": \"white\"}}, \"type\": \"table\"}]}, \"layout\": {\"annotationdefaults\": {\"arrowcolor\": \"#2a3f5f\", \"arrowhead\": 0, \"arrowwidth\": 1}, \"autotypenumbers\": \"strict\", \"coloraxis\": {\"colorbar\": {\"outlinewidth\": 0, \"ticks\": \"\"}}, \"colorscale\": {\"diverging\": [[0, \"#8e0152\"], [0.1, \"#c51b7d\"], [0.2, \"#de77ae\"], [0.3, \"#f1b6da\"], [0.4, \"#fde0ef\"], [0.5, \"#f7f7f7\"], [0.6, \"#e6f5d0\"], [0.7, \"#b8e186\"], [0.8, \"#7fbc41\"], [0.9, \"#4d9221\"], [1, \"#276419\"]], \"sequential\": [[0.0, \"#0d0887\"], [0.1111111111111111, \"#46039f\"], [0.2222222222222222, \"#7201a8\"], [0.3333333333333333, \"#9c179e\"], [0.4444444444444444, \"#bd3786\"], [0.5555555555555556, \"#d8576b\"], [0.6666666666666666, \"#ed7953\"], [0.7777777777777778, \"#fb9f3a\"], [0.8888888888888888, \"#fdca26\"], [1.0, \"#f0f921\"]], \"sequentialminus\": [[0.0, \"#0d0887\"], [0.1111111111111111, \"#46039f\"], [0.2222222222222222, \"#7201a8\"], [0.3333333333333333, \"#9c179e\"], [0.4444444444444444, \"#bd3786\"], [0.5555555555555556, \"#d8576b\"], [0.6666666666666666, \"#ed7953\"], [0.7777777777777778, \"#fb9f3a\"], [0.8888888888888888, \"#fdca26\"], [1.0, \"#f0f921\"]]}, \"colorway\": [\"#636efa\", \"#EF553B\", \"#00cc96\", \"#ab63fa\", \"#FFA15A\", \"#19d3f3\", \"#FF6692\", \"#B6E880\", \"#FF97FF\", \"#FECB52\"], \"font\": {\"color\": \"#2a3f5f\"}, \"geo\": {\"bgcolor\": \"white\", \"lakecolor\": \"white\", \"landcolor\": \"#E5ECF6\", \"showlakes\": true, \"showland\": true, \"subunitcolor\": \"white\"}, \"hoverlabel\": {\"align\": \"left\"}, \"hovermode\": \"closest\", \"mapbox\": {\"style\": \"light\"}, \"paper_bgcolor\": \"white\", \"plot_bgcolor\": \"#E5ECF6\", \"polar\": {\"angularaxis\": {\"gridcolor\": \"white\", \"linecolor\": \"white\", \"ticks\": \"\"}, \"bgcolor\": \"#E5ECF6\", \"radialaxis\": {\"gridcolor\": \"white\", \"linecolor\": \"white\", \"ticks\": \"\"}}, \"scene\": {\"xaxis\": {\"backgroundcolor\": \"#E5ECF6\", \"gridcolor\": \"white\", \"gridwidth\": 2, \"linecolor\": \"white\", \"showbackground\": true, \"ticks\": \"\", \"zerolinecolor\": \"white\"}, \"yaxis\": {\"backgroundcolor\": \"#E5ECF6\", \"gridcolor\": \"white\", \"gridwidth\": 2, \"linecolor\": \"white\", \"showbackground\": true, \"ticks\": \"\", \"zerolinecolor\": \"white\"}, \"zaxis\": {\"backgroundcolor\": \"#E5ECF6\", \"gridcolor\": \"white\", \"gridwidth\": 2, \"linecolor\": \"white\", \"showbackground\": true, \"ticks\": \"\", \"zerolinecolor\": \"white\"}}, \"shapedefaults\": {\"line\": {\"color\": \"#2a3f5f\"}}, \"ternary\": {\"aaxis\": {\"gridcolor\": \"white\", \"linecolor\": \"white\", \"ticks\": \"\"}, \"baxis\": {\"gridcolor\": \"white\", \"linecolor\": \"white\", \"ticks\": \"\"}, \"bgcolor\": \"#E5ECF6\", \"caxis\": {\"gridcolor\": \"white\", \"linecolor\": \"white\", \"ticks\": \"\"}}, \"title\": {\"x\": 0.05}, \"xaxis\": {\"automargin\": true, \"gridcolor\": \"white\", \"linecolor\": \"white\", \"ticks\": \"\", \"title\": {\"standoff\": 15}, \"zerolinecolor\": \"white\", \"zerolinewidth\": 2}, \"yaxis\": {\"automargin\": true, \"gridcolor\": \"white\", \"linecolor\": \"white\", \"ticks\": \"\", \"title\": {\"standoff\": 15}, \"zerolinecolor\": \"white\", \"zerolinewidth\": 2}}}, \"title\": {\"font\": {\"color\": \"#4D5663\"}, \"text\": \"ESPORT THROUGH DECADES\"}, \"xaxis\": {\"anchor\": \"y\", \"domain\": [0.0, 0.2888888888888889], \"gridcolor\": \"#E1E5ED\", \"showgrid\": false, \"tickfont\": {\"color\": \"#4D5663\"}, \"title\": {\"font\": {\"color\": \"#4D5663\"}, \"text\": \"\"}, \"zerolinecolor\": \"#E1E5ED\"}, \"xaxis2\": {\"anchor\": \"y2\", \"domain\": [0.35555555555555557, 0.6444444444444445], \"gridcolor\": \"#E1E5ED\", \"showgrid\": false, \"tickfont\": {\"color\": \"#4D5663\"}, \"title\": {\"font\": {\"color\": \"#4D5663\"}, \"text\": \"\"}, \"zerolinecolor\": \"#E1E5ED\"}, \"xaxis3\": {\"anchor\": \"y3\", \"domain\": [0.7111111111111111, 1.0], \"gridcolor\": \"#E1E5ED\", \"showgrid\": false, \"tickfont\": {\"color\": \"#4D5663\"}, \"title\": {\"font\": {\"color\": \"#4D5663\"}, \"text\": \"\"}, \"zerolinecolor\": \"#E1E5ED\"}, \"yaxis\": {\"anchor\": \"x\", \"domain\": [0.0, 1.0], \"gridcolor\": \"#E1E5ED\", \"showgrid\": false, \"tickfont\": {\"color\": \"#4D5663\"}, \"title\": {\"font\": {\"color\": \"#4D5663\"}, \"text\": \"\"}, \"zerolinecolor\": \"#E1E5ED\"}, \"yaxis2\": {\"anchor\": \"x2\", \"domain\": [0.0, 1.0], \"gridcolor\": \"#E1E5ED\", \"showgrid\": false, \"tickfont\": {\"color\": \"#4D5663\"}, \"title\": {\"font\": {\"color\": \"#4D5663\"}, \"text\": \"\"}, \"zerolinecolor\": \"#E1E5ED\"}, \"yaxis3\": {\"anchor\": \"x3\", \"domain\": [0.0, 1.0], \"gridcolor\": \"#E1E5ED\", \"showgrid\": false, \"tickfont\": {\"color\": \"#4D5663\"}, \"title\": {\"font\": {\"color\": \"#4D5663\"}, \"text\": \"\"}, \"zerolinecolor\": \"#E1E5ED\"}},                        {\"showLink\": true, \"linkText\": \"Export to plot.ly\", \"plotlyServerURL\": \"https://plot.ly\", \"responsive\": true}                    ).then(function(){\n",
       "                            \n",
       "var gd = document.getElementById('1aee7a4b-83c9-4a4a-94ba-447ddceaf499');\n",
       "var x = new MutationObserver(function (mutations, observer) {{\n",
       "        var display = window.getComputedStyle(gd).display;\n",
       "        if (!display || display === 'none') {{\n",
       "            console.log([gd, 'removed!']);\n",
       "            Plotly.purge(gd);\n",
       "            observer.disconnect();\n",
       "        }}\n",
       "}});\n",
       "\n",
       "// Listen for the removal of the full notebook cells\n",
       "var notebookContainer = gd.closest('#notebook-container');\n",
       "if (notebookContainer) {{\n",
       "    x.observe(notebookContainer, {childList: true});\n",
       "}}\n",
       "\n",
       "// Listen for the clearing of the current output cell\n",
       "var outputEl = gd.closest('.output');\n",
       "if (outputEl) {{\n",
       "    x.observe(outputEl, {childList: true});\n",
       "}}\n",
       "\n",
       "                        })                };                });            </script>        </div>"
      ]
     },
     "metadata": {},
     "output_type": "display_data"
    },
    {
     "data": {
      "text/plain": [
       "<seaborn.axisgrid.PairGrid at 0x7f5dcf99d640>"
      ]
     },
     "execution_count": 19,
     "metadata": {},
     "output_type": "execute_result"
    },
    {
     "data": {
      "image/png": "[encoded data removed]",
      "text/plain": [
       "<Figure size 1080x540 with 12 Axes>"
      ]
     },
     "metadata": {
      "needs_background": "light"
     },
     "output_type": "display_data"
    }
   ],
   "source": [
    "# ESport through decade\n",
    "Decades = df.resample('10Y')['PlayerNo', 'TournamentNo', 'TotalMoney'].mean()\n",
    "Decades.iplot(kind='line',\n",
    "              mode='lines+markers',\n",
    "              colorscale='pastel2',\n",
    "              showgrid=False,\n",
    "              subplots=True,\n",
    "              shape=(1, 3),\n",
    "              title='ESPORT THROUGH DECADES',\n",
    "              subplot_titles=True)\n",
    "\n",
    "sns.pairplot(Decades, aspect=2,\n",
    "             diag_kind='kde', kind=\"reg\", plot_kws={'line_kws': {'color': 'orange'}})"
   ]
  },
  {
   "cell_type": "markdown",
   "id": "ad674b86",
   "metadata": {},
   "source": [
    "### No of Game by Genre\n",
    "\n",
    "- Fighting Game, First-Person Shooter, Sport, Strategy and Racing are the top 5 with no of Game in ESport respectively."
   ]
  },
  {
   "cell_type": "code",
   "execution_count": 20,
   "id": "e7e859e1",
   "metadata": {
    "ExecuteTime": {
     "end_time": "2021-07-08T17:25:21.098090Z",
     "start_time": "2021-07-08T17:25:21.066920Z"
    }
   },
   "outputs": [
    {
     "data": {
      "application/vnd.plotly.v1+json": {
       "config": {
        "linkText": "Export to plot.ly",
        "plotlyServerURL": "https://plot.ly",
        "showLink": true
       },
       "data": [
        {
         "marker": {
          "color": "rgba(182, 236, 243, 0.6)",
          "line": {
           "color": "rgba(182, 236, 243, 1.0)",
           "width": 1
          }
         },
         "name": "GameName",
         "orientation": "v",
         "text": "",
         "type": "bar",
         "x": [
          "Battle Royale",
          "Collectible Card Game",
          "Fighting Game",
          "First-Person Shooter",
          "Multiplayer Online Battle Arena",
          "Puzzle Game",
          "Racing",
          "Role-Playing Game",
          "Sports",
          "Strategy",
          "Third-Person Shooter"
         ],
         "y": [
          11,
          13,
          160,
          106,
          22,
          14,
          49,
          5,
          66,
          50,
          7
         ]
        }
       ],
       "layout": {
        "legend": {
         "bgcolor": "#F5F6F9",
         "font": {
          "color": "#4D5663"
         }
        },
        "paper_bgcolor": "#F5F6F9",
        "plot_bgcolor": "#F5F6F9",
        "shapes": [
         {
          "line": {
           "color": "#ff9933",
           "dash": "solid",
           "width": 1
          },
          "type": "line",
          "x0": "Fighting Game",
          "x1": "Fighting Game",
          "xref": "x",
          "y0": 0,
          "y1": 1,
          "yref": "paper"
         }
        ],
        "title": "No OF GAME BY GENRE",
        "titlefont": {
         "color": "#4D5663"
        },
        "xaxis": {
         "gridcolor": "#E1E5ED",
         "showgrid": false,
         "tickfont": {
          "color": "#4D5663"
         },
         "title": "",
         "titlefont": {
          "color": "#4D5663"
         },
         "zerolinecolor": "#E1E5ED"
        },
        "yaxis": {
         "gridcolor": "#E1E5ED",
         "showgrid": false,
         "tickfont": {
          "color": "#4D5663"
         },
         "title": "No of GAME",
         "titlefont": {
          "color": "#4D5663"
         },
         "zerolinecolor": "#E1E5ED"
        }
       }
      },
      "text/html": [
       "<div>                            <div id=\"8e88052e-0cda-41d2-a3d8-121bfd8b441b\" class=\"plotly-graph-div\" style=\"height:525px; width:100%;\"></div>            <script type=\"text/javascript\">                require([\"plotly\"], function(Plotly) {                    window.PLOTLYENV=window.PLOTLYENV || {};\n",
       "                    window.PLOTLYENV.BASE_URL='https://plot.ly';                                    if (document.getElementById(\"8e88052e-0cda-41d2-a3d8-121bfd8b441b\")) {                    Plotly.newPlot(                        \"8e88052e-0cda-41d2-a3d8-121bfd8b441b\",                        [{\"marker\": {\"color\": \"rgba(182, 236, 243, 0.6)\", \"line\": {\"color\": \"rgba(182, 236, 243, 1.0)\", \"width\": 1}}, \"name\": \"GameName\", \"orientation\": \"v\", \"text\": \"\", \"type\": \"bar\", \"x\": [\"Battle Royale\", \"Collectible Card Game\", \"Fighting Game\", \"First-Person Shooter\", \"Multiplayer Online Battle Arena\", \"Puzzle Game\", \"Racing\", \"Role-Playing Game\", \"Sports\", \"Strategy\", \"Third-Person Shooter\"], \"y\": [11, 13, 160, 106, 22, 14, 49, 5, 66, 50, 7]}],                        {\"legend\": {\"bgcolor\": \"#F5F6F9\", \"font\": {\"color\": \"#4D5663\"}}, \"paper_bgcolor\": \"#F5F6F9\", \"plot_bgcolor\": \"#F5F6F9\", \"shapes\": [{\"line\": {\"color\": \"#ff9933\", \"dash\": \"solid\", \"width\": 1}, \"type\": \"line\", \"x0\": \"Fighting Game\", \"x1\": \"Fighting Game\", \"xref\": \"x\", \"y0\": 0, \"y1\": 1, \"yref\": \"paper\"}], \"title\": \"No OF GAME BY GENRE\", \"titlefont\": {\"color\": \"#4D5663\"}, \"xaxis\": {\"gridcolor\": \"#E1E5ED\", \"showgrid\": false, \"tickfont\": {\"color\": \"#4D5663\"}, \"title\": \"\", \"titlefont\": {\"color\": \"#4D5663\"}, \"zerolinecolor\": \"#E1E5ED\"}, \"yaxis\": {\"gridcolor\": \"#E1E5ED\", \"showgrid\": false, \"tickfont\": {\"color\": \"#4D5663\"}, \"title\": \"No of GAME\", \"titlefont\": {\"color\": \"#4D5663\"}, \"zerolinecolor\": \"#E1E5ED\"}},                        {\"showLink\": true, \"linkText\": \"Export to plot.ly\", \"plotlyServerURL\": \"https://plot.ly\", \"responsive\": true}                    ).then(function(){\n",
       "                            \n",
       "var gd = document.getElementById('8e88052e-0cda-41d2-a3d8-121bfd8b441b');\n",
       "var x = new MutationObserver(function (mutations, observer) {{\n",
       "        var display = window.getComputedStyle(gd).display;\n",
       "        if (!display || display === 'none') {{\n",
       "            console.log([gd, 'removed!']);\n",
       "            Plotly.purge(gd);\n",
       "            observer.disconnect();\n",
       "        }}\n",
       "}});\n",
       "\n",
       "// Listen for the removal of the full notebook cells\n",
       "var notebookContainer = gd.closest('#notebook-container');\n",
       "if (notebookContainer) {{\n",
       "    x.observe(notebookContainer, {childList: true});\n",
       "}}\n",
       "\n",
       "// Listen for the clearing of the current output cell\n",
       "var outputEl = gd.closest('.output');\n",
       "if (outputEl) {{\n",
       "    x.observe(outputEl, {childList: true});\n",
       "}}\n",
       "\n",
       "                        })                };                });            </script>        </div>"
      ]
     },
     "metadata": {},
     "output_type": "display_data"
    }
   ],
   "source": [
    "# No of Game in each Genre\n",
    "c = df.groupby('Genre')['GameName'].count()\n",
    "c.iplot(kind='bar',\n",
    "        colorscale='henanigans',\n",
    "        showgrid=False,\n",
    "        title=\"No OF GAME BY GENRE\",\n",
    "        yTitle=\"No of GAME\",\n",
    "        vline=dict(x=c.index[2], color=\"orange\"))"
   ]
  },
  {
   "cell_type": "markdown",
   "id": "aa06c79b",
   "metadata": {},
   "source": [
    "### Top 10 earning countries\n",
    "- Three countries: United States, Korea and China are maintaining a highest earning in Esport.\n",
    "- The fourth earning country is Denmark but it is still byfar to the third position China."
   ]
  },
  {
   "cell_type": "code",
   "execution_count": 21,
   "id": "e3c23e59",
   "metadata": {
    "ExecuteTime": {
     "end_time": "2021-07-08T17:25:23.218110Z",
     "start_time": "2021-07-08T17:25:23.181110Z"
    }
   },
   "outputs": [
    {
     "data": {
      "application/vnd.plotly.v1+json": {
       "config": {
        "linkText": "Export to plot.ly",
        "plotlyServerURL": "https://plot.ly",
        "showLink": true
       },
       "data": [
        {
         "marker": {
          "color": "rgba(179, 226, 205, 0.6)",
          "line": {
           "color": "rgba(179, 226, 205, 1.0)",
           "width": 1
          }
         },
         "name": "Top_Country_Earnings",
         "orientation": "v",
         "text": "",
         "type": "bar",
         "x": [
          "United States",
          "Korea, Republic of",
          "China",
          "Denmark",
          "Sweden",
          "Japan",
          "Russian Federation",
          "Germany",
          "United Kingdom",
          "France"
         ],
         "y": [
          107718584.07999998,
          85408538.69000001,
          78206834.55999999,
          15400622.34,
          4031022.09,
          3747091.3400000003,
          1675031.62,
          1474729.0999999999,
          1461288.3700000003,
          624120.2999999999
         ]
        }
       ],
       "layout": {
        "legend": {
         "bgcolor": "#F5F6F9",
         "font": {
          "color": "#4D5663"
         }
        },
        "paper_bgcolor": "#F5F6F9",
        "plot_bgcolor": "#F5F6F9",
        "shapes": [
         {
          "line": {
           "color": "#db4052",
           "dash": "solid",
           "width": 1
          },
          "type": "rect",
          "x0": "United States",
          "x1": "China",
          "xref": "x",
          "y0": 0,
          "y1": 1,
          "yref": "paper"
         }
        ],
        "title": "TOP 10 EARNING COUNTRIES IN ESPORT",
        "titlefont": {
         "color": "#4D5663"
        },
        "xaxis": {
         "gridcolor": "#E1E5ED",
         "showgrid": false,
         "tickfont": {
          "color": "#4D5663"
         },
         "title": "",
         "titlefont": {
          "color": "#4D5663"
         },
         "zerolinecolor": "#E1E5ED"
        },
        "yaxis": {
         "gridcolor": "#E1E5ED",
         "showgrid": false,
         "tickfont": {
          "color": "#4D5663"
         },
         "title": "Earning $",
         "titlefont": {
          "color": "#4D5663"
         },
         "zerolinecolor": "#E1E5ED"
        }
       }
      },
      "text/html": [
       "<div>                            <div id=\"d0eff371-ca71-4cc9-8563-7a7aca8a7e0b\" class=\"plotly-graph-div\" style=\"height:525px; width:100%;\"></div>            <script type=\"text/javascript\">                require([\"plotly\"], function(Plotly) {                    window.PLOTLYENV=window.PLOTLYENV || {};\n",
       "                    window.PLOTLYENV.BASE_URL='https://plot.ly';                                    if (document.getElementById(\"d0eff371-ca71-4cc9-8563-7a7aca8a7e0b\")) {                    Plotly.newPlot(                        \"d0eff371-ca71-4cc9-8563-7a7aca8a7e0b\",                        [{\"marker\": {\"color\": \"rgba(179, 226, 205, 0.6)\", \"line\": {\"color\": \"rgba(179, 226, 205, 1.0)\", \"width\": 1}}, \"name\": \"Top_Country_Earnings\", \"orientation\": \"v\", \"text\": \"\", \"type\": \"bar\", \"x\": [\"United States\", \"Korea, Republic of\", \"China\", \"Denmark\", \"Sweden\", \"Japan\", \"Russian Federation\", \"Germany\", \"United Kingdom\", \"France\"], \"y\": [107718584.07999998, 85408538.69000001, 78206834.55999999, 15400622.34, 4031022.09, 3747091.3400000003, 1675031.62, 1474729.0999999999, 1461288.3700000003, 624120.2999999999]}],                        {\"legend\": {\"bgcolor\": \"#F5F6F9\", \"font\": {\"color\": \"#4D5663\"}}, \"paper_bgcolor\": \"#F5F6F9\", \"plot_bgcolor\": \"#F5F6F9\", \"shapes\": [{\"line\": {\"color\": \"#db4052\", \"dash\": \"solid\", \"width\": 1}, \"type\": \"rect\", \"x0\": \"United States\", \"x1\": \"China\", \"xref\": \"x\", \"y0\": 0, \"y1\": 1, \"yref\": \"paper\"}], \"title\": \"TOP 10 EARNING COUNTRIES IN ESPORT\", \"titlefont\": {\"color\": \"#4D5663\"}, \"xaxis\": {\"gridcolor\": \"#E1E5ED\", \"showgrid\": false, \"tickfont\": {\"color\": \"#4D5663\"}, \"title\": \"\", \"titlefont\": {\"color\": \"#4D5663\"}, \"zerolinecolor\": \"#E1E5ED\"}, \"yaxis\": {\"gridcolor\": \"#E1E5ED\", \"showgrid\": false, \"tickfont\": {\"color\": \"#4D5663\"}, \"title\": \"Earning $\", \"titlefont\": {\"color\": \"#4D5663\"}, \"zerolinecolor\": \"#E1E5ED\"}},                        {\"showLink\": true, \"linkText\": \"Export to plot.ly\", \"plotlyServerURL\": \"https://plot.ly\", \"responsive\": true}                    ).then(function(){\n",
       "                            \n",
       "var gd = document.getElementById('d0eff371-ca71-4cc9-8563-7a7aca8a7e0b');\n",
       "var x = new MutationObserver(function (mutations, observer) {{\n",
       "        var display = window.getComputedStyle(gd).display;\n",
       "        if (!display || display === 'none') {{\n",
       "            console.log([gd, 'removed!']);\n",
       "            Plotly.purge(gd);\n",
       "            observer.disconnect();\n",
       "        }}\n",
       "}});\n",
       "\n",
       "// Listen for the removal of the full notebook cells\n",
       "var notebookContainer = gd.closest('#notebook-container');\n",
       "if (notebookContainer) {{\n",
       "    x.observe(notebookContainer, {childList: true});\n",
       "}}\n",
       "\n",
       "// Listen for the clearing of the current output cell\n",
       "var outputEl = gd.closest('.output');\n",
       "if (outputEl) {{\n",
       "    x.observe(outputEl, {childList: true});\n",
       "}}\n",
       "\n",
       "                        })                };                });            </script>        </div>"
      ]
     },
     "metadata": {},
     "output_type": "display_data"
    }
   ],
   "source": [
    "# Top 10 earning countries\n",
    "d = df.groupby('Top_Country')['Top_Country_Earnings'].sum().nlargest(10)\n",
    "d.iplot(kind='bar',\n",
    "        colorscale='pastel2',\n",
    "        showgrid=False,\n",
    "        title=\"TOP 10 EARNING COUNTRIES IN ESPORT\",\n",
    "        yTitle=\"Earning $\",\n",
    "        mode=\"lines+markers\",\n",
    "        vspan=dict(x0=d.index[0], x1=d.index[2]))"
   ]
  },
  {
   "cell_type": "markdown",
   "id": "35cb1e5c",
   "metadata": {},
   "source": [
    "### Top 10 Games with highest value in $\n",
    "- Dota 2 is the game with highest value in ESport. Its value even more than double the value of the second position Counter-Strike: GO"
   ]
  },
  {
   "cell_type": "code",
   "execution_count": 22,
   "id": "5ff7db56",
   "metadata": {
    "ExecuteTime": {
     "end_time": "2021-07-08T17:25:26.095457Z",
     "start_time": "2021-07-08T17:25:26.078726Z"
    }
   },
   "outputs": [
    {
     "data": {
      "application/vnd.plotly.v1+json": {
       "config": {
        "linkText": "Export to plot.ly",
        "plotlyServerURL": "https://plot.ly",
        "showLink": true
       },
       "data": [
        {
         "marker": {
          "color": "rgba(251, 180, 174, 0.6)",
          "line": {
           "color": "rgba(251, 180, 174, 1.0)",
           "width": 1
          }
         },
         "name": "TotalMoney",
         "orientation": "v",
         "text": "",
         "type": "bar",
         "x": [
          "Dota 2",
          "Counter-Strike: Global Offensive",
          "Fortnite",
          "League of Legends",
          "StarCraft II",
          "Overwatch",
          "PLAYERUNKNOWN'S BATTLEGROUNDS",
          "Hearthstone",
          "Heroes of the Storm",
          "Arena of Valor"
         ],
         "y": [
          227419904.51,
          102474261.25,
          97508425,
          79003448.94,
          33914062.96,
          26049333.28,
          23710378.57,
          23098378.24,
          18177982.65,
          15228710.62
         ]
        }
       ],
       "layout": {
        "legend": {
         "bgcolor": "#F5F6F9",
         "font": {
          "color": "#4D5663"
         }
        },
        "paper_bgcolor": "#F5F6F9",
        "plot_bgcolor": "#F5F6F9",
        "shapes": [
         {
          "line": {
           "color": "#3780bf",
           "dash": "solid",
           "width": 1
          },
          "type": "line",
          "x0": "Dota 2",
          "x1": "Dota 2",
          "xref": "x",
          "y0": 0,
          "y1": 1,
          "yref": "paper"
         }
        ],
        "title": "TOP 10 GAMES WITH HIGHEST VALUE",
        "titlefont": {
         "color": "#4D5663"
        },
        "xaxis": {
         "gridcolor": "#E1E5ED",
         "showgrid": false,
         "tickfont": {
          "color": "#4D5663"
         },
         "title": "",
         "titlefont": {
          "color": "#4D5663"
         },
         "zerolinecolor": "#E1E5ED"
        },
        "yaxis": {
         "gridcolor": "#E1E5ED",
         "showgrid": false,
         "tickfont": {
          "color": "#4D5663"
         },
         "title": "TOTAL MONEY $",
         "titlefont": {
          "color": "#4D5663"
         },
         "zerolinecolor": "#E1E5ED"
        }
       }
      },
      "text/html": [
       "<div>                            <div id=\"9c48a3e4-f267-495b-9f1d-a7e16048d8c2\" class=\"plotly-graph-div\" style=\"height:525px; width:100%;\"></div>            <script type=\"text/javascript\">                require([\"plotly\"], function(Plotly) {                    window.PLOTLYENV=window.PLOTLYENV || {};\n",
       "                    window.PLOTLYENV.BASE_URL='https://plot.ly';                                    if (document.getElementById(\"9c48a3e4-f267-495b-9f1d-a7e16048d8c2\")) {                    Plotly.newPlot(                        \"9c48a3e4-f267-495b-9f1d-a7e16048d8c2\",                        [{\"marker\": {\"color\": \"rgba(251, 180, 174, 0.6)\", \"line\": {\"color\": \"rgba(251, 180, 174, 1.0)\", \"width\": 1}}, \"name\": \"TotalMoney\", \"orientation\": \"v\", \"text\": \"\", \"type\": \"bar\", \"x\": [\"Dota 2\", \"Counter-Strike: Global Offensive\", \"Fortnite\", \"League of Legends\", \"StarCraft II\", \"Overwatch\", \"PLAYERUNKNOWN'S BATTLEGROUNDS\", \"Hearthstone\", \"Heroes of the Storm\", \"Arena of Valor\"], \"y\": [227419904.51, 102474261.25, 97508425.0, 79003448.94, 33914062.96, 26049333.28, 23710378.57, 23098378.24, 18177982.65, 15228710.62]}],                        {\"legend\": {\"bgcolor\": \"#F5F6F9\", \"font\": {\"color\": \"#4D5663\"}}, \"paper_bgcolor\": \"#F5F6F9\", \"plot_bgcolor\": \"#F5F6F9\", \"shapes\": [{\"line\": {\"color\": \"#3780bf\", \"dash\": \"solid\", \"width\": 1}, \"type\": \"line\", \"x0\": \"Dota 2\", \"x1\": \"Dota 2\", \"xref\": \"x\", \"y0\": 0, \"y1\": 1, \"yref\": \"paper\"}], \"title\": \"TOP 10 GAMES WITH HIGHEST VALUE\", \"titlefont\": {\"color\": \"#4D5663\"}, \"xaxis\": {\"gridcolor\": \"#E1E5ED\", \"showgrid\": false, \"tickfont\": {\"color\": \"#4D5663\"}, \"title\": \"\", \"titlefont\": {\"color\": \"#4D5663\"}, \"zerolinecolor\": \"#E1E5ED\"}, \"yaxis\": {\"gridcolor\": \"#E1E5ED\", \"showgrid\": false, \"tickfont\": {\"color\": \"#4D5663\"}, \"title\": \"TOTAL MONEY $\", \"titlefont\": {\"color\": \"#4D5663\"}, \"zerolinecolor\": \"#E1E5ED\"}},                        {\"showLink\": true, \"linkText\": \"Export to plot.ly\", \"plotlyServerURL\": \"https://plot.ly\", \"responsive\": true}                    ).then(function(){\n",
       "                            \n",
       "var gd = document.getElementById('9c48a3e4-f267-495b-9f1d-a7e16048d8c2');\n",
       "var x = new MutationObserver(function (mutations, observer) {{\n",
       "        var display = window.getComputedStyle(gd).display;\n",
       "        if (!display || display === 'none') {{\n",
       "            console.log([gd, 'removed!']);\n",
       "            Plotly.purge(gd);\n",
       "            observer.disconnect();\n",
       "        }}\n",
       "}});\n",
       "\n",
       "// Listen for the removal of the full notebook cells\n",
       "var notebookContainer = gd.closest('#notebook-container');\n",
       "if (notebookContainer) {{\n",
       "    x.observe(notebookContainer, {childList: true});\n",
       "}}\n",
       "\n",
       "// Listen for the clearing of the current output cell\n",
       "var outputEl = gd.closest('.output');\n",
       "if (outputEl) {{\n",
       "    x.observe(outputEl, {childList: true});\n",
       "}}\n",
       "\n",
       "                        })                };                });            </script>        </div>"
      ]
     },
     "metadata": {},
     "output_type": "display_data"
    }
   ],
   "source": [
    "# Top 10 Games with high money\n",
    "e = df.groupby('GameName')['TotalMoney'].sum().nlargest(10)\n",
    "e.iplot(kind='bar',\n",
    "        colorscale='pastel1',\n",
    "        showgrid=False,\n",
    "        title=\"TOP 10 GAMES WITH HIGHEST VALUE\",\n",
    "        yTitle=\"TOTAL MONEY $\",\n",
    "        vline=dict(x=e.index[0], color=\"blue\"))"
   ]
  },
  {
   "cell_type": "markdown",
   "id": "0d0f1a95",
   "metadata": {
    "ExecuteTime": {
     "end_time": "2021-05-30T09:53:15.869727Z",
     "start_time": "2021-05-30T09:53:15.867057Z"
    }
   },
   "source": [
    "### Top 10 Games with high number of players\n",
    "- Counter-Strike:GO is the ESport game with highest number of player.\n",
    "- Although it has the highest value in ESport, Dota 2 only rank no 5 in number of players "
   ]
  },
  {
   "cell_type": "code",
   "execution_count": 23,
   "id": "d9153b5b",
   "metadata": {
    "ExecuteTime": {
     "end_time": "2021-07-08T17:25:27.668269Z",
     "start_time": "2021-07-08T17:25:27.646836Z"
    }
   },
   "outputs": [
    {
     "data": {
      "application/vnd.plotly.v1+json": {
       "config": {
        "linkText": "Export to plot.ly",
        "plotlyServerURL": "https://plot.ly",
        "showLink": true
       },
       "data": [
        {
         "marker": {
          "color": "rgba(179, 226, 205, 0.6)",
          "line": {
           "color": "rgba(179, 226, 205, 1.0)",
           "width": 1
          }
         },
         "name": "PlayerNo",
         "orientation": "v",
         "text": "",
         "type": "bar",
         "x": [
          "Counter-Strike: Global Offensive",
          "League of Legends",
          "Fortnite",
          "Counter-Strike",
          "Dota 2",
          "Overwatch",
          "PLAYERUNKNOWN'S BATTLEGROUNDS",
          "Hearthstone",
          "StarCraft II",
          "Super Smash Bros. Ultimate"
         ],
         "y": [
          13032,
          7130,
          4347,
          4137,
          3836,
          3494,
          2754,
          2423,
          2078,
          1879
         ]
        }
       ],
       "layout": {
        "legend": {
         "bgcolor": "#F5F6F9",
         "font": {
          "color": "#4D5663"
         }
        },
        "paper_bgcolor": "#F5F6F9",
        "plot_bgcolor": "#F5F6F9",
        "shapes": [
         {
          "line": {
           "color": "#ff9933",
           "dash": "solid",
           "width": 1
          },
          "type": "line",
          "x0": "Counter-Strike: Global Offensive",
          "x1": "Counter-Strike: Global Offensive",
          "xref": "x",
          "y0": 0,
          "y1": 1,
          "yref": "paper"
         }
        ],
        "title": "TOP 10 GAMES WITH HIGH PLAYER",
        "titlefont": {
         "color": "#4D5663"
        },
        "xaxis": {
         "gridcolor": "#E1E5ED",
         "showgrid": false,
         "tickfont": {
          "color": "#4D5663"
         },
         "title": "",
         "titlefont": {
          "color": "#4D5663"
         },
         "zerolinecolor": "#E1E5ED"
        },
        "yaxis": {
         "gridcolor": "#E1E5ED",
         "showgrid": false,
         "tickfont": {
          "color": "#4D5663"
         },
         "title": "No of PLAYER",
         "titlefont": {
          "color": "#4D5663"
         },
         "zerolinecolor": "#E1E5ED"
        }
       }
      },
      "text/html": [
       "<div>                            <div id=\"8e86f816-6644-4932-b4f9-bd856d2f40b3\" class=\"plotly-graph-div\" style=\"height:525px; width:100%;\"></div>            <script type=\"text/javascript\">                require([\"plotly\"], function(Plotly) {                    window.PLOTLYENV=window.PLOTLYENV || {};\n",
       "                    window.PLOTLYENV.BASE_URL='https://plot.ly';                                    if (document.getElementById(\"8e86f816-6644-4932-b4f9-bd856d2f40b3\")) {                    Plotly.newPlot(                        \"8e86f816-6644-4932-b4f9-bd856d2f40b3\",                        [{\"marker\": {\"color\": \"rgba(179, 226, 205, 0.6)\", \"line\": {\"color\": \"rgba(179, 226, 205, 1.0)\", \"width\": 1}}, \"name\": \"PlayerNo\", \"orientation\": \"v\", \"text\": \"\", \"type\": \"bar\", \"x\": [\"Counter-Strike: Global Offensive\", \"League of Legends\", \"Fortnite\", \"Counter-Strike\", \"Dota 2\", \"Overwatch\", \"PLAYERUNKNOWN'S BATTLEGROUNDS\", \"Hearthstone\", \"StarCraft II\", \"Super Smash Bros. Ultimate\"], \"y\": [13032, 7130, 4347, 4137, 3836, 3494, 2754, 2423, 2078, 1879]}],                        {\"legend\": {\"bgcolor\": \"#F5F6F9\", \"font\": {\"color\": \"#4D5663\"}}, \"paper_bgcolor\": \"#F5F6F9\", \"plot_bgcolor\": \"#F5F6F9\", \"shapes\": [{\"line\": {\"color\": \"#ff9933\", \"dash\": \"solid\", \"width\": 1}, \"type\": \"line\", \"x0\": \"Counter-Strike: Global Offensive\", \"x1\": \"Counter-Strike: Global Offensive\", \"xref\": \"x\", \"y0\": 0, \"y1\": 1, \"yref\": \"paper\"}], \"title\": \"TOP 10 GAMES WITH HIGH PLAYER\", \"titlefont\": {\"color\": \"#4D5663\"}, \"xaxis\": {\"gridcolor\": \"#E1E5ED\", \"showgrid\": false, \"tickfont\": {\"color\": \"#4D5663\"}, \"title\": \"\", \"titlefont\": {\"color\": \"#4D5663\"}, \"zerolinecolor\": \"#E1E5ED\"}, \"yaxis\": {\"gridcolor\": \"#E1E5ED\", \"showgrid\": false, \"tickfont\": {\"color\": \"#4D5663\"}, \"title\": \"No of PLAYER\", \"titlefont\": {\"color\": \"#4D5663\"}, \"zerolinecolor\": \"#E1E5ED\"}},                        {\"showLink\": true, \"linkText\": \"Export to plot.ly\", \"plotlyServerURL\": \"https://plot.ly\", \"responsive\": true}                    ).then(function(){\n",
       "                            \n",
       "var gd = document.getElementById('8e86f816-6644-4932-b4f9-bd856d2f40b3');\n",
       "var x = new MutationObserver(function (mutations, observer) {{\n",
       "        var display = window.getComputedStyle(gd).display;\n",
       "        if (!display || display === 'none') {{\n",
       "            console.log([gd, 'removed!']);\n",
       "            Plotly.purge(gd);\n",
       "            observer.disconnect();\n",
       "        }}\n",
       "}});\n",
       "\n",
       "// Listen for the removal of the full notebook cells\n",
       "var notebookContainer = gd.closest('#notebook-container');\n",
       "if (notebookContainer) {{\n",
       "    x.observe(notebookContainer, {childList: true});\n",
       "}}\n",
       "\n",
       "// Listen for the clearing of the current output cell\n",
       "var outputEl = gd.closest('.output');\n",
       "if (outputEl) {{\n",
       "    x.observe(outputEl, {childList: true});\n",
       "}}\n",
       "\n",
       "                        })                };                });            </script>        </div>"
      ]
     },
     "metadata": {},
     "output_type": "display_data"
    }
   ],
   "source": [
    "# Top 10 Games with players\n",
    "f = df.groupby('GameName')['PlayerNo'].sum().nlargest(10)\n",
    "f.iplot(kind='bar',\n",
    "        colorscale='pastel2',\n",
    "        showgrid=False,\n",
    "        title=\"TOP 10 GAMES WITH HIGH PLAYER\",\n",
    "        yTitle=\"No of PLAYER\",\n",
    "        vline=dict(x=f.index[0], color=\"orange\"))"
   ]
  },
  {
   "cell_type": "markdown",
   "id": "a879f515",
   "metadata": {},
   "source": [
    "### Top 10 Games with high number of Tournament\n",
    "- Suprisingly, StarCraft II rank no 1 with highest number of Tournament although it only rank No9 in number of player\n",
    "- Following closely StarCraft is Counter-Strike:GO at 2nd place.\n",
    "- Again, the top value game Dota2 is only at No5 in term of Tournament"
   ]
  },
  {
   "cell_type": "code",
   "execution_count": 24,
   "id": "b9122b2a",
   "metadata": {
    "ExecuteTime": {
     "end_time": "2021-07-08T17:25:29.708629Z",
     "start_time": "2021-07-08T17:25:29.688578Z"
    }
   },
   "outputs": [
    {
     "data": {
      "application/vnd.plotly.v1+json": {
       "config": {
        "linkText": "Export to plot.ly",
        "plotlyServerURL": "https://plot.ly",
        "showLink": true
       },
       "data": [
        {
         "marker": {
          "color": "rgba(251, 180, 174, 0.6)",
          "line": {
           "color": "rgba(251, 180, 174, 1.0)",
           "width": 1
          }
         },
         "name": "TournamentNo",
         "orientation": "v",
         "text": "",
         "type": "bar",
         "x": [
          "StarCraft II",
          "Counter-Strike: Global Offensive",
          "Super Smash Bros. Melee",
          "League of Legends",
          "Dota 2",
          "WarCraft III",
          "Super Smash Bros. Ultimate",
          "Rocket League",
          "Super Smash Bros. for Wii U",
          "Counter-Strike"
         ],
         "y": [
          5909,
          5252,
          2608,
          2477,
          1434,
          1335,
          1197,
          1087,
          1022,
          995
         ]
        }
       ],
       "layout": {
        "legend": {
         "bgcolor": "#F5F6F9",
         "font": {
          "color": "#4D5663"
         }
        },
        "paper_bgcolor": "#F5F6F9",
        "plot_bgcolor": "#F5F6F9",
        "shapes": [
         {
          "line": {
           "color": "#3780bf",
           "dash": "solid",
           "width": 1
          },
          "type": "line",
          "x0": "StarCraft II",
          "x1": "StarCraft II",
          "xref": "x",
          "y0": 0,
          "y1": 1,
          "yref": "paper"
         }
        ],
        "title": "TOP 10 GAMES WITH HIGH NUMBER OF TOURNAMENT",
        "titlefont": {
         "color": "#4D5663"
        },
        "xaxis": {
         "gridcolor": "#E1E5ED",
         "showgrid": false,
         "tickfont": {
          "color": "#4D5663"
         },
         "title": "",
         "titlefont": {
          "color": "#4D5663"
         },
         "zerolinecolor": "#E1E5ED"
        },
        "yaxis": {
         "gridcolor": "#E1E5ED",
         "showgrid": false,
         "tickfont": {
          "color": "#4D5663"
         },
         "title": "No of TOURNAMENT",
         "titlefont": {
          "color": "#4D5663"
         },
         "zerolinecolor": "#E1E5ED"
        }
       }
      },
      "text/html": [
       "<div>                            <div id=\"60c0654a-8eb1-4261-ae55-31e61d262429\" class=\"plotly-graph-div\" style=\"height:525px; width:100%;\"></div>            <script type=\"text/javascript\">                require([\"plotly\"], function(Plotly) {                    window.PLOTLYENV=window.PLOTLYENV || {};\n",
       "                    window.PLOTLYENV.BASE_URL='https://plot.ly';                                    if (document.getElementById(\"60c0654a-8eb1-4261-ae55-31e61d262429\")) {                    Plotly.newPlot(                        \"60c0654a-8eb1-4261-ae55-31e61d262429\",                        [{\"marker\": {\"color\": \"rgba(251, 180, 174, 0.6)\", \"line\": {\"color\": \"rgba(251, 180, 174, 1.0)\", \"width\": 1}}, \"name\": \"TournamentNo\", \"orientation\": \"v\", \"text\": \"\", \"type\": \"bar\", \"x\": [\"StarCraft II\", \"Counter-Strike: Global Offensive\", \"Super Smash Bros. Melee\", \"League of Legends\", \"Dota 2\", \"WarCraft III\", \"Super Smash Bros. Ultimate\", \"Rocket League\", \"Super Smash Bros. for Wii U\", \"Counter-Strike\"], \"y\": [5909, 5252, 2608, 2477, 1434, 1335, 1197, 1087, 1022, 995]}],                        {\"legend\": {\"bgcolor\": \"#F5F6F9\", \"font\": {\"color\": \"#4D5663\"}}, \"paper_bgcolor\": \"#F5F6F9\", \"plot_bgcolor\": \"#F5F6F9\", \"shapes\": [{\"line\": {\"color\": \"#3780bf\", \"dash\": \"solid\", \"width\": 1}, \"type\": \"line\", \"x0\": \"StarCraft II\", \"x1\": \"StarCraft II\", \"xref\": \"x\", \"y0\": 0, \"y1\": 1, \"yref\": \"paper\"}], \"title\": \"TOP 10 GAMES WITH HIGH NUMBER OF TOURNAMENT\", \"titlefont\": {\"color\": \"#4D5663\"}, \"xaxis\": {\"gridcolor\": \"#E1E5ED\", \"showgrid\": false, \"tickfont\": {\"color\": \"#4D5663\"}, \"title\": \"\", \"titlefont\": {\"color\": \"#4D5663\"}, \"zerolinecolor\": \"#E1E5ED\"}, \"yaxis\": {\"gridcolor\": \"#E1E5ED\", \"showgrid\": false, \"tickfont\": {\"color\": \"#4D5663\"}, \"title\": \"No of TOURNAMENT\", \"titlefont\": {\"color\": \"#4D5663\"}, \"zerolinecolor\": \"#E1E5ED\"}},                        {\"showLink\": true, \"linkText\": \"Export to plot.ly\", \"plotlyServerURL\": \"https://plot.ly\", \"responsive\": true}                    ).then(function(){\n",
       "                            \n",
       "var gd = document.getElementById('60c0654a-8eb1-4261-ae55-31e61d262429');\n",
       "var x = new MutationObserver(function (mutations, observer) {{\n",
       "        var display = window.getComputedStyle(gd).display;\n",
       "        if (!display || display === 'none') {{\n",
       "            console.log([gd, 'removed!']);\n",
       "            Plotly.purge(gd);\n",
       "            observer.disconnect();\n",
       "        }}\n",
       "}});\n",
       "\n",
       "// Listen for the removal of the full notebook cells\n",
       "var notebookContainer = gd.closest('#notebook-container');\n",
       "if (notebookContainer) {{\n",
       "    x.observe(notebookContainer, {childList: true});\n",
       "}}\n",
       "\n",
       "// Listen for the clearing of the current output cell\n",
       "var outputEl = gd.closest('.output');\n",
       "if (outputEl) {{\n",
       "    x.observe(outputEl, {childList: true});\n",
       "}}\n",
       "\n",
       "                        })                };                });            </script>        </div>"
      ]
     },
     "metadata": {},
     "output_type": "display_data"
    }
   ],
   "source": [
    "# Top 10 Games with Tournament\n",
    "g = df.groupby('GameName')['TournamentNo'].sum().nlargest(10)\n",
    "g.iplot(kind='bar',\n",
    "        colorscale='pastel1',\n",
    "        showgrid=False,\n",
    "        title=\"TOP 10 GAMES WITH HIGH NUMBER OF TOURNAMENT\",\n",
    "        yTitle=\"No of TOURNAMENT\",\n",
    "        vline=dict(x=g.index[0], color=\"blue\"))"
   ]
  },
  {
   "cell_type": "markdown",
   "id": "58f07b6f",
   "metadata": {
    "ExecuteTime": {
     "end_time": "2021-05-30T07:13:55.751853Z",
     "start_time": "2021-05-30T07:13:55.749067Z"
    }
   },
   "source": [
    "## Group Analysis\n",
    "\n",
    "With the overview about the Esport given above, we see that it start to reveal some interesting facts which we can divide the data into different set for a better analysis."
   ]
  },
  {
   "cell_type": "markdown",
   "id": "84a7332b",
   "metadata": {
    "ExecuteTime": {
     "end_time": "2021-05-30T08:45:42.791200Z",
     "start_time": "2021-05-30T08:45:42.788533Z"
    }
   },
   "source": [
    "### Game categories"
   ]
  },
  {
   "cell_type": "code",
   "execution_count": 25,
   "id": "e637126d",
   "metadata": {
    "ExecuteTime": {
     "end_time": "2021-07-08T17:25:32.632698Z",
     "start_time": "2021-07-08T17:25:32.613361Z"
    }
   },
   "outputs": [
    {
     "data": {
      "text/html": [
       "<div>\n",
       "<style scoped>\n",
       "    .dataframe tbody tr th:only-of-type {\n",
       "        vertical-align: middle;\n",
       "    }\n",
       "\n",
       "    .dataframe tbody tr th {\n",
       "        vertical-align: top;\n",
       "    }\n",
       "\n",
       "    .dataframe thead th {\n",
       "        text-align: right;\n",
       "    }\n",
       "</style>\n",
       "<table border=\"1\" class=\"dataframe\">\n",
       "  <thead>\n",
       "    <tr style=\"text-align: right;\">\n",
       "      <th></th>\n",
       "      <th>PlayerNo</th>\n",
       "      <th>TournamentNo</th>\n",
       "      <th>TotalMoney</th>\n",
       "      <th>GameNo</th>\n",
       "    </tr>\n",
       "    <tr>\n",
       "      <th>Genre</th>\n",
       "      <th></th>\n",
       "      <th></th>\n",
       "      <th></th>\n",
       "      <th></th>\n",
       "    </tr>\n",
       "  </thead>\n",
       "  <tbody>\n",
       "    <tr>\n",
       "      <th>Battle Royale</th>\n",
       "      <td>9947</td>\n",
       "      <td>1203</td>\n",
       "      <td>1.329225e+08</td>\n",
       "      <td>11</td>\n",
       "    </tr>\n",
       "    <tr>\n",
       "      <th>Collectible Card Game</th>\n",
       "      <td>4043</td>\n",
       "      <td>1531</td>\n",
       "      <td>3.427140e+07</td>\n",
       "      <td>13</td>\n",
       "    </tr>\n",
       "    <tr>\n",
       "      <th>Fighting Game</th>\n",
       "      <td>12530</td>\n",
       "      <td>8928</td>\n",
       "      <td>2.017032e+07</td>\n",
       "      <td>160</td>\n",
       "    </tr>\n",
       "    <tr>\n",
       "      <th>First-Person Shooter</th>\n",
       "      <td>36565</td>\n",
       "      <td>11254</td>\n",
       "      <td>2.283336e+08</td>\n",
       "      <td>106</td>\n",
       "    </tr>\n",
       "    <tr>\n",
       "      <th>Multiplayer Online Battle Arena</th>\n",
       "      <td>15475</td>\n",
       "      <td>5137</td>\n",
       "      <td>3.542992e+08</td>\n",
       "      <td>22</td>\n",
       "    </tr>\n",
       "    <tr>\n",
       "      <th>Puzzle Game</th>\n",
       "      <td>125</td>\n",
       "      <td>52</td>\n",
       "      <td>3.908297e+04</td>\n",
       "      <td>14</td>\n",
       "    </tr>\n",
       "    <tr>\n",
       "      <th>Racing</th>\n",
       "      <td>2463</td>\n",
       "      <td>896</td>\n",
       "      <td>7.753197e+06</td>\n",
       "      <td>49</td>\n",
       "    </tr>\n",
       "    <tr>\n",
       "      <th>Role-Playing Game</th>\n",
       "      <td>699</td>\n",
       "      <td>201</td>\n",
       "      <td>5.968597e+06</td>\n",
       "      <td>5</td>\n",
       "    </tr>\n",
       "    <tr>\n",
       "      <th>Sports</th>\n",
       "      <td>3407</td>\n",
       "      <td>2169</td>\n",
       "      <td>2.618262e+07</td>\n",
       "      <td>66</td>\n",
       "    </tr>\n",
       "    <tr>\n",
       "      <th>Strategy</th>\n",
       "      <td>8460</td>\n",
       "      <td>9233</td>\n",
       "      <td>6.450796e+07</td>\n",
       "      <td>50</td>\n",
       "    </tr>\n",
       "    <tr>\n",
       "      <th>Third-Person Shooter</th>\n",
       "      <td>400</td>\n",
       "      <td>91</td>\n",
       "      <td>4.901986e+06</td>\n",
       "      <td>7</td>\n",
       "    </tr>\n",
       "  </tbody>\n",
       "</table>\n",
       "</div>"
      ],
      "text/plain": [
       "                                 PlayerNo  TournamentNo    TotalMoney  GameNo\n",
       "Genre                                                                        \n",
       "Battle Royale                        9947          1203  1.329225e+08      11\n",
       "Collectible Card Game                4043          1531  3.427140e+07      13\n",
       "Fighting Game                       12530          8928  2.017032e+07     160\n",
       "First-Person Shooter                36565         11254  2.283336e+08     106\n",
       "Multiplayer Online Battle Arena     15475          5137  3.542992e+08      22\n",
       "Puzzle Game                           125            52  3.908297e+04      14\n",
       "Racing                               2463           896  7.753197e+06      49\n",
       "Role-Playing Game                     699           201  5.968597e+06       5\n",
       "Sports                               3407          2169  2.618262e+07      66\n",
       "Strategy                             8460          9233  6.450796e+07      50\n",
       "Third-Person Shooter                  400            91  4.901986e+06       7"
      ]
     },
     "execution_count": 25,
     "metadata": {},
     "output_type": "execute_result"
    }
   ],
   "source": [
    "# Create game categories by Genre (sum method)\n",
    "Game_cat = df.groupby('Genre').sum()\n",
    "\n",
    "# Adding the No of Game to each categories (count method)\n",
    "Game_cat['GameNo'] = df.groupby('Genre')['GameName'].count()\n",
    "\n",
    "# Remove the Top country earnings since it is not important for out subdata\n",
    "Game_cat = Game_cat.drop('Top_Country_Earnings', axis=1)\n",
    "Game_cat"
   ]
  },
  {
   "cell_type": "markdown",
   "id": "3da64e90",
   "metadata": {
    "ExecuteTime": {
     "end_time": "2021-05-30T11:05:23.283645Z",
     "start_time": "2021-05-30T11:05:23.279332Z"
    }
   },
   "source": [
    "---"
   ]
  },
  {
   "cell_type": "markdown",
   "id": "a161a62c",
   "metadata": {},
   "source": [
    "Since the data mainly about Esport earnings, or its size, so we will focus on it mainly:\n",
    "1. In the scatter charts:\n",
    "- The totalMoney/Earning gives a good positive relationship with Number of Player. More money, more number of player increase\n",
    "- The totalMoney/Earning gives positive correlation with all number of Player, Tournament except the Number of Game\n",
    "2. In the bar chart:\n",
    "- As the result of the relationship between TotalMoney and Number of Game in each Genre is very low (almost flat), there are many games in a genre such as Fighting type but give a little value in the total earning and the opposite for Multiplayer Online Battle Arena."
   ]
  },
  {
   "cell_type": "code",
   "execution_count": 26,
   "id": "37df0cd9",
   "metadata": {
    "ExecuteTime": {
     "end_time": "2021-07-08T17:25:41.148697Z",
     "start_time": "2021-07-08T17:25:36.394541Z"
    }
   },
   "outputs": [
    {
     "data": {
      "application/vnd.plotly.v1+json": {
       "config": {
        "linkText": "Export to plot.ly",
        "plotlyServerURL": "https://plot.ly",
        "showLink": true
       },
       "data": [
        {
         "marker": {
          "color": "rgba(179, 226, 205, 0.6)",
          "line": {
           "color": "rgba(179, 226, 205, 1.0)",
           "width": 1
          }
         },
         "name": "PlayerNo",
         "orientation": "v",
         "text": "",
         "type": "bar",
         "x": [
          "Battle Royale",
          "Collectible Card Game",
          "Fighting Game",
          "First-Person Shooter",
          "Multiplayer Online Battle Arena",
          "Puzzle Game",
          "Racing",
          "Role-Playing Game",
          "Sports",
          "Strategy",
          "Third-Person Shooter"
         ],
         "xaxis": "x",
         "y": [
          9947,
          4043,
          12530,
          36565,
          15475,
          125,
          2463,
          699,
          3407,
          8460,
          400
         ],
         "yaxis": "y"
        },
        {
         "marker": {
          "color": "rgba(253, 205, 172, 0.6)",
          "line": {
           "color": "rgba(253, 205, 172, 1.0)",
           "width": 1
          }
         },
         "name": "TournamentNo",
         "orientation": "v",
         "text": "",
         "type": "bar",
         "x": [
          "Battle Royale",
          "Collectible Card Game",
          "Fighting Game",
          "First-Person Shooter",
          "Multiplayer Online Battle Arena",
          "Puzzle Game",
          "Racing",
          "Role-Playing Game",
          "Sports",
          "Strategy",
          "Third-Person Shooter"
         ],
         "xaxis": "x2",
         "y": [
          1203,
          1531,
          8928,
          11254,
          5137,
          52,
          896,
          201,
          2169,
          9233,
          91
         ],
         "yaxis": "y2"
        },
        {
         "marker": {
          "color": "rgba(203, 213, 232, 0.6)",
          "line": {
           "color": "rgba(203, 213, 232, 1.0)",
           "width": 1
          }
         },
         "name": "TotalMoney",
         "orientation": "v",
         "text": "",
         "type": "bar",
         "x": [
          "Battle Royale",
          "Collectible Card Game",
          "Fighting Game",
          "First-Person Shooter",
          "Multiplayer Online Battle Arena",
          "Puzzle Game",
          "Racing",
          "Role-Playing Game",
          "Sports",
          "Strategy",
          "Third-Person Shooter"
         ],
         "xaxis": "x3",
         "y": [
          132922522.56,
          34271397.989999995,
          20170322.189999994,
          228333624.76,
          354299247.50999993,
          39082.97,
          7753196.920000001,
          5968597.3100000005,
          26182617.560000002,
          64507955.97,
          4901986.38
         ],
         "yaxis": "y3"
        },
        {
         "marker": {
          "color": "rgba(244, 202, 228, 0.6)",
          "line": {
           "color": "rgba(244, 202, 228, 1.0)",
           "width": 1
          }
         },
         "name": "GameNo",
         "orientation": "v",
         "text": "",
         "type": "bar",
         "x": [
          "Battle Royale",
          "Collectible Card Game",
          "Fighting Game",
          "First-Person Shooter",
          "Multiplayer Online Battle Arena",
          "Puzzle Game",
          "Racing",
          "Role-Playing Game",
          "Sports",
          "Strategy",
          "Third-Person Shooter"
         ],
         "xaxis": "x4",
         "y": [
          11,
          13,
          160,
          106,
          22,
          14,
          49,
          5,
          66,
          50,
          7
         ],
         "yaxis": "y4"
        }
       ],
       "layout": {
        "annotations": [
         {
          "font": {
           "size": 16
          },
          "showarrow": false,
          "text": "PlayerNo",
          "x": 0.225,
          "xanchor": "center",
          "xref": "paper",
          "y": 1,
          "yanchor": "bottom",
          "yref": "paper"
         },
         {
          "font": {
           "size": 16
          },
          "showarrow": false,
          "text": "TournamentNo",
          "x": 0.775,
          "xanchor": "center",
          "xref": "paper",
          "y": 1,
          "yanchor": "bottom",
          "yref": "paper"
         },
         {
          "font": {
           "size": 16
          },
          "showarrow": false,
          "text": "TotalMoney",
          "x": 0.225,
          "xanchor": "center",
          "xref": "paper",
          "y": 0.25,
          "yanchor": "bottom",
          "yref": "paper"
         },
         {
          "font": {
           "size": 16
          },
          "showarrow": false,
          "text": "GameNo",
          "x": 0.775,
          "xanchor": "center",
          "xref": "paper",
          "y": 0.25,
          "yanchor": "bottom",
          "yref": "paper"
         }
        ],
        "legend": {
         "bgcolor": "#F5F6F9",
         "font": {
          "color": "#4D5663"
         }
        },
        "paper_bgcolor": "#F5F6F9",
        "plot_bgcolor": "#F5F6F9",
        "template": {
         "data": {
          "bar": [
           {
            "error_x": {
             "color": "#2a3f5f"
            },
            "error_y": {
             "color": "#2a3f5f"
            },
            "marker": {
             "line": {
              "color": "#E5ECF6",
              "width": 0.5
             }
            },
            "type": "bar"
           }
          ],
          "barpolar": [
           {
            "marker": {
             "line": {
              "color": "#E5ECF6",
              "width": 0.5
             }
            },
            "type": "barpolar"
           }
          ],
          "carpet": [
           {
            "aaxis": {
             "endlinecolor": "#2a3f5f",
             "gridcolor": "white",
             "linecolor": "white",
             "minorgridcolor": "white",
             "startlinecolor": "#2a3f5f"
            },
            "baxis": {
             "endlinecolor": "#2a3f5f",
             "gridcolor": "white",
             "linecolor": "white",
             "minorgridcolor": "white",
             "startlinecolor": "#2a3f5f"
            },
            "type": "carpet"
           }
          ],
          "choropleth": [
           {
            "colorbar": {
             "outlinewidth": 0,
             "ticks": ""
            },
            "type": "choropleth"
           }
          ],
          "contour": [
           {
            "colorbar": {
             "outlinewidth": 0,
             "ticks": ""
            },
            "colorscale": [
             [
              0,
              "#0d0887"
             ],
             [
              0.1111111111111111,
              "#46039f"
             ],
             [
              0.2222222222222222,
              "#7201a8"
             ],
             [
              0.3333333333333333,
              "#9c179e"
             ],
             [
              0.4444444444444444,
              "#bd3786"
             ],
             [
              0.5555555555555556,
              "#d8576b"
             ],
             [
              0.6666666666666666,
              "#ed7953"
             ],
             [
              0.7777777777777778,
              "#fb9f3a"
             ],
             [
              0.8888888888888888,
              "#fdca26"
             ],
             [
              1,
              "#f0f921"
             ]
            ],
            "type": "contour"
           }
          ],
          "contourcarpet": [
           {
            "colorbar": {
             "outlinewidth": 0,
             "ticks": ""
            },
            "type": "contourcarpet"
           }
          ],
          "heatmap": [
           {
            "colorbar": {
             "outlinewidth": 0,
             "ticks": ""
            },
            "colorscale": [
             [
              0,
              "#0d0887"
             ],
             [
              0.1111111111111111,
              "#46039f"
             ],
             [
              0.2222222222222222,
              "#7201a8"
             ],
             [
              0.3333333333333333,
              "#9c179e"
             ],
             [
              0.4444444444444444,
              "#bd3786"
             ],
             [
              0.5555555555555556,
              "#d8576b"
             ],
             [
              0.6666666666666666,
              "#ed7953"
             ],
             [
              0.7777777777777778,
              "#fb9f3a"
             ],
             [
              0.8888888888888888,
              "#fdca26"
             ],
             [
              1,
              "#f0f921"
             ]
            ],
            "type": "heatmap"
           }
          ],
          "heatmapgl": [
           {
            "colorbar": {
             "outlinewidth": 0,
             "ticks": ""
            },
            "colorscale": [
             [
              0,
              "#0d0887"
             ],
             [
              0.1111111111111111,
              "#46039f"
             ],
             [
              0.2222222222222222,
              "#7201a8"
             ],
             [
              0.3333333333333333,
              "#9c179e"
             ],
             [
              0.4444444444444444,
              "#bd3786"
             ],
             [
              0.5555555555555556,
              "#d8576b"
             ],
             [
              0.6666666666666666,
              "#ed7953"
             ],
             [
              0.7777777777777778,
              "#fb9f3a"
             ],
             [
              0.8888888888888888,
              "#fdca26"
             ],
             [
              1,
              "#f0f921"
             ]
            ],
            "type": "heatmapgl"
           }
          ],
          "histogram": [
           {
            "marker": {
             "colorbar": {
              "outlinewidth": 0,
              "ticks": ""
             }
            },
            "type": "histogram"
           }
          ],
          "histogram2d": [
           {
            "colorbar": {
             "outlinewidth": 0,
             "ticks": ""
            },
            "colorscale": [
             [
              0,
              "#0d0887"
             ],
             [
              0.1111111111111111,
              "#46039f"
             ],
             [
              0.2222222222222222,
              "#7201a8"
             ],
             [
              0.3333333333333333,
              "#9c179e"
             ],
             [
              0.4444444444444444,
              "#bd3786"
             ],
             [
              0.5555555555555556,
              "#d8576b"
             ],
             [
              0.6666666666666666,
              "#ed7953"
             ],
             [
              0.7777777777777778,
              "#fb9f3a"
             ],
             [
              0.8888888888888888,
              "#fdca26"
             ],
             [
              1,
              "#f0f921"
             ]
            ],
            "type": "histogram2d"
           }
          ],
          "histogram2dcontour": [
           {
            "colorbar": {
             "outlinewidth": 0,
             "ticks": ""
            },
            "colorscale": [
             [
              0,
              "#0d0887"
             ],
             [
              0.1111111111111111,
              "#46039f"
             ],
             [
              0.2222222222222222,
              "#7201a8"
             ],
             [
              0.3333333333333333,
              "#9c179e"
             ],
             [
              0.4444444444444444,
              "#bd3786"
             ],
             [
              0.5555555555555556,
              "#d8576b"
             ],
             [
              0.6666666666666666,
              "#ed7953"
             ],
             [
              0.7777777777777778,
              "#fb9f3a"
             ],
             [
              0.8888888888888888,
              "#fdca26"
             ],
             [
              1,
              "#f0f921"
             ]
            ],
            "type": "histogram2dcontour"
           }
          ],
          "mesh3d": [
           {
            "colorbar": {
             "outlinewidth": 0,
             "ticks": ""
            },
            "type": "mesh3d"
           }
          ],
          "parcoords": [
           {
            "line": {
             "colorbar": {
              "outlinewidth": 0,
              "ticks": ""
             }
            },
            "type": "parcoords"
           }
          ],
          "pie": [
           {
            "automargin": true,
            "type": "pie"
           }
          ],
          "scatter": [
           {
            "marker": {
             "colorbar": {
              "outlinewidth": 0,
              "ticks": ""
             }
            },
            "type": "scatter"
           }
          ],
          "scatter3d": [
           {
            "line": {
             "colorbar": {
              "outlinewidth": 0,
              "ticks": ""
             }
            },
            "marker": {
             "colorbar": {
              "outlinewidth": 0,
              "ticks": ""
             }
            },
            "type": "scatter3d"
           }
          ],
          "scattercarpet": [
           {
            "marker": {
             "colorbar": {
              "outlinewidth": 0,
              "ticks": ""
             }
            },
            "type": "scattercarpet"
           }
          ],
          "scattergeo": [
           {
            "marker": {
             "colorbar": {
              "outlinewidth": 0,
              "ticks": ""
             }
            },
            "type": "scattergeo"
           }
          ],
          "scattergl": [
           {
            "marker": {
             "colorbar": {
              "outlinewidth": 0,
              "ticks": ""
             }
            },
            "type": "scattergl"
           }
          ],
          "scattermapbox": [
           {
            "marker": {
             "colorbar": {
              "outlinewidth": 0,
              "ticks": ""
             }
            },
            "type": "scattermapbox"
           }
          ],
          "scatterpolar": [
           {
            "marker": {
             "colorbar": {
              "outlinewidth": 0,
              "ticks": ""
             }
            },
            "type": "scatterpolar"
           }
          ],
          "scatterpolargl": [
           {
            "marker": {
             "colorbar": {
              "outlinewidth": 0,
              "ticks": ""
             }
            },
            "type": "scatterpolargl"
           }
          ],
          "scatterternary": [
           {
            "marker": {
             "colorbar": {
              "outlinewidth": 0,
              "ticks": ""
             }
            },
            "type": "scatterternary"
           }
          ],
          "surface": [
           {
            "colorbar": {
             "outlinewidth": 0,
             "ticks": ""
            },
            "colorscale": [
             [
              0,
              "#0d0887"
             ],
             [
              0.1111111111111111,
              "#46039f"
             ],
             [
              0.2222222222222222,
              "#7201a8"
             ],
             [
              0.3333333333333333,
              "#9c179e"
             ],
             [
              0.4444444444444444,
              "#bd3786"
             ],
             [
              0.5555555555555556,
              "#d8576b"
             ],
             [
              0.6666666666666666,
              "#ed7953"
             ],
             [
              0.7777777777777778,
              "#fb9f3a"
             ],
             [
              0.8888888888888888,
              "#fdca26"
             ],
             [
              1,
              "#f0f921"
             ]
            ],
            "type": "surface"
           }
          ],
          "table": [
           {
            "cells": {
             "fill": {
              "color": "#EBF0F8"
             },
             "line": {
              "color": "white"
             }
            },
            "header": {
             "fill": {
              "color": "#C8D4E3"
             },
             "line": {
              "color": "white"
             }
            },
            "type": "table"
           }
          ]
         },
         "layout": {
          "annotationdefaults": {
           "arrowcolor": "#2a3f5f",
           "arrowhead": 0,
           "arrowwidth": 1
          },
          "autotypenumbers": "strict",
          "coloraxis": {
           "colorbar": {
            "outlinewidth": 0,
            "ticks": ""
           }
          },
          "colorscale": {
           "diverging": [
            [
             0,
             "#8e0152"
            ],
            [
             0.1,
             "#c51b7d"
            ],
            [
             0.2,
             "#de77ae"
            ],
            [
             0.3,
             "#f1b6da"
            ],
            [
             0.4,
             "#fde0ef"
            ],
            [
             0.5,
             "#f7f7f7"
            ],
            [
             0.6,
             "#e6f5d0"
            ],
            [
             0.7,
             "#b8e186"
            ],
            [
             0.8,
             "#7fbc41"
            ],
            [
             0.9,
             "#4d9221"
            ],
            [
             1,
             "#276419"
            ]
           ],
           "sequential": [
            [
             0,
             "#0d0887"
            ],
            [
             0.1111111111111111,
             "#46039f"
            ],
            [
             0.2222222222222222,
             "#7201a8"
            ],
            [
             0.3333333333333333,
             "#9c179e"
            ],
            [
             0.4444444444444444,
             "#bd3786"
            ],
            [
             0.5555555555555556,
             "#d8576b"
            ],
            [
             0.6666666666666666,
             "#ed7953"
            ],
            [
             0.7777777777777778,
             "#fb9f3a"
            ],
            [
             0.8888888888888888,
             "#fdca26"
            ],
            [
             1,
             "#f0f921"
            ]
           ],
           "sequentialminus": [
            [
             0,
             "#0d0887"
            ],
            [
             0.1111111111111111,
             "#46039f"
            ],
            [
             0.2222222222222222,
             "#7201a8"
            ],
            [
             0.3333333333333333,
             "#9c179e"
            ],
            [
             0.4444444444444444,
             "#bd3786"
            ],
            [
             0.5555555555555556,
             "#d8576b"
            ],
            [
             0.6666666666666666,
             "#ed7953"
            ],
            [
             0.7777777777777778,
             "#fb9f3a"
            ],
            [
             0.8888888888888888,
             "#fdca26"
            ],
            [
             1,
             "#f0f921"
            ]
           ]
          },
          "colorway": [
           "#636efa",
           "#EF553B",
           "#00cc96",
           "#ab63fa",
           "#FFA15A",
           "#19d3f3",
           "#FF6692",
           "#B6E880",
           "#FF97FF",
           "#FECB52"
          ],
          "font": {
           "color": "#2a3f5f"
          },
          "geo": {
           "bgcolor": "white",
           "lakecolor": "white",
           "landcolor": "#E5ECF6",
           "showlakes": true,
           "showland": true,
           "subunitcolor": "white"
          },
          "hoverlabel": {
           "align": "left"
          },
          "hovermode": "closest",
          "mapbox": {
           "style": "light"
          },
          "paper_bgcolor": "white",
          "plot_bgcolor": "#E5ECF6",
          "polar": {
           "angularaxis": {
            "gridcolor": "white",
            "linecolor": "white",
            "ticks": ""
           },
           "bgcolor": "#E5ECF6",
           "radialaxis": {
            "gridcolor": "white",
            "linecolor": "white",
            "ticks": ""
           }
          },
          "scene": {
           "xaxis": {
            "backgroundcolor": "#E5ECF6",
            "gridcolor": "white",
            "gridwidth": 2,
            "linecolor": "white",
            "showbackground": true,
            "ticks": "",
            "zerolinecolor": "white"
           },
           "yaxis": {
            "backgroundcolor": "#E5ECF6",
            "gridcolor": "white",
            "gridwidth": 2,
            "linecolor": "white",
            "showbackground": true,
            "ticks": "",
            "zerolinecolor": "white"
           },
           "zaxis": {
            "backgroundcolor": "#E5ECF6",
            "gridcolor": "white",
            "gridwidth": 2,
            "linecolor": "white",
            "showbackground": true,
            "ticks": "",
            "zerolinecolor": "white"
           }
          },
          "shapedefaults": {
           "line": {
            "color": "#2a3f5f"
           }
          },
          "ternary": {
           "aaxis": {
            "gridcolor": "white",
            "linecolor": "white",
            "ticks": ""
           },
           "baxis": {
            "gridcolor": "white",
            "linecolor": "white",
            "ticks": ""
           },
           "bgcolor": "#E5ECF6",
           "caxis": {
            "gridcolor": "white",
            "linecolor": "white",
            "ticks": ""
           }
          },
          "title": {
           "x": 0.05
          },
          "xaxis": {
           "automargin": true,
           "gridcolor": "white",
           "linecolor": "white",
           "ticks": "",
           "title": {
            "standoff": 15
           },
           "zerolinecolor": "white",
           "zerolinewidth": 2
          },
          "yaxis": {
           "automargin": true,
           "gridcolor": "white",
           "linecolor": "white",
           "ticks": "",
           "title": {
            "standoff": 15
           },
           "zerolinecolor": "white",
           "zerolinewidth": 2
          }
         }
        },
        "title": {
         "font": {
          "color": "#4D5663"
         },
         "text": "GAME CATEGORIES"
        },
        "xaxis": {
         "anchor": "y",
         "domain": [
          0,
          0.45
         ],
         "gridcolor": "#E1E5ED",
         "showgrid": false,
         "tickfont": {
          "color": "#4D5663"
         },
         "title": {
          "font": {
           "color": "#4D5663"
          },
          "text": ""
         },
         "zerolinecolor": "#E1E5ED"
        },
        "xaxis2": {
         "anchor": "y2",
         "domain": [
          0.55,
          1
         ],
         "gridcolor": "#E1E5ED",
         "showgrid": false,
         "tickfont": {
          "color": "#4D5663"
         },
         "title": {
          "font": {
           "color": "#4D5663"
          },
          "text": ""
         },
         "zerolinecolor": "#E1E5ED"
        },
        "xaxis3": {
         "anchor": "y3",
         "domain": [
          0,
          0.45
         ],
         "gridcolor": "#E1E5ED",
         "showgrid": false,
         "tickfont": {
          "color": "#4D5663"
         },
         "title": {
          "font": {
           "color": "#4D5663"
          },
          "text": ""
         },
         "zerolinecolor": "#E1E5ED"
        },
        "xaxis4": {
         "anchor": "y4",
         "domain": [
          0.55,
          1
         ],
         "gridcolor": "#E1E5ED",
         "showgrid": false,
         "tickfont": {
          "color": "#4D5663"
         },
         "title": {
          "font": {
           "color": "#4D5663"
          },
          "text": ""
         },
         "zerolinecolor": "#E1E5ED"
        },
        "yaxis": {
         "anchor": "x",
         "domain": [
          0.75,
          1
         ],
         "gridcolor": "#E1E5ED",
         "showgrid": false,
         "tickfont": {
          "color": "#4D5663"
         },
         "title": {
          "font": {
           "color": "#4D5663"
          },
          "text": ""
         },
         "zerolinecolor": "#E1E5ED"
        },
        "yaxis2": {
         "anchor": "x2",
         "domain": [
          0.75,
          1
         ],
         "gridcolor": "#E1E5ED",
         "showgrid": false,
         "tickfont": {
          "color": "#4D5663"
         },
         "title": {
          "font": {
           "color": "#4D5663"
          },
          "text": ""
         },
         "zerolinecolor": "#E1E5ED"
        },
        "yaxis3": {
         "anchor": "x3",
         "domain": [
          0,
          0.25
         ],
         "gridcolor": "#E1E5ED",
         "showgrid": false,
         "tickfont": {
          "color": "#4D5663"
         },
         "title": {
          "font": {
           "color": "#4D5663"
          },
          "text": ""
         },
         "zerolinecolor": "#E1E5ED"
        },
        "yaxis4": {
         "anchor": "x4",
         "domain": [
          0,
          0.25
         ],
         "gridcolor": "#E1E5ED",
         "showgrid": false,
         "tickfont": {
          "color": "#4D5663"
         },
         "title": {
          "font": {
           "color": "#4D5663"
          },
          "text": ""
         },
         "zerolinecolor": "#E1E5ED"
        }
       }
      },
      "text/html": [
       "<div>                            <div id=\"1d05c983-23a1-4813-802a-33327424c33a\" class=\"plotly-graph-div\" style=\"height:525px; width:100%;\"></div>            <script type=\"text/javascript\">                require([\"plotly\"], function(Plotly) {                    window.PLOTLYENV=window.PLOTLYENV || {};\n",
       "                    window.PLOTLYENV.BASE_URL='https://plot.ly';                                    if (document.getElementById(\"1d05c983-23a1-4813-802a-33327424c33a\")) {                    Plotly.newPlot(                        \"1d05c983-23a1-4813-802a-33327424c33a\",                        [{\"marker\": {\"color\": \"rgba(179, 226, 205, 0.6)\", \"line\": {\"color\": \"rgba(179, 226, 205, 1.0)\", \"width\": 1}}, \"name\": \"PlayerNo\", \"orientation\": \"v\", \"text\": \"\", \"type\": \"bar\", \"x\": [\"Battle Royale\", \"Collectible Card Game\", \"Fighting Game\", \"First-Person Shooter\", \"Multiplayer Online Battle Arena\", \"Puzzle Game\", \"Racing\", \"Role-Playing Game\", \"Sports\", \"Strategy\", \"Third-Person Shooter\"], \"xaxis\": \"x\", \"y\": [9947, 4043, 12530, 36565, 15475, 125, 2463, 699, 3407, 8460, 400], \"yaxis\": \"y\"}, {\"marker\": {\"color\": \"rgba(253, 205, 172, 0.6)\", \"line\": {\"color\": \"rgba(253, 205, 172, 1.0)\", \"width\": 1}}, \"name\": \"TournamentNo\", \"orientation\": \"v\", \"text\": \"\", \"type\": \"bar\", \"x\": [\"Battle Royale\", \"Collectible Card Game\", \"Fighting Game\", \"First-Person Shooter\", \"Multiplayer Online Battle Arena\", \"Puzzle Game\", \"Racing\", \"Role-Playing Game\", \"Sports\", \"Strategy\", \"Third-Person Shooter\"], \"xaxis\": \"x2\", \"y\": [1203, 1531, 8928, 11254, 5137, 52, 896, 201, 2169, 9233, 91], \"yaxis\": \"y2\"}, {\"marker\": {\"color\": \"rgba(203, 213, 232, 0.6)\", \"line\": {\"color\": \"rgba(203, 213, 232, 1.0)\", \"width\": 1}}, \"name\": \"TotalMoney\", \"orientation\": \"v\", \"text\": \"\", \"type\": \"bar\", \"x\": [\"Battle Royale\", \"Collectible Card Game\", \"Fighting Game\", \"First-Person Shooter\", \"Multiplayer Online Battle Arena\", \"Puzzle Game\", \"Racing\", \"Role-Playing Game\", \"Sports\", \"Strategy\", \"Third-Person Shooter\"], \"xaxis\": \"x3\", \"y\": [132922522.56, 34271397.989999995, 20170322.189999994, 228333624.76, 354299247.50999993, 39082.97, 7753196.920000001, 5968597.3100000005, 26182617.560000002, 64507955.97, 4901986.38], \"yaxis\": \"y3\"}, {\"marker\": {\"color\": \"rgba(244, 202, 228, 0.6)\", \"line\": {\"color\": \"rgba(244, 202, 228, 1.0)\", \"width\": 1}}, \"name\": \"GameNo\", \"orientation\": \"v\", \"text\": \"\", \"type\": \"bar\", \"x\": [\"Battle Royale\", \"Collectible Card Game\", \"Fighting Game\", \"First-Person Shooter\", \"Multiplayer Online Battle Arena\", \"Puzzle Game\", \"Racing\", \"Role-Playing Game\", \"Sports\", \"Strategy\", \"Third-Person Shooter\"], \"xaxis\": \"x4\", \"y\": [11, 13, 160, 106, 22, 14, 49, 5, 66, 50, 7], \"yaxis\": \"y4\"}],                        {\"annotations\": [{\"font\": {\"size\": 16}, \"showarrow\": false, \"text\": \"PlayerNo\", \"x\": 0.225, \"xanchor\": \"center\", \"xref\": \"paper\", \"y\": 1.0, \"yanchor\": \"bottom\", \"yref\": \"paper\"}, {\"font\": {\"size\": 16}, \"showarrow\": false, \"text\": \"TournamentNo\", \"x\": 0.775, \"xanchor\": \"center\", \"xref\": \"paper\", \"y\": 1.0, \"yanchor\": \"bottom\", \"yref\": \"paper\"}, {\"font\": {\"size\": 16}, \"showarrow\": false, \"text\": \"TotalMoney\", \"x\": 0.225, \"xanchor\": \"center\", \"xref\": \"paper\", \"y\": 0.25, \"yanchor\": \"bottom\", \"yref\": \"paper\"}, {\"font\": {\"size\": 16}, \"showarrow\": false, \"text\": \"GameNo\", \"x\": 0.775, \"xanchor\": \"center\", \"xref\": \"paper\", \"y\": 0.25, \"yanchor\": \"bottom\", \"yref\": \"paper\"}], \"legend\": {\"bgcolor\": \"#F5F6F9\", \"font\": {\"color\": \"#4D5663\"}}, \"paper_bgcolor\": \"#F5F6F9\", \"plot_bgcolor\": \"#F5F6F9\", \"template\": {\"data\": {\"bar\": [{\"error_x\": {\"color\": \"#2a3f5f\"}, \"error_y\": {\"color\": \"#2a3f5f\"}, \"marker\": {\"line\": {\"color\": \"#E5ECF6\", \"width\": 0.5}}, \"type\": \"bar\"}], \"barpolar\": [{\"marker\": {\"line\": {\"color\": \"#E5ECF6\", \"width\": 0.5}}, \"type\": \"barpolar\"}], \"carpet\": [{\"aaxis\": {\"endlinecolor\": \"#2a3f5f\", \"gridcolor\": \"white\", \"linecolor\": \"white\", \"minorgridcolor\": \"white\", \"startlinecolor\": \"#2a3f5f\"}, \"baxis\": {\"endlinecolor\": \"#2a3f5f\", \"gridcolor\": \"white\", \"linecolor\": \"white\", \"minorgridcolor\": \"white\", \"startlinecolor\": \"#2a3f5f\"}, \"type\": \"carpet\"}], \"choropleth\": [{\"colorbar\": {\"outlinewidth\": 0, \"ticks\": \"\"}, \"type\": \"choropleth\"}], \"contour\": [{\"colorbar\": {\"outlinewidth\": 0, \"ticks\": \"\"}, \"colorscale\": [[0.0, \"#0d0887\"], [0.1111111111111111, \"#46039f\"], [0.2222222222222222, \"#7201a8\"], [0.3333333333333333, \"#9c179e\"], [0.4444444444444444, \"#bd3786\"], [0.5555555555555556, \"#d8576b\"], [0.6666666666666666, \"#ed7953\"], [0.7777777777777778, \"#fb9f3a\"], [0.8888888888888888, \"#fdca26\"], [1.0, \"#f0f921\"]], \"type\": \"contour\"}], \"contourcarpet\": [{\"colorbar\": {\"outlinewidth\": 0, \"ticks\": \"\"}, \"type\": \"contourcarpet\"}], \"heatmap\": [{\"colorbar\": {\"outlinewidth\": 0, \"ticks\": \"\"}, \"colorscale\": [[0.0, \"#0d0887\"], [0.1111111111111111, \"#46039f\"], [0.2222222222222222, \"#7201a8\"], [0.3333333333333333, \"#9c179e\"], [0.4444444444444444, \"#bd3786\"], [0.5555555555555556, \"#d8576b\"], [0.6666666666666666, \"#ed7953\"], [0.7777777777777778, \"#fb9f3a\"], [0.8888888888888888, \"#fdca26\"], [1.0, \"#f0f921\"]], \"type\": \"heatmap\"}], \"heatmapgl\": [{\"colorbar\": {\"outlinewidth\": 0, \"ticks\": \"\"}, \"colorscale\": [[0.0, \"#0d0887\"], [0.1111111111111111, \"#46039f\"], [0.2222222222222222, \"#7201a8\"], [0.3333333333333333, \"#9c179e\"], [0.4444444444444444, \"#bd3786\"], [0.5555555555555556, \"#d8576b\"], [0.6666666666666666, \"#ed7953\"], [0.7777777777777778, \"#fb9f3a\"], [0.8888888888888888, \"#fdca26\"], [1.0, \"#f0f921\"]], \"type\": \"heatmapgl\"}], \"histogram\": [{\"marker\": {\"colorbar\": {\"outlinewidth\": 0, \"ticks\": \"\"}}, \"type\": \"histogram\"}], \"histogram2d\": [{\"colorbar\": {\"outlinewidth\": 0, \"ticks\": \"\"}, \"colorscale\": [[0.0, \"#0d0887\"], [0.1111111111111111, \"#46039f\"], [0.2222222222222222, \"#7201a8\"], [0.3333333333333333, \"#9c179e\"], [0.4444444444444444, \"#bd3786\"], [0.5555555555555556, \"#d8576b\"], [0.6666666666666666, \"#ed7953\"], [0.7777777777777778, \"#fb9f3a\"], [0.8888888888888888, \"#fdca26\"], [1.0, \"#f0f921\"]], \"type\": \"histogram2d\"}], \"histogram2dcontour\": [{\"colorbar\": {\"outlinewidth\": 0, \"ticks\": \"\"}, \"colorscale\": [[0.0, \"#0d0887\"], [0.1111111111111111, \"#46039f\"], [0.2222222222222222, \"#7201a8\"], [0.3333333333333333, \"#9c179e\"], [0.4444444444444444, \"#bd3786\"], [0.5555555555555556, \"#d8576b\"], [0.6666666666666666, \"#ed7953\"], [0.7777777777777778, \"#fb9f3a\"], [0.8888888888888888, \"#fdca26\"], [1.0, \"#f0f921\"]], \"type\": \"histogram2dcontour\"}], \"mesh3d\": [{\"colorbar\": {\"outlinewidth\": 0, \"ticks\": \"\"}, \"type\": \"mesh3d\"}], \"parcoords\": [{\"line\": {\"colorbar\": {\"outlinewidth\": 0, \"ticks\": \"\"}}, \"type\": \"parcoords\"}], \"pie\": [{\"automargin\": true, \"type\": \"pie\"}], \"scatter\": [{\"marker\": {\"colorbar\": {\"outlinewidth\": 0, \"ticks\": \"\"}}, \"type\": \"scatter\"}], \"scatter3d\": [{\"line\": {\"colorbar\": {\"outlinewidth\": 0, \"ticks\": \"\"}}, \"marker\": {\"colorbar\": {\"outlinewidth\": 0, \"ticks\": \"\"}}, \"type\": \"scatter3d\"}], \"scattercarpet\": [{\"marker\": {\"colorbar\": {\"outlinewidth\": 0, \"ticks\": \"\"}}, \"type\": \"scattercarpet\"}], \"scattergeo\": [{\"marker\": {\"colorbar\": {\"outlinewidth\": 0, \"ticks\": \"\"}}, \"type\": \"scattergeo\"}], \"scattergl\": [{\"marker\": {\"colorbar\": {\"outlinewidth\": 0, \"ticks\": \"\"}}, \"type\": \"scattergl\"}], \"scattermapbox\": [{\"marker\": {\"colorbar\": {\"outlinewidth\": 0, \"ticks\": \"\"}}, \"type\": \"scattermapbox\"}], \"scatterpolar\": [{\"marker\": {\"colorbar\": {\"outlinewidth\": 0, \"ticks\": \"\"}}, \"type\": \"scatterpolar\"}], \"scatterpolargl\": [{\"marker\": {\"colorbar\": {\"outlinewidth\": 0, \"ticks\": \"\"}}, \"type\": \"scatterpolargl\"}], \"scatterternary\": [{\"marker\": {\"colorbar\": {\"outlinewidth\": 0, \"ticks\": \"\"}}, \"type\": \"scatterternary\"}], \"surface\": [{\"colorbar\": {\"outlinewidth\": 0, \"ticks\": \"\"}, \"colorscale\": [[0.0, \"#0d0887\"], [0.1111111111111111, \"#46039f\"], [0.2222222222222222, \"#7201a8\"], [0.3333333333333333, \"#9c179e\"], [0.4444444444444444, \"#bd3786\"], [0.5555555555555556, \"#d8576b\"], [0.6666666666666666, \"#ed7953\"], [0.7777777777777778, \"#fb9f3a\"], [0.8888888888888888, \"#fdca26\"], [1.0, \"#f0f921\"]], \"type\": \"surface\"}], \"table\": [{\"cells\": {\"fill\": {\"color\": \"#EBF0F8\"}, \"line\": {\"color\": \"white\"}}, \"header\": {\"fill\": {\"color\": \"#C8D4E3\"}, \"line\": {\"color\": \"white\"}}, \"type\": \"table\"}]}, \"layout\": {\"annotationdefaults\": {\"arrowcolor\": \"#2a3f5f\", \"arrowhead\": 0, \"arrowwidth\": 1}, \"autotypenumbers\": \"strict\", \"coloraxis\": {\"colorbar\": {\"outlinewidth\": 0, \"ticks\": \"\"}}, \"colorscale\": {\"diverging\": [[0, \"#8e0152\"], [0.1, \"#c51b7d\"], [0.2, \"#de77ae\"], [0.3, \"#f1b6da\"], [0.4, \"#fde0ef\"], [0.5, \"#f7f7f7\"], [0.6, \"#e6f5d0\"], [0.7, \"#b8e186\"], [0.8, \"#7fbc41\"], [0.9, \"#4d9221\"], [1, \"#276419\"]], \"sequential\": [[0.0, \"#0d0887\"], [0.1111111111111111, \"#46039f\"], [0.2222222222222222, \"#7201a8\"], [0.3333333333333333, \"#9c179e\"], [0.4444444444444444, \"#bd3786\"], [0.5555555555555556, \"#d8576b\"], [0.6666666666666666, \"#ed7953\"], [0.7777777777777778, \"#fb9f3a\"], [0.8888888888888888, \"#fdca26\"], [1.0, \"#f0f921\"]], \"sequentialminus\": [[0.0, \"#0d0887\"], [0.1111111111111111, \"#46039f\"], [0.2222222222222222, \"#7201a8\"], [0.3333333333333333, \"#9c179e\"], [0.4444444444444444, \"#bd3786\"], [0.5555555555555556, \"#d8576b\"], [0.6666666666666666, \"#ed7953\"], [0.7777777777777778, \"#fb9f3a\"], [0.8888888888888888, \"#fdca26\"], [1.0, \"#f0f921\"]]}, \"colorway\": [\"#636efa\", \"#EF553B\", \"#00cc96\", \"#ab63fa\", \"#FFA15A\", \"#19d3f3\", \"#FF6692\", \"#B6E880\", \"#FF97FF\", \"#FECB52\"], \"font\": {\"color\": \"#2a3f5f\"}, \"geo\": {\"bgcolor\": \"white\", \"lakecolor\": \"white\", \"landcolor\": \"#E5ECF6\", \"showlakes\": true, \"showland\": true, \"subunitcolor\": \"white\"}, \"hoverlabel\": {\"align\": \"left\"}, \"hovermode\": \"closest\", \"mapbox\": {\"style\": \"light\"}, \"paper_bgcolor\": \"white\", \"plot_bgcolor\": \"#E5ECF6\", \"polar\": {\"angularaxis\": {\"gridcolor\": \"white\", \"linecolor\": \"white\", \"ticks\": \"\"}, \"bgcolor\": \"#E5ECF6\", \"radialaxis\": {\"gridcolor\": \"white\", \"linecolor\": \"white\", \"ticks\": \"\"}}, \"scene\": {\"xaxis\": {\"backgroundcolor\": \"#E5ECF6\", \"gridcolor\": \"white\", \"gridwidth\": 2, \"linecolor\": \"white\", \"showbackground\": true, \"ticks\": \"\", \"zerolinecolor\": \"white\"}, \"yaxis\": {\"backgroundcolor\": \"#E5ECF6\", \"gridcolor\": \"white\", \"gridwidth\": 2, \"linecolor\": \"white\", \"showbackground\": true, \"ticks\": \"\", \"zerolinecolor\": \"white\"}, \"zaxis\": {\"backgroundcolor\": \"#E5ECF6\", \"gridcolor\": \"white\", \"gridwidth\": 2, \"linecolor\": \"white\", \"showbackground\": true, \"ticks\": \"\", \"zerolinecolor\": \"white\"}}, \"shapedefaults\": {\"line\": {\"color\": \"#2a3f5f\"}}, \"ternary\": {\"aaxis\": {\"gridcolor\": \"white\", \"linecolor\": \"white\", \"ticks\": \"\"}, \"baxis\": {\"gridcolor\": \"white\", \"linecolor\": \"white\", \"ticks\": \"\"}, \"bgcolor\": \"#E5ECF6\", \"caxis\": {\"gridcolor\": \"white\", \"linecolor\": \"white\", \"ticks\": \"\"}}, \"title\": {\"x\": 0.05}, \"xaxis\": {\"automargin\": true, \"gridcolor\": \"white\", \"linecolor\": \"white\", \"ticks\": \"\", \"title\": {\"standoff\": 15}, \"zerolinecolor\": \"white\", \"zerolinewidth\": 2}, \"yaxis\": {\"automargin\": true, \"gridcolor\": \"white\", \"linecolor\": \"white\", \"ticks\": \"\", \"title\": {\"standoff\": 15}, \"zerolinecolor\": \"white\", \"zerolinewidth\": 2}}}, \"title\": {\"font\": {\"color\": \"#4D5663\"}, \"text\": \"GAME CATEGORIES\"}, \"xaxis\": {\"anchor\": \"y\", \"domain\": [0.0, 0.45], \"gridcolor\": \"#E1E5ED\", \"showgrid\": false, \"tickfont\": {\"color\": \"#4D5663\"}, \"title\": {\"font\": {\"color\": \"#4D5663\"}, \"text\": \"\"}, \"zerolinecolor\": \"#E1E5ED\"}, \"xaxis2\": {\"anchor\": \"y2\", \"domain\": [0.55, 1.0], \"gridcolor\": \"#E1E5ED\", \"showgrid\": false, \"tickfont\": {\"color\": \"#4D5663\"}, \"title\": {\"font\": {\"color\": \"#4D5663\"}, \"text\": \"\"}, \"zerolinecolor\": \"#E1E5ED\"}, \"xaxis3\": {\"anchor\": \"y3\", \"domain\": [0.0, 0.45], \"gridcolor\": \"#E1E5ED\", \"showgrid\": false, \"tickfont\": {\"color\": \"#4D5663\"}, \"title\": {\"font\": {\"color\": \"#4D5663\"}, \"text\": \"\"}, \"zerolinecolor\": \"#E1E5ED\"}, \"xaxis4\": {\"anchor\": \"y4\", \"domain\": [0.55, 1.0], \"gridcolor\": \"#E1E5ED\", \"showgrid\": false, \"tickfont\": {\"color\": \"#4D5663\"}, \"title\": {\"font\": {\"color\": \"#4D5663\"}, \"text\": \"\"}, \"zerolinecolor\": \"#E1E5ED\"}, \"yaxis\": {\"anchor\": \"x\", \"domain\": [0.75, 1.0], \"gridcolor\": \"#E1E5ED\", \"showgrid\": false, \"tickfont\": {\"color\": \"#4D5663\"}, \"title\": {\"font\": {\"color\": \"#4D5663\"}, \"text\": \"\"}, \"zerolinecolor\": \"#E1E5ED\"}, \"yaxis2\": {\"anchor\": \"x2\", \"domain\": [0.75, 1.0], \"gridcolor\": \"#E1E5ED\", \"showgrid\": false, \"tickfont\": {\"color\": \"#4D5663\"}, \"title\": {\"font\": {\"color\": \"#4D5663\"}, \"text\": \"\"}, \"zerolinecolor\": \"#E1E5ED\"}, \"yaxis3\": {\"anchor\": \"x3\", \"domain\": [0.0, 0.25], \"gridcolor\": \"#E1E5ED\", \"showgrid\": false, \"tickfont\": {\"color\": \"#4D5663\"}, \"title\": {\"font\": {\"color\": \"#4D5663\"}, \"text\": \"\"}, \"zerolinecolor\": \"#E1E5ED\"}, \"yaxis4\": {\"anchor\": \"x4\", \"domain\": [0.0, 0.25], \"gridcolor\": \"#E1E5ED\", \"showgrid\": false, \"tickfont\": {\"color\": \"#4D5663\"}, \"title\": {\"font\": {\"color\": \"#4D5663\"}, \"text\": \"\"}, \"zerolinecolor\": \"#E1E5ED\"}},                        {\"showLink\": true, \"linkText\": \"Export to plot.ly\", \"plotlyServerURL\": \"https://plot.ly\", \"responsive\": true}                    ).then(function(){\n",
       "                            \n",
       "var gd = document.getElementById('1d05c983-23a1-4813-802a-33327424c33a');\n",
       "var x = new MutationObserver(function (mutations, observer) {{\n",
       "        var display = window.getComputedStyle(gd).display;\n",
       "        if (!display || display === 'none') {{\n",
       "            console.log([gd, 'removed!']);\n",
       "            Plotly.purge(gd);\n",
       "            observer.disconnect();\n",
       "        }}\n",
       "}});\n",
       "\n",
       "// Listen for the removal of the full notebook cells\n",
       "var notebookContainer = gd.closest('#notebook-container');\n",
       "if (notebookContainer) {{\n",
       "    x.observe(notebookContainer, {childList: true});\n",
       "}}\n",
       "\n",
       "// Listen for the clearing of the current output cell\n",
       "var outputEl = gd.closest('.output');\n",
       "if (outputEl) {{\n",
       "    x.observe(outputEl, {childList: true});\n",
       "}}\n",
       "\n",
       "                        })                };                });            </script>        </div>"
      ]
     },
     "metadata": {},
     "output_type": "display_data"
    },
    {
     "data": {
      "text/plain": [
       "<seaborn.axisgrid.PairGrid at 0x7f5dcc859820>"
      ]
     },
     "execution_count": 26,
     "metadata": {},
     "output_type": "execute_result"
    },
    {
     "data": {
      "image/png": "[encoded data removed]",
      "text/plain": [
       "<Figure size 1080x720 with 20 Axes>"
      ]
     },
     "metadata": {
      "needs_background": "light"
     },
     "output_type": "display_data"
    }
   ],
   "source": [
    "Game_cat.iplot(kind='bar',\n",
    "               subplots=True,\n",
    "               vertical_spacing=0.5,\n",
    "               subplot_titles=True,\n",
    "               showgrid=False,\n",
    "               colorscale='pastel2',\n",
    "               title='GAME CATEGORIES')\n",
    "               #shared_xaxes=True)\n",
    "\n",
    "sns.pairplot(Game_cat, aspect=1.5,\n",
    "             diag_kind='kde', kind=\"reg\", plot_kws={'line_kws': {'color': 'orange'}})"
   ]
  },
  {
   "cell_type": "markdown",
   "id": "d15ac214",
   "metadata": {},
   "source": [
    "---"
   ]
  },
  {
   "cell_type": "markdown",
   "id": "5e10fbdb",
   "metadata": {
    "ExecuteTime": {
     "end_time": "2021-05-30T08:46:11.539147Z",
     "start_time": "2021-05-30T08:46:11.536373Z"
    }
   },
   "source": [
    "### Top 10 Game titles\n",
    "In this category, we select the top 10 Games with highest earnings to check if there is any insight"
   ]
  },
  {
   "cell_type": "code",
   "execution_count": 27,
   "id": "2b0a2482",
   "metadata": {
    "ExecuteTime": {
     "end_time": "2021-07-08T17:25:41.203425Z",
     "start_time": "2021-07-08T17:25:41.176238Z"
    }
   },
   "outputs": [
    {
     "data": {
      "text/html": [
       "<div>\n",
       "<style scoped>\n",
       "    .dataframe tbody tr th:only-of-type {\n",
       "        vertical-align: middle;\n",
       "    }\n",
       "\n",
       "    .dataframe tbody tr th {\n",
       "        vertical-align: top;\n",
       "    }\n",
       "\n",
       "    .dataframe thead th {\n",
       "        text-align: right;\n",
       "    }\n",
       "</style>\n",
       "<table border=\"1\" class=\"dataframe\">\n",
       "  <thead>\n",
       "    <tr style=\"text-align: right;\">\n",
       "      <th></th>\n",
       "      <th>PlayerNo</th>\n",
       "      <th>TournamentNo</th>\n",
       "      <th>TotalMoney</th>\n",
       "    </tr>\n",
       "    <tr>\n",
       "      <th>GameName</th>\n",
       "      <th></th>\n",
       "      <th></th>\n",
       "      <th></th>\n",
       "    </tr>\n",
       "  </thead>\n",
       "  <tbody>\n",
       "    <tr>\n",
       "      <th>Dota 2</th>\n",
       "      <td>3836</td>\n",
       "      <td>1434</td>\n",
       "      <td>2.274199e+08</td>\n",
       "    </tr>\n",
       "    <tr>\n",
       "      <th>Counter-Strike: Global Offensive</th>\n",
       "      <td>13032</td>\n",
       "      <td>5252</td>\n",
       "      <td>1.024743e+08</td>\n",
       "    </tr>\n",
       "    <tr>\n",
       "      <th>Fortnite</th>\n",
       "      <td>4347</td>\n",
       "      <td>660</td>\n",
       "      <td>9.750842e+07</td>\n",
       "    </tr>\n",
       "    <tr>\n",
       "      <th>League of Legends</th>\n",
       "      <td>7130</td>\n",
       "      <td>2477</td>\n",
       "      <td>7.900345e+07</td>\n",
       "    </tr>\n",
       "    <tr>\n",
       "      <th>StarCraft II</th>\n",
       "      <td>2078</td>\n",
       "      <td>5909</td>\n",
       "      <td>3.391406e+07</td>\n",
       "    </tr>\n",
       "    <tr>\n",
       "      <th>Overwatch</th>\n",
       "      <td>3494</td>\n",
       "      <td>743</td>\n",
       "      <td>2.604933e+07</td>\n",
       "    </tr>\n",
       "    <tr>\n",
       "      <th>PLAYERUNKNOWN'S BATTLEGROUNDS</th>\n",
       "      <td>2754</td>\n",
       "      <td>294</td>\n",
       "      <td>2.371038e+07</td>\n",
       "    </tr>\n",
       "    <tr>\n",
       "      <th>Hearthstone</th>\n",
       "      <td>2423</td>\n",
       "      <td>898</td>\n",
       "      <td>2.309838e+07</td>\n",
       "    </tr>\n",
       "    <tr>\n",
       "      <th>Heroes of the Storm</th>\n",
       "      <td>1250</td>\n",
       "      <td>463</td>\n",
       "      <td>1.817798e+07</td>\n",
       "    </tr>\n",
       "    <tr>\n",
       "      <th>Arena of Valor</th>\n",
       "      <td>558</td>\n",
       "      <td>51</td>\n",
       "      <td>1.522871e+07</td>\n",
       "    </tr>\n",
       "  </tbody>\n",
       "</table>\n",
       "</div>"
      ],
      "text/plain": [
       "                                  PlayerNo  TournamentNo    TotalMoney\n",
       "GameName                                                              \n",
       "Dota 2                                3836          1434  2.274199e+08\n",
       "Counter-Strike: Global Offensive     13032          5252  1.024743e+08\n",
       "Fortnite                              4347           660  9.750842e+07\n",
       "League of Legends                     7130          2477  7.900345e+07\n",
       "StarCraft II                          2078          5909  3.391406e+07\n",
       "Overwatch                             3494           743  2.604933e+07\n",
       "PLAYERUNKNOWN'S BATTLEGROUNDS         2754           294  2.371038e+07\n",
       "Hearthstone                           2423           898  2.309838e+07\n",
       "Heroes of the Storm                   1250           463  1.817798e+07\n",
       "Arena of Valor                         558            51  1.522871e+07"
      ]
     },
     "execution_count": 27,
     "metadata": {},
     "output_type": "execute_result"
    }
   ],
   "source": [
    "# Create game title data set (sum method)\n",
    "Gamename = df.groupby('GameName').sum()\n",
    "\n",
    "# Drop the Top_Country_Earnings since it is not important\n",
    "Gamename.drop('Top_Country_Earnings', axis=1, inplace=True)\n",
    "\n",
    "# Sort the top 10 game by Total Money -> No of Tournament -> Player No\n",
    "Top10Games=Gamename.sort_values(by=['TotalMoney', 'TournamentNo', 'PlayerNo'], ascending=False).head(10)\n",
    "Top10Games"
   ]
  },
  {
   "cell_type": "markdown",
   "id": "e45ee6f1",
   "metadata": {},
   "source": [
    "As we can see in the scatter chart, there are positive correlation between three variable: PlayerNo, TournamentNo and TotalMoney in the top 10 earnings game. However:\n",
    "- The correlation between Total Money and two others is rather weak\n",
    "- The correlation between PlayerNo and TournamentNo is much clearer\n",
    "\n",
    "In short, Earnings of a game in ESport doesnt depend much on Number of its player or tournament."
   ]
  },
  {
   "cell_type": "code",
   "execution_count": 28,
   "id": "0b49c3da",
   "metadata": {
    "ExecuteTime": {
     "end_time": "2021-07-08T17:25:44.548441Z",
     "start_time": "2021-07-08T17:25:43.938511Z"
    }
   },
   "outputs": [
    {
     "data": {
      "text/plain": [
       "<Figure size 1080x576 with 0 Axes>"
      ]
     },
     "execution_count": 28,
     "metadata": {},
     "output_type": "execute_result"
    },
    {
     "data": {
      "text/plain": [
       "<AxesSubplot:xlabel='PlayerNo', ylabel='TournamentNo'>"
      ]
     },
     "execution_count": 28,
     "metadata": {},
     "output_type": "execute_result"
    },
    {
     "data": {
      "image/png": "[encoded data removed]",
      "text/plain": [
       "<Figure size 1080x576 with 1 Axes>"
      ]
     },
     "metadata": {
      "needs_background": "light"
     },
     "output_type": "display_data"
    }
   ],
   "source": [
    "plt.figure(figsize=(15,8))\n",
    "sns.scatterplot(data=Top10Games,x=\"PlayerNo\",y=\"TournamentNo\",hue=\"GameName\",size='TotalMoney',legend='auto')"
   ]
  },
  {
   "cell_type": "code",
   "execution_count": 29,
   "id": "0cc6eb04",
   "metadata": {
    "ExecuteTime": {
     "end_time": "2021-07-08T17:25:48.797017Z",
     "start_time": "2021-07-08T17:25:46.093360Z"
    }
   },
   "outputs": [
    {
     "data": {
      "application/vnd.plotly.v1+json": {
       "config": {
        "linkText": "Export to plot.ly",
        "plotlyServerURL": "https://plot.ly",
        "showLink": true
       },
       "data": [
        {
         "marker": {
          "color": "rgba(179, 226, 205, 0.6)",
          "line": {
           "color": "rgba(179, 226, 205, 1.0)",
           "width": 1
          }
         },
         "name": "PlayerNo",
         "orientation": "v",
         "text": "",
         "type": "bar",
         "x": [
          "Dota 2",
          "Counter-Strike: Global Offensive",
          "Fortnite",
          "League of Legends",
          "StarCraft II",
          "Overwatch",
          "PLAYERUNKNOWN'S BATTLEGROUNDS",
          "Hearthstone",
          "Heroes of the Storm",
          "Arena of Valor"
         ],
         "xaxis": "x",
         "y": [
          3836,
          13032,
          4347,
          7130,
          2078,
          3494,
          2754,
          2423,
          1250,
          558
         ],
         "yaxis": "y"
        },
        {
         "marker": {
          "color": "rgba(253, 205, 172, 0.6)",
          "line": {
           "color": "rgba(253, 205, 172, 1.0)",
           "width": 1
          }
         },
         "name": "TournamentNo",
         "orientation": "v",
         "text": "",
         "type": "bar",
         "x": [
          "Dota 2",
          "Counter-Strike: Global Offensive",
          "Fortnite",
          "League of Legends",
          "StarCraft II",
          "Overwatch",
          "PLAYERUNKNOWN'S BATTLEGROUNDS",
          "Hearthstone",
          "Heroes of the Storm",
          "Arena of Valor"
         ],
         "xaxis": "x2",
         "y": [
          1434,
          5252,
          660,
          2477,
          5909,
          743,
          294,
          898,
          463,
          51
         ],
         "yaxis": "y2"
        },
        {
         "marker": {
          "color": "rgba(203, 213, 232, 0.6)",
          "line": {
           "color": "rgba(203, 213, 232, 1.0)",
           "width": 1
          }
         },
         "name": "TotalMoney",
         "orientation": "v",
         "text": "",
         "type": "bar",
         "x": [
          "Dota 2",
          "Counter-Strike: Global Offensive",
          "Fortnite",
          "League of Legends",
          "StarCraft II",
          "Overwatch",
          "PLAYERUNKNOWN'S BATTLEGROUNDS",
          "Hearthstone",
          "Heroes of the Storm",
          "Arena of Valor"
         ],
         "xaxis": "x3",
         "y": [
          227419904.51,
          102474261.25,
          97508425,
          79003448.94,
          33914062.96,
          26049333.28,
          23710378.57,
          23098378.24,
          18177982.65,
          15228710.62
         ],
         "yaxis": "y3"
        }
       ],
       "layout": {
        "annotations": [
         {
          "font": {
           "size": 16
          },
          "showarrow": false,
          "text": "PlayerNo",
          "x": 0.14444444444444446,
          "xanchor": "center",
          "xref": "paper",
          "y": 1,
          "yanchor": "bottom",
          "yref": "paper"
         },
         {
          "font": {
           "size": 16
          },
          "showarrow": false,
          "text": "TournamentNo",
          "x": 0.5,
          "xanchor": "center",
          "xref": "paper",
          "y": 1,
          "yanchor": "bottom",
          "yref": "paper"
         },
         {
          "font": {
           "size": 16
          },
          "showarrow": false,
          "text": "TotalMoney",
          "x": 0.8555555555555556,
          "xanchor": "center",
          "xref": "paper",
          "y": 1,
          "yanchor": "bottom",
          "yref": "paper"
         }
        ],
        "legend": {
         "bgcolor": "#F5F6F9",
         "font": {
          "color": "#4D5663"
         }
        },
        "paper_bgcolor": "#F5F6F9",
        "plot_bgcolor": "#F5F6F9",
        "template": {
         "data": {
          "bar": [
           {
            "error_x": {
             "color": "#2a3f5f"
            },
            "error_y": {
             "color": "#2a3f5f"
            },
            "marker": {
             "line": {
              "color": "#E5ECF6",
              "width": 0.5
             }
            },
            "type": "bar"
           }
          ],
          "barpolar": [
           {
            "marker": {
             "line": {
              "color": "#E5ECF6",
              "width": 0.5
             }
            },
            "type": "barpolar"
           }
          ],
          "carpet": [
           {
            "aaxis": {
             "endlinecolor": "#2a3f5f",
             "gridcolor": "white",
             "linecolor": "white",
             "minorgridcolor": "white",
             "startlinecolor": "#2a3f5f"
            },
            "baxis": {
             "endlinecolor": "#2a3f5f",
             "gridcolor": "white",
             "linecolor": "white",
             "minorgridcolor": "white",
             "startlinecolor": "#2a3f5f"
            },
            "type": "carpet"
           }
          ],
          "choropleth": [
           {
            "colorbar": {
             "outlinewidth": 0,
             "ticks": ""
            },
            "type": "choropleth"
           }
          ],
          "contour": [
           {
            "colorbar": {
             "outlinewidth": 0,
             "ticks": ""
            },
            "colorscale": [
             [
              0,
              "#0d0887"
             ],
             [
              0.1111111111111111,
              "#46039f"
             ],
             [
              0.2222222222222222,
              "#7201a8"
             ],
             [
              0.3333333333333333,
              "#9c179e"
             ],
             [
              0.4444444444444444,
              "#bd3786"
             ],
             [
              0.5555555555555556,
              "#d8576b"
             ],
             [
              0.6666666666666666,
              "#ed7953"
             ],
             [
              0.7777777777777778,
              "#fb9f3a"
             ],
             [
              0.8888888888888888,
              "#fdca26"
             ],
             [
              1,
              "#f0f921"
             ]
            ],
            "type": "contour"
           }
          ],
          "contourcarpet": [
           {
            "colorbar": {
             "outlinewidth": 0,
             "ticks": ""
            },
            "type": "contourcarpet"
           }
          ],
          "heatmap": [
           {
            "colorbar": {
             "outlinewidth": 0,
             "ticks": ""
            },
            "colorscale": [
             [
              0,
              "#0d0887"
             ],
             [
              0.1111111111111111,
              "#46039f"
             ],
             [
              0.2222222222222222,
              "#7201a8"
             ],
             [
              0.3333333333333333,
              "#9c179e"
             ],
             [
              0.4444444444444444,
              "#bd3786"
             ],
             [
              0.5555555555555556,
              "#d8576b"
             ],
             [
              0.6666666666666666,
              "#ed7953"
             ],
             [
              0.7777777777777778,
              "#fb9f3a"
             ],
             [
              0.8888888888888888,
              "#fdca26"
             ],
             [
              1,
              "#f0f921"
             ]
            ],
            "type": "heatmap"
           }
          ],
          "heatmapgl": [
           {
            "colorbar": {
             "outlinewidth": 0,
             "ticks": ""
            },
            "colorscale": [
             [
              0,
              "#0d0887"
             ],
             [
              0.1111111111111111,
              "#46039f"
             ],
             [
              0.2222222222222222,
              "#7201a8"
             ],
             [
              0.3333333333333333,
              "#9c179e"
             ],
             [
              0.4444444444444444,
              "#bd3786"
             ],
             [
              0.5555555555555556,
              "#d8576b"
             ],
             [
              0.6666666666666666,
              "#ed7953"
             ],
             [
              0.7777777777777778,
              "#fb9f3a"
             ],
             [
              0.8888888888888888,
              "#fdca26"
             ],
             [
              1,
              "#f0f921"
             ]
            ],
            "type": "heatmapgl"
           }
          ],
          "histogram": [
           {
            "marker": {
             "colorbar": {
              "outlinewidth": 0,
              "ticks": ""
             }
            },
            "type": "histogram"
           }
          ],
          "histogram2d": [
           {
            "colorbar": {
             "outlinewidth": 0,
             "ticks": ""
            },
            "colorscale": [
             [
              0,
              "#0d0887"
             ],
             [
              0.1111111111111111,
              "#46039f"
             ],
             [
              0.2222222222222222,
              "#7201a8"
             ],
             [
              0.3333333333333333,
              "#9c179e"
             ],
             [
              0.4444444444444444,
              "#bd3786"
             ],
             [
              0.5555555555555556,
              "#d8576b"
             ],
             [
              0.6666666666666666,
              "#ed7953"
             ],
             [
              0.7777777777777778,
              "#fb9f3a"
             ],
             [
              0.8888888888888888,
              "#fdca26"
             ],
             [
              1,
              "#f0f921"
             ]
            ],
            "type": "histogram2d"
           }
          ],
          "histogram2dcontour": [
           {
            "colorbar": {
             "outlinewidth": 0,
             "ticks": ""
            },
            "colorscale": [
             [
              0,
              "#0d0887"
             ],
             [
              0.1111111111111111,
              "#46039f"
             ],
             [
              0.2222222222222222,
              "#7201a8"
             ],
             [
              0.3333333333333333,
              "#9c179e"
             ],
             [
              0.4444444444444444,
              "#bd3786"
             ],
             [
              0.5555555555555556,
              "#d8576b"
             ],
             [
              0.6666666666666666,
              "#ed7953"
             ],
             [
              0.7777777777777778,
              "#fb9f3a"
             ],
             [
              0.8888888888888888,
              "#fdca26"
             ],
             [
              1,
              "#f0f921"
             ]
            ],
            "type": "histogram2dcontour"
           }
          ],
          "mesh3d": [
           {
            "colorbar": {
             "outlinewidth": 0,
             "ticks": ""
            },
            "type": "mesh3d"
           }
          ],
          "parcoords": [
           {
            "line": {
             "colorbar": {
              "outlinewidth": 0,
              "ticks": ""
             }
            },
            "type": "parcoords"
           }
          ],
          "pie": [
           {
            "automargin": true,
            "type": "pie"
           }
          ],
          "scatter": [
           {
            "marker": {
             "colorbar": {
              "outlinewidth": 0,
              "ticks": ""
             }
            },
            "type": "scatter"
           }
          ],
          "scatter3d": [
           {
            "line": {
             "colorbar": {
              "outlinewidth": 0,
              "ticks": ""
             }
            },
            "marker": {
             "colorbar": {
              "outlinewidth": 0,
              "ticks": ""
             }
            },
            "type": "scatter3d"
           }
          ],
          "scattercarpet": [
           {
            "marker": {
             "colorbar": {
              "outlinewidth": 0,
              "ticks": ""
             }
            },
            "type": "scattercarpet"
           }
          ],
          "scattergeo": [
           {
            "marker": {
             "colorbar": {
              "outlinewidth": 0,
              "ticks": ""
             }
            },
            "type": "scattergeo"
           }
          ],
          "scattergl": [
           {
            "marker": {
             "colorbar": {
              "outlinewidth": 0,
              "ticks": ""
             }
            },
            "type": "scattergl"
           }
          ],
          "scattermapbox": [
           {
            "marker": {
             "colorbar": {
              "outlinewidth": 0,
              "ticks": ""
             }
            },
            "type": "scattermapbox"
           }
          ],
          "scatterpolar": [
           {
            "marker": {
             "colorbar": {
              "outlinewidth": 0,
              "ticks": ""
             }
            },
            "type": "scatterpolar"
           }
          ],
          "scatterpolargl": [
           {
            "marker": {
             "colorbar": {
              "outlinewidth": 0,
              "ticks": ""
             }
            },
            "type": "scatterpolargl"
           }
          ],
          "scatterternary": [
           {
            "marker": {
             "colorbar": {
              "outlinewidth": 0,
              "ticks": ""
             }
            },
            "type": "scatterternary"
           }
          ],
          "surface": [
           {
            "colorbar": {
             "outlinewidth": 0,
             "ticks": ""
            },
            "colorscale": [
             [
              0,
              "#0d0887"
             ],
             [
              0.1111111111111111,
              "#46039f"
             ],
             [
              0.2222222222222222,
              "#7201a8"
             ],
             [
              0.3333333333333333,
              "#9c179e"
             ],
             [
              0.4444444444444444,
              "#bd3786"
             ],
             [
              0.5555555555555556,
              "#d8576b"
             ],
             [
              0.6666666666666666,
              "#ed7953"
             ],
             [
              0.7777777777777778,
              "#fb9f3a"
             ],
             [
              0.8888888888888888,
              "#fdca26"
             ],
             [
              1,
              "#f0f921"
             ]
            ],
            "type": "surface"
           }
          ],
          "table": [
           {
            "cells": {
             "fill": {
              "color": "#EBF0F8"
             },
             "line": {
              "color": "white"
             }
            },
            "header": {
             "fill": {
              "color": "#C8D4E3"
             },
             "line": {
              "color": "white"
             }
            },
            "type": "table"
           }
          ]
         },
         "layout": {
          "annotationdefaults": {
           "arrowcolor": "#2a3f5f",
           "arrowhead": 0,
           "arrowwidth": 1
          },
          "autotypenumbers": "strict",
          "coloraxis": {
           "colorbar": {
            "outlinewidth": 0,
            "ticks": ""
           }
          },
          "colorscale": {
           "diverging": [
            [
             0,
             "#8e0152"
            ],
            [
             0.1,
             "#c51b7d"
            ],
            [
             0.2,
             "#de77ae"
            ],
            [
             0.3,
             "#f1b6da"
            ],
            [
             0.4,
             "#fde0ef"
            ],
            [
             0.5,
             "#f7f7f7"
            ],
            [
             0.6,
             "#e6f5d0"
            ],
            [
             0.7,
             "#b8e186"
            ],
            [
             0.8,
             "#7fbc41"
            ],
            [
             0.9,
             "#4d9221"
            ],
            [
             1,
             "#276419"
            ]
           ],
           "sequential": [
            [
             0,
             "#0d0887"
            ],
            [
             0.1111111111111111,
             "#46039f"
            ],
            [
             0.2222222222222222,
             "#7201a8"
            ],
            [
             0.3333333333333333,
             "#9c179e"
            ],
            [
             0.4444444444444444,
             "#bd3786"
            ],
            [
             0.5555555555555556,
             "#d8576b"
            ],
            [
             0.6666666666666666,
             "#ed7953"
            ],
            [
             0.7777777777777778,
             "#fb9f3a"
            ],
            [
             0.8888888888888888,
             "#fdca26"
            ],
            [
             1,
             "#f0f921"
            ]
           ],
           "sequentialminus": [
            [
             0,
             "#0d0887"
            ],
            [
             0.1111111111111111,
             "#46039f"
            ],
            [
             0.2222222222222222,
             "#7201a8"
            ],
            [
             0.3333333333333333,
             "#9c179e"
            ],
            [
             0.4444444444444444,
             "#bd3786"
            ],
            [
             0.5555555555555556,
             "#d8576b"
            ],
            [
             0.6666666666666666,
             "#ed7953"
            ],
            [
             0.7777777777777778,
             "#fb9f3a"
            ],
            [
             0.8888888888888888,
             "#fdca26"
            ],
            [
             1,
             "#f0f921"
            ]
           ]
          },
          "colorway": [
           "#636efa",
           "#EF553B",
           "#00cc96",
           "#ab63fa",
           "#FFA15A",
           "#19d3f3",
           "#FF6692",
           "#B6E880",
           "#FF97FF",
           "#FECB52"
          ],
          "font": {
           "color": "#2a3f5f"
          },
          "geo": {
           "bgcolor": "white",
           "lakecolor": "white",
           "landcolor": "#E5ECF6",
           "showlakes": true,
           "showland": true,
           "subunitcolor": "white"
          },
          "hoverlabel": {
           "align": "left"
          },
          "hovermode": "closest",
          "mapbox": {
           "style": "light"
          },
          "paper_bgcolor": "white",
          "plot_bgcolor": "#E5ECF6",
          "polar": {
           "angularaxis": {
            "gridcolor": "white",
            "linecolor": "white",
            "ticks": ""
           },
           "bgcolor": "#E5ECF6",
           "radialaxis": {
            "gridcolor": "white",
            "linecolor": "white",
            "ticks": ""
           }
          },
          "scene": {
           "xaxis": {
            "backgroundcolor": "#E5ECF6",
            "gridcolor": "white",
            "gridwidth": 2,
            "linecolor": "white",
            "showbackground": true,
            "ticks": "",
            "zerolinecolor": "white"
           },
           "yaxis": {
            "backgroundcolor": "#E5ECF6",
            "gridcolor": "white",
            "gridwidth": 2,
            "linecolor": "white",
            "showbackground": true,
            "ticks": "",
            "zerolinecolor": "white"
           },
           "zaxis": {
            "backgroundcolor": "#E5ECF6",
            "gridcolor": "white",
            "gridwidth": 2,
            "linecolor": "white",
            "showbackground": true,
            "ticks": "",
            "zerolinecolor": "white"
           }
          },
          "shapedefaults": {
           "line": {
            "color": "#2a3f5f"
           }
          },
          "ternary": {
           "aaxis": {
            "gridcolor": "white",
            "linecolor": "white",
            "ticks": ""
           },
           "baxis": {
            "gridcolor": "white",
            "linecolor": "white",
            "ticks": ""
           },
           "bgcolor": "#E5ECF6",
           "caxis": {
            "gridcolor": "white",
            "linecolor": "white",
            "ticks": ""
           }
          },
          "title": {
           "x": 0.05
          },
          "xaxis": {
           "automargin": true,
           "gridcolor": "white",
           "linecolor": "white",
           "ticks": "",
           "title": {
            "standoff": 15
           },
           "zerolinecolor": "white",
           "zerolinewidth": 2
          },
          "yaxis": {
           "automargin": true,
           "gridcolor": "white",
           "linecolor": "white",
           "ticks": "",
           "title": {
            "standoff": 15
           },
           "zerolinecolor": "white",
           "zerolinewidth": 2
          }
         }
        },
        "title": {
         "font": {
          "color": "#4D5663"
         },
         "text": "TOP 10 GAMES IN TTL MONEY"
        },
        "xaxis": {
         "anchor": "y",
         "domain": [
          0,
          0.2888888888888889
         ],
         "gridcolor": "#E1E5ED",
         "showgrid": false,
         "tickfont": {
          "color": "#4D5663"
         },
         "title": {
          "font": {
           "color": "#4D5663"
          },
          "text": ""
         },
         "zerolinecolor": "#E1E5ED"
        },
        "xaxis2": {
         "anchor": "y2",
         "domain": [
          0.35555555555555557,
          0.6444444444444445
         ],
         "gridcolor": "#E1E5ED",
         "showgrid": false,
         "tickfont": {
          "color": "#4D5663"
         },
         "title": {
          "font": {
           "color": "#4D5663"
          },
          "text": ""
         },
         "zerolinecolor": "#E1E5ED"
        },
        "xaxis3": {
         "anchor": "y3",
         "domain": [
          0.7111111111111111,
          1
         ],
         "gridcolor": "#E1E5ED",
         "showgrid": false,
         "tickfont": {
          "color": "#4D5663"
         },
         "title": {
          "font": {
           "color": "#4D5663"
          },
          "text": ""
         },
         "zerolinecolor": "#E1E5ED"
        },
        "yaxis": {
         "anchor": "x",
         "domain": [
          0,
          1
         ],
         "gridcolor": "#E1E5ED",
         "showgrid": false,
         "tickfont": {
          "color": "#4D5663"
         },
         "title": {
          "font": {
           "color": "#4D5663"
          },
          "text": ""
         },
         "zerolinecolor": "#E1E5ED"
        },
        "yaxis2": {
         "anchor": "x2",
         "domain": [
          0,
          1
         ],
         "gridcolor": "#E1E5ED",
         "showgrid": false,
         "tickfont": {
          "color": "#4D5663"
         },
         "title": {
          "font": {
           "color": "#4D5663"
          },
          "text": ""
         },
         "zerolinecolor": "#E1E5ED"
        },
        "yaxis3": {
         "anchor": "x3",
         "domain": [
          0,
          1
         ],
         "gridcolor": "#E1E5ED",
         "showgrid": false,
         "tickfont": {
          "color": "#4D5663"
         },
         "title": {
          "font": {
           "color": "#4D5663"
          },
          "text": ""
         },
         "zerolinecolor": "#E1E5ED"
        }
       }
      },
      "text/html": [
       "<div>                            <div id=\"2887a652-cb2b-43d0-bb26-94352decbaea\" class=\"plotly-graph-div\" style=\"height:525px; width:100%;\"></div>            <script type=\"text/javascript\">                require([\"plotly\"], function(Plotly) {                    window.PLOTLYENV=window.PLOTLYENV || {};\n",
       "                    window.PLOTLYENV.BASE_URL='https://plot.ly';                                    if (document.getElementById(\"2887a652-cb2b-43d0-bb26-94352decbaea\")) {                    Plotly.newPlot(                        \"2887a652-cb2b-43d0-bb26-94352decbaea\",                        [{\"marker\": {\"color\": \"rgba(179, 226, 205, 0.6)\", \"line\": {\"color\": \"rgba(179, 226, 205, 1.0)\", \"width\": 1}}, \"name\": \"PlayerNo\", \"orientation\": \"v\", \"text\": \"\", \"type\": \"bar\", \"x\": [\"Dota 2\", \"Counter-Strike: Global Offensive\", \"Fortnite\", \"League of Legends\", \"StarCraft II\", \"Overwatch\", \"PLAYERUNKNOWN'S BATTLEGROUNDS\", \"Hearthstone\", \"Heroes of the Storm\", \"Arena of Valor\"], \"xaxis\": \"x\", \"y\": [3836, 13032, 4347, 7130, 2078, 3494, 2754, 2423, 1250, 558], \"yaxis\": \"y\"}, {\"marker\": {\"color\": \"rgba(253, 205, 172, 0.6)\", \"line\": {\"color\": \"rgba(253, 205, 172, 1.0)\", \"width\": 1}}, \"name\": \"TournamentNo\", \"orientation\": \"v\", \"text\": \"\", \"type\": \"bar\", \"x\": [\"Dota 2\", \"Counter-Strike: Global Offensive\", \"Fortnite\", \"League of Legends\", \"StarCraft II\", \"Overwatch\", \"PLAYERUNKNOWN'S BATTLEGROUNDS\", \"Hearthstone\", \"Heroes of the Storm\", \"Arena of Valor\"], \"xaxis\": \"x2\", \"y\": [1434, 5252, 660, 2477, 5909, 743, 294, 898, 463, 51], \"yaxis\": \"y2\"}, {\"marker\": {\"color\": \"rgba(203, 213, 232, 0.6)\", \"line\": {\"color\": \"rgba(203, 213, 232, 1.0)\", \"width\": 1}}, \"name\": \"TotalMoney\", \"orientation\": \"v\", \"text\": \"\", \"type\": \"bar\", \"x\": [\"Dota 2\", \"Counter-Strike: Global Offensive\", \"Fortnite\", \"League of Legends\", \"StarCraft II\", \"Overwatch\", \"PLAYERUNKNOWN'S BATTLEGROUNDS\", \"Hearthstone\", \"Heroes of the Storm\", \"Arena of Valor\"], \"xaxis\": \"x3\", \"y\": [227419904.51, 102474261.25, 97508425.0, 79003448.94, 33914062.96, 26049333.28, 23710378.57, 23098378.24, 18177982.65, 15228710.62], \"yaxis\": \"y3\"}],                        {\"annotations\": [{\"font\": {\"size\": 16}, \"showarrow\": false, \"text\": \"PlayerNo\", \"x\": 0.14444444444444446, \"xanchor\": \"center\", \"xref\": \"paper\", \"y\": 1.0, \"yanchor\": \"bottom\", \"yref\": \"paper\"}, {\"font\": {\"size\": 16}, \"showarrow\": false, \"text\": \"TournamentNo\", \"x\": 0.5, \"xanchor\": \"center\", \"xref\": \"paper\", \"y\": 1.0, \"yanchor\": \"bottom\", \"yref\": \"paper\"}, {\"font\": {\"size\": 16}, \"showarrow\": false, \"text\": \"TotalMoney\", \"x\": 0.8555555555555556, \"xanchor\": \"center\", \"xref\": \"paper\", \"y\": 1.0, \"yanchor\": \"bottom\", \"yref\": \"paper\"}], \"legend\": {\"bgcolor\": \"#F5F6F9\", \"font\": {\"color\": \"#4D5663\"}}, \"paper_bgcolor\": \"#F5F6F9\", \"plot_bgcolor\": \"#F5F6F9\", \"template\": {\"data\": {\"bar\": [{\"error_x\": {\"color\": \"#2a3f5f\"}, \"error_y\": {\"color\": \"#2a3f5f\"}, \"marker\": {\"line\": {\"color\": \"#E5ECF6\", \"width\": 0.5}}, \"type\": \"bar\"}], \"barpolar\": [{\"marker\": {\"line\": {\"color\": \"#E5ECF6\", \"width\": 0.5}}, \"type\": \"barpolar\"}], \"carpet\": [{\"aaxis\": {\"endlinecolor\": \"#2a3f5f\", \"gridcolor\": \"white\", \"linecolor\": \"white\", \"minorgridcolor\": \"white\", \"startlinecolor\": \"#2a3f5f\"}, \"baxis\": {\"endlinecolor\": \"#2a3f5f\", \"gridcolor\": \"white\", \"linecolor\": \"white\", \"minorgridcolor\": \"white\", \"startlinecolor\": \"#2a3f5f\"}, \"type\": \"carpet\"}], \"choropleth\": [{\"colorbar\": {\"outlinewidth\": 0, \"ticks\": \"\"}, \"type\": \"choropleth\"}], \"contour\": [{\"colorbar\": {\"outlinewidth\": 0, \"ticks\": \"\"}, \"colorscale\": [[0.0, \"#0d0887\"], [0.1111111111111111, \"#46039f\"], [0.2222222222222222, \"#7201a8\"], [0.3333333333333333, \"#9c179e\"], [0.4444444444444444, \"#bd3786\"], [0.5555555555555556, \"#d8576b\"], [0.6666666666666666, \"#ed7953\"], [0.7777777777777778, \"#fb9f3a\"], [0.8888888888888888, \"#fdca26\"], [1.0, \"#f0f921\"]], \"type\": \"contour\"}], \"contourcarpet\": [{\"colorbar\": {\"outlinewidth\": 0, \"ticks\": \"\"}, \"type\": \"contourcarpet\"}], \"heatmap\": [{\"colorbar\": {\"outlinewidth\": 0, \"ticks\": \"\"}, \"colorscale\": [[0.0, \"#0d0887\"], [0.1111111111111111, \"#46039f\"], [0.2222222222222222, \"#7201a8\"], [0.3333333333333333, \"#9c179e\"], [0.4444444444444444, \"#bd3786\"], [0.5555555555555556, \"#d8576b\"], [0.6666666666666666, \"#ed7953\"], [0.7777777777777778, \"#fb9f3a\"], [0.8888888888888888, \"#fdca26\"], [1.0, \"#f0f921\"]], \"type\": \"heatmap\"}], \"heatmapgl\": [{\"colorbar\": {\"outlinewidth\": 0, \"ticks\": \"\"}, \"colorscale\": [[0.0, \"#0d0887\"], [0.1111111111111111, \"#46039f\"], [0.2222222222222222, \"#7201a8\"], [0.3333333333333333, \"#9c179e\"], [0.4444444444444444, \"#bd3786\"], [0.5555555555555556, \"#d8576b\"], [0.6666666666666666, \"#ed7953\"], [0.7777777777777778, \"#fb9f3a\"], [0.8888888888888888, \"#fdca26\"], [1.0, \"#f0f921\"]], \"type\": \"heatmapgl\"}], \"histogram\": [{\"marker\": {\"colorbar\": {\"outlinewidth\": 0, \"ticks\": \"\"}}, \"type\": \"histogram\"}], \"histogram2d\": [{\"colorbar\": {\"outlinewidth\": 0, \"ticks\": \"\"}, \"colorscale\": [[0.0, \"#0d0887\"], [0.1111111111111111, \"#46039f\"], [0.2222222222222222, \"#7201a8\"], [0.3333333333333333, \"#9c179e\"], [0.4444444444444444, \"#bd3786\"], [0.5555555555555556, \"#d8576b\"], [0.6666666666666666, \"#ed7953\"], [0.7777777777777778, \"#fb9f3a\"], [0.8888888888888888, \"#fdca26\"], [1.0, \"#f0f921\"]], \"type\": \"histogram2d\"}], \"histogram2dcontour\": [{\"colorbar\": {\"outlinewidth\": 0, \"ticks\": \"\"}, \"colorscale\": [[0.0, \"#0d0887\"], [0.1111111111111111, \"#46039f\"], [0.2222222222222222, \"#7201a8\"], [0.3333333333333333, \"#9c179e\"], [0.4444444444444444, \"#bd3786\"], [0.5555555555555556, \"#d8576b\"], [0.6666666666666666, \"#ed7953\"], [0.7777777777777778, \"#fb9f3a\"], [0.8888888888888888, \"#fdca26\"], [1.0, \"#f0f921\"]], \"type\": \"histogram2dcontour\"}], \"mesh3d\": [{\"colorbar\": {\"outlinewidth\": 0, \"ticks\": \"\"}, \"type\": \"mesh3d\"}], \"parcoords\": [{\"line\": {\"colorbar\": {\"outlinewidth\": 0, \"ticks\": \"\"}}, \"type\": \"parcoords\"}], \"pie\": [{\"automargin\": true, \"type\": \"pie\"}], \"scatter\": [{\"marker\": {\"colorbar\": {\"outlinewidth\": 0, \"ticks\": \"\"}}, \"type\": \"scatter\"}], \"scatter3d\": [{\"line\": {\"colorbar\": {\"outlinewidth\": 0, \"ticks\": \"\"}}, \"marker\": {\"colorbar\": {\"outlinewidth\": 0, \"ticks\": \"\"}}, \"type\": \"scatter3d\"}], \"scattercarpet\": [{\"marker\": {\"colorbar\": {\"outlinewidth\": 0, \"ticks\": \"\"}}, \"type\": \"scattercarpet\"}], \"scattergeo\": [{\"marker\": {\"colorbar\": {\"outlinewidth\": 0, \"ticks\": \"\"}}, \"type\": \"scattergeo\"}], \"scattergl\": [{\"marker\": {\"colorbar\": {\"outlinewidth\": 0, \"ticks\": \"\"}}, \"type\": \"scattergl\"}], \"scattermapbox\": [{\"marker\": {\"colorbar\": {\"outlinewidth\": 0, \"ticks\": \"\"}}, \"type\": \"scattermapbox\"}], \"scatterpolar\": [{\"marker\": {\"colorbar\": {\"outlinewidth\": 0, \"ticks\": \"\"}}, \"type\": \"scatterpolar\"}], \"scatterpolargl\": [{\"marker\": {\"colorbar\": {\"outlinewidth\": 0, \"ticks\": \"\"}}, \"type\": \"scatterpolargl\"}], \"scatterternary\": [{\"marker\": {\"colorbar\": {\"outlinewidth\": 0, \"ticks\": \"\"}}, \"type\": \"scatterternary\"}], \"surface\": [{\"colorbar\": {\"outlinewidth\": 0, \"ticks\": \"\"}, \"colorscale\": [[0.0, \"#0d0887\"], [0.1111111111111111, \"#46039f\"], [0.2222222222222222, \"#7201a8\"], [0.3333333333333333, \"#9c179e\"], [0.4444444444444444, \"#bd3786\"], [0.5555555555555556, \"#d8576b\"], [0.6666666666666666, \"#ed7953\"], [0.7777777777777778, \"#fb9f3a\"], [0.8888888888888888, \"#fdca26\"], [1.0, \"#f0f921\"]], \"type\": \"surface\"}], \"table\": [{\"cells\": {\"fill\": {\"color\": \"#EBF0F8\"}, \"line\": {\"color\": \"white\"}}, \"header\": {\"fill\": {\"color\": \"#C8D4E3\"}, \"line\": {\"color\": \"white\"}}, \"type\": \"table\"}]}, \"layout\": {\"annotationdefaults\": {\"arrowcolor\": \"#2a3f5f\", \"arrowhead\": 0, \"arrowwidth\": 1}, \"autotypenumbers\": \"strict\", \"coloraxis\": {\"colorbar\": {\"outlinewidth\": 0, \"ticks\": \"\"}}, \"colorscale\": {\"diverging\": [[0, \"#8e0152\"], [0.1, \"#c51b7d\"], [0.2, \"#de77ae\"], [0.3, \"#f1b6da\"], [0.4, \"#fde0ef\"], [0.5, \"#f7f7f7\"], [0.6, \"#e6f5d0\"], [0.7, \"#b8e186\"], [0.8, \"#7fbc41\"], [0.9, \"#4d9221\"], [1, \"#276419\"]], \"sequential\": [[0.0, \"#0d0887\"], [0.1111111111111111, \"#46039f\"], [0.2222222222222222, \"#7201a8\"], [0.3333333333333333, \"#9c179e\"], [0.4444444444444444, \"#bd3786\"], [0.5555555555555556, \"#d8576b\"], [0.6666666666666666, \"#ed7953\"], [0.7777777777777778, \"#fb9f3a\"], [0.8888888888888888, \"#fdca26\"], [1.0, \"#f0f921\"]], \"sequentialminus\": [[0.0, \"#0d0887\"], [0.1111111111111111, \"#46039f\"], [0.2222222222222222, \"#7201a8\"], [0.3333333333333333, \"#9c179e\"], [0.4444444444444444, \"#bd3786\"], [0.5555555555555556, \"#d8576b\"], [0.6666666666666666, \"#ed7953\"], [0.7777777777777778, \"#fb9f3a\"], [0.8888888888888888, \"#fdca26\"], [1.0, \"#f0f921\"]]}, \"colorway\": [\"#636efa\", \"#EF553B\", \"#00cc96\", \"#ab63fa\", \"#FFA15A\", \"#19d3f3\", \"#FF6692\", \"#B6E880\", \"#FF97FF\", \"#FECB52\"], \"font\": {\"color\": \"#2a3f5f\"}, \"geo\": {\"bgcolor\": \"white\", \"lakecolor\": \"white\", \"landcolor\": \"#E5ECF6\", \"showlakes\": true, \"showland\": true, \"subunitcolor\": \"white\"}, \"hoverlabel\": {\"align\": \"left\"}, \"hovermode\": \"closest\", \"mapbox\": {\"style\": \"light\"}, \"paper_bgcolor\": \"white\", \"plot_bgcolor\": \"#E5ECF6\", \"polar\": {\"angularaxis\": {\"gridcolor\": \"white\", \"linecolor\": \"white\", \"ticks\": \"\"}, \"bgcolor\": \"#E5ECF6\", \"radialaxis\": {\"gridcolor\": \"white\", \"linecolor\": \"white\", \"ticks\": \"\"}}, \"scene\": {\"xaxis\": {\"backgroundcolor\": \"#E5ECF6\", \"gridcolor\": \"white\", \"gridwidth\": 2, \"linecolor\": \"white\", \"showbackground\": true, \"ticks\": \"\", \"zerolinecolor\": \"white\"}, \"yaxis\": {\"backgroundcolor\": \"#E5ECF6\", \"gridcolor\": \"white\", \"gridwidth\": 2, \"linecolor\": \"white\", \"showbackground\": true, \"ticks\": \"\", \"zerolinecolor\": \"white\"}, \"zaxis\": {\"backgroundcolor\": \"#E5ECF6\", \"gridcolor\": \"white\", \"gridwidth\": 2, \"linecolor\": \"white\", \"showbackground\": true, \"ticks\": \"\", \"zerolinecolor\": \"white\"}}, \"shapedefaults\": {\"line\": {\"color\": \"#2a3f5f\"}}, \"ternary\": {\"aaxis\": {\"gridcolor\": \"white\", \"linecolor\": \"white\", \"ticks\": \"\"}, \"baxis\": {\"gridcolor\": \"white\", \"linecolor\": \"white\", \"ticks\": \"\"}, \"bgcolor\": \"#E5ECF6\", \"caxis\": {\"gridcolor\": \"white\", \"linecolor\": \"white\", \"ticks\": \"\"}}, \"title\": {\"x\": 0.05}, \"xaxis\": {\"automargin\": true, \"gridcolor\": \"white\", \"linecolor\": \"white\", \"ticks\": \"\", \"title\": {\"standoff\": 15}, \"zerolinecolor\": \"white\", \"zerolinewidth\": 2}, \"yaxis\": {\"automargin\": true, \"gridcolor\": \"white\", \"linecolor\": \"white\", \"ticks\": \"\", \"title\": {\"standoff\": 15}, \"zerolinecolor\": \"white\", \"zerolinewidth\": 2}}}, \"title\": {\"font\": {\"color\": \"#4D5663\"}, \"text\": \"TOP 10 GAMES IN TTL MONEY\"}, \"xaxis\": {\"anchor\": \"y\", \"domain\": [0.0, 0.2888888888888889], \"gridcolor\": \"#E1E5ED\", \"showgrid\": false, \"tickfont\": {\"color\": \"#4D5663\"}, \"title\": {\"font\": {\"color\": \"#4D5663\"}, \"text\": \"\"}, \"zerolinecolor\": \"#E1E5ED\"}, \"xaxis2\": {\"anchor\": \"y2\", \"domain\": [0.35555555555555557, 0.6444444444444445], \"gridcolor\": \"#E1E5ED\", \"showgrid\": false, \"tickfont\": {\"color\": \"#4D5663\"}, \"title\": {\"font\": {\"color\": \"#4D5663\"}, \"text\": \"\"}, \"zerolinecolor\": \"#E1E5ED\"}, \"xaxis3\": {\"anchor\": \"y3\", \"domain\": [0.7111111111111111, 1.0], \"gridcolor\": \"#E1E5ED\", \"showgrid\": false, \"tickfont\": {\"color\": \"#4D5663\"}, \"title\": {\"font\": {\"color\": \"#4D5663\"}, \"text\": \"\"}, \"zerolinecolor\": \"#E1E5ED\"}, \"yaxis\": {\"anchor\": \"x\", \"domain\": [0.0, 1.0], \"gridcolor\": \"#E1E5ED\", \"showgrid\": false, \"tickfont\": {\"color\": \"#4D5663\"}, \"title\": {\"font\": {\"color\": \"#4D5663\"}, \"text\": \"\"}, \"zerolinecolor\": \"#E1E5ED\"}, \"yaxis2\": {\"anchor\": \"x2\", \"domain\": [0.0, 1.0], \"gridcolor\": \"#E1E5ED\", \"showgrid\": false, \"tickfont\": {\"color\": \"#4D5663\"}, \"title\": {\"font\": {\"color\": \"#4D5663\"}, \"text\": \"\"}, \"zerolinecolor\": \"#E1E5ED\"}, \"yaxis3\": {\"anchor\": \"x3\", \"domain\": [0.0, 1.0], \"gridcolor\": \"#E1E5ED\", \"showgrid\": false, \"tickfont\": {\"color\": \"#4D5663\"}, \"title\": {\"font\": {\"color\": \"#4D5663\"}, \"text\": \"\"}, \"zerolinecolor\": \"#E1E5ED\"}},                        {\"showLink\": true, \"linkText\": \"Export to plot.ly\", \"plotlyServerURL\": \"https://plot.ly\", \"responsive\": true}                    ).then(function(){\n",
       "                            \n",
       "var gd = document.getElementById('2887a652-cb2b-43d0-bb26-94352decbaea');\n",
       "var x = new MutationObserver(function (mutations, observer) {{\n",
       "        var display = window.getComputedStyle(gd).display;\n",
       "        if (!display || display === 'none') {{\n",
       "            console.log([gd, 'removed!']);\n",
       "            Plotly.purge(gd);\n",
       "            observer.disconnect();\n",
       "        }}\n",
       "}});\n",
       "\n",
       "// Listen for the removal of the full notebook cells\n",
       "var notebookContainer = gd.closest('#notebook-container');\n",
       "if (notebookContainer) {{\n",
       "    x.observe(notebookContainer, {childList: true});\n",
       "}}\n",
       "\n",
       "// Listen for the clearing of the current output cell\n",
       "var outputEl = gd.closest('.output');\n",
       "if (outputEl) {{\n",
       "    x.observe(outputEl, {childList: true});\n",
       "}}\n",
       "\n",
       "                        })                };                });            </script>        </div>"
      ]
     },
     "metadata": {},
     "output_type": "display_data"
    },
    {
     "data": {
      "text/plain": [
       "<seaborn.axisgrid.PairGrid at 0x7f5dcc08c730>"
      ]
     },
     "execution_count": 29,
     "metadata": {},
     "output_type": "execute_result"
    },
    {
     "data": {
      "image/png": "[encoded data removed]",
      "text/plain": [
       "<Figure size 1080x540 with 12 Axes>"
      ]
     },
     "metadata": {
      "needs_background": "light"
     },
     "output_type": "display_data"
    }
   ],
   "source": [
    "Top10Games.iplot(kind='bar',\n",
    "                 subplots=True,\n",
    "                 subplot_titles=True,\n",
    "                 shape=(1, 3),\n",
    "                 showgrid=False,\n",
    "                 colorscale='pastel2',\n",
    "                 title='TOP 10 GAMES IN TTL MONEY')\n",
    "\n",
    "sns.pairplot(Top10Games, aspect=2,\n",
    "             diag_kind='kde', kind=\"reg\", plot_kws={'line_kws': {'color': 'orange'}})"
   ]
  },
  {
   "cell_type": "markdown",
   "id": "575b4bab",
   "metadata": {},
   "source": [
    "# Conclusion"
   ]
  },
  {
   "cell_type": "markdown",
   "id": "bcaaac8d",
   "metadata": {},
   "source": [
    "**SUMMARY**:\n",
    "1. ESport is growing quickly both in number of player and earnings. Its earnings value is flying off in 2010s\n",
    "2. There is a possibility that the ESport is focusing on big and quality tournament with higher prize in comparing to last decades.\n",
    "3. The Esport Earnings of a game is not affected by the number of player or tournament of that game. Such as, the most earning game is Dota 2 while its number of tournament and players are only at rank 5th.\n",
    "4. The most genres have highest earning are 'Multi Online Battle Arena' with Dota 2 at 1st place and 'First Person Shooter' with Counter-Strike:Go at 2nd place"
   ]
  },
  {
   "cell_type": "code",
   "execution_count": null,
   "id": "2e319975",
   "metadata": {},
   "outputs": [],
   "source": []
  },
  {
   "cell_type": "code",
   "execution_count": null,
   "id": "ab36de6c",
   "metadata": {},
   "outputs": [],
   "source": []
  },
  {
   "cell_type": "code",
   "execution_count": null,
   "id": "48b741d6",
   "metadata": {},
   "outputs": [],
   "source": []
  }
 ],
 "metadata": {
  "kernelspec": {
   "display_name": "Python 3",
   "language": "python",
   "name": "python3"
  },
  "language_info": {
   "codemirror_mode": {
    "name": "ipython",
    "version": 3
   },
   "file_extension": ".py",
   "mimetype": "text/x-python",
   "name": "python",
   "nbconvert_exporter": "python",
   "pygments_lexer": "ipython3",
   "version": "3.8.5"
  },
  "latex_envs": {
   "LaTeX_envs_menu_present": true,
   "autoclose": true,
   "autocomplete": true,
   "bibliofile": "biblio.bib",
   "cite_by": "apalike",
   "current_citInitial": 1,
   "eqLabelWithNumbers": true,
   "eqNumInitial": 1,
   "hotkeys": {
    "equation": "Ctrl-E",
    "itemize": "Ctrl-I"
   },
   "labels_anchors": false,
   "latex_user_defs": false,
   "report_style_numbering": false,
   "user_envs_cfg": false
  },
  "toc": {
   "base_numbering": 1,
   "nav_menu": {},
   "number_sections": true,
   "sideBar": true,
   "skip_h1_title": false,
   "title_cell": "Table of Contents",
   "title_sidebar": "Contents",
   "toc_cell": false,
   "toc_position": {
    "height": "calc(100% - 180px)",
    "left": "10px",
    "top": "150px",
    "width": "383.333px"
   },
   "toc_section_display": true,
   "toc_window_display": true
  },
  "varInspector": {
   "cols": {
    "lenName": 16,
    "lenType": 16,
    "lenVar": 40
   },
   "kernels_config": {
    "python": {
     "delete_cmd_postfix": "",
     "delete_cmd_prefix": "del ",
     "library": "var_list.py",
     "varRefreshCmd": "print(var_dic_list())"
    },
    "r": {
     "delete_cmd_postfix": ") ",
     "delete_cmd_prefix": "rm(",
     "library": "var_list.r",
     "varRefreshCmd": "cat(var_dic_list()) "
    }
   },
   "types_to_exclude": [
    "module",
    "function",
    "builtin_function_or_method",
    "instance",
    "_Feature"
   ],
   "window_display": false
  }
 },
 "nbformat": 4,
 "nbformat_minor": 5
}
